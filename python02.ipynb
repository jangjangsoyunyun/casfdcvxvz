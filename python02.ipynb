{
  "nbformat": 4,
  "nbformat_minor": 0,
  "metadata": {
    "colab": {
      "name": "python02.ipynb",
      "provenance": [],
      "collapsed_sections": [],
      "include_colab_link": true
    },
    "kernelspec": {
      "name": "python3",
      "display_name": "Python 3"
    },
    "language_info": {
      "name": "python"
    }
  },
  "cells": [
    {
      "cell_type": "markdown",
      "metadata": {
        "id": "view-in-github",
        "colab_type": "text"
      },
      "source": [
        "<a href=\"https://colab.research.google.com/github/jangjangsoyunyun/casfdcvxvz/blob/main/python02.ipynb\" target=\"_parent\"><img src=\"https://colab.research.google.com/assets/colab-badge.svg\" alt=\"Open In Colab\"/></a>"
      ]
    },
    {
      "cell_type": "markdown",
      "metadata": {
        "id": "U_N0OPT_KdOK"
      },
      "source": [
        "# **컬렉션자료형(collection data type)**\n",
        "+ 여러 요소를 묶어서 처리할 수 있는 자료형 \n",
        "+ 각 요소에 접근하는 방법이 제공\n",
        "\n",
        "![대체 텍스트](https://drive.google.com/uc?export=view&id=1qNHKZPJv546haViE6KBY3kg8gUlHJm_F)"
      ]
    },
    {
      "cell_type": "markdown",
      "metadata": {
        "id": "bskomZoIKr0G"
      },
      "source": [
        "## 문자열 "
      ]
    },
    {
      "cell_type": "markdown",
      "metadata": {
        "id": "wrbbIeVOdXc7"
      },
      "source": [
        "### 문자열 요소 접근"
      ]
    },
    {
      "cell_type": "code",
      "metadata": {
        "id": "CWKy8Fo7eq94",
        "colab": {
          "base_uri": "https://localhost:8080/"
        },
        "outputId": "11fc63bf-6d70-493f-ddad-d832d05bf984"
      },
      "source": [
        "#문자요소 접근 \n",
        "data = input()\n",
        "sum = 0\n",
        "for item in data :\n",
        "    if '1' <= item <= '9' :\n",
        "        sum = sum + int(item)\n",
        "\n",
        "print(f'{data} 중 숫자의 합은 {sum}')"
      ],
      "execution_count": null,
      "outputs": [
        {
          "output_type": "stream",
          "text": [
            "covid19\n",
            "covid19 중 숫자의 합은 10\n"
          ],
          "name": "stdout"
        }
      ]
    },
    {
      "cell_type": "code",
      "metadata": {
        "id": "hLhbsd1XiBFK",
        "colab": {
          "base_uri": "https://localhost:8080/",
          "height": 136
        },
        "outputId": "dd2ca1c9-0208-4152-b093-0ffb6584d196"
      },
      "source": [
        "# 문자열에 포함된 숫자들의 합\n",
        "for item in data :\n",
        "  if '1 <= item <= '9' :\n",
        "   print(item, type(item))\n",
        "\n"
      ],
      "execution_count": null,
      "outputs": [
        {
          "output_type": "error",
          "ename": "SyntaxError",
          "evalue": "ignored",
          "traceback": [
            "\u001b[0;36m  File \u001b[0;32m\"<ipython-input-56-732109a1fa34>\"\u001b[0;36m, line \u001b[0;32m3\u001b[0m\n\u001b[0;31m    if '1 <= item <= '9' :\u001b[0m\n\u001b[0m                      ^\u001b[0m\n\u001b[0;31mSyntaxError\u001b[0m\u001b[0;31m:\u001b[0m invalid syntax\n"
          ]
        }
      ]
    },
    {
      "cell_type": "markdown",
      "metadata": {
        "id": "EeRoj_qXeTUz"
      },
      "source": [
        "### 문자열 인덱싱\n",
        " -  문자열의 각 문자는 0부터 시작되는 인덱스를 가짐\n",
        " - [인덱스]를 이용하여 인덱스위치의 문자 추출 :  처음위치 [0], 마지막위치 [-1]\n",
        " "
      ]
    },
    {
      "cell_type": "code",
      "metadata": {
        "id": "RAggJY-wejri"
      },
      "source": [
        "s = 'Hello Python!'\n",
        "\n",
        "# 첫번쨰 문자\n",
        "\n",
        "# 마지막 문자 "
      ],
      "execution_count": null,
      "outputs": []
    },
    {
      "cell_type": "markdown",
      "metadata": {
        "id": "b_aP0gP72DaV"
      },
      "source": [
        "---\n",
        "### 해결문제\n",
        "---\n",
        "주민번호를 입력받아서 남여를 구분하시오. 입력형식 123456-1234567"
      ]
    },
    {
      "cell_type": "code",
      "metadata": {
        "id": "97RRp4Vf2VAs",
        "colab": {
          "base_uri": "https://localhost:8080/"
        },
        "outputId": "1495b259-ee77-4910-b8b3-3e84cc7f27fd"
      },
      "source": [
        "s = '123456-2234567'  \n",
        "if int(s[7])%2 == 0 :\n",
        "  print('여자입니다')\n",
        "else :\n",
        "  print('남자입니다')\n",
        "\n"
      ],
      "execution_count": null,
      "outputs": [
        {
          "output_type": "stream",
          "text": [
            "여자입니다\n"
          ],
          "name": "stdout"
        }
      ]
    },
    {
      "cell_type": "markdown",
      "metadata": {
        "id": "_ECVXl6meezS"
      },
      "source": [
        "\n",
        "### 문자열 슬라이싱 \n",
        " - [인덱스1:인덱스2]: 인덱스1 위치에서 인덱스2 -1 위치까지 잘라냄\n",
        " - [인덱스1:] : 인덱스1 위치에서 끝까지 잘라냄\n",
        " - [: 인덱스2] : 처음부터 인덱스2 -1 위치까지 잘라냄"
      ]
    },
    {
      "cell_type": "code",
      "metadata": {
        "id": "u7XUAQwvfSP2",
        "colab": {
          "base_uri": "https://localhost:8080/"
        },
        "outputId": "9114a7f2-3403-4dff-ff43-29d33106c84c"
      },
      "source": [
        "s = 'Hello Python!'\n",
        "\n",
        "print(s[0:5])"
      ],
      "execution_count": null,
      "outputs": [
        {
          "output_type": "stream",
          "text": [
            "Hello\n"
          ],
          "name": "stdout"
        }
      ]
    },
    {
      "cell_type": "markdown",
      "metadata": {
        "id": "9JuBLEqQjfRn"
      },
      "source": [
        "### 문자열 연산\n",
        "+ 문자열 더하기(+)\n",
        "+ 문자열 곱하기(*)"
      ]
    },
    {
      "cell_type": "code",
      "metadata": {
        "id": "1K42RN_kjj1L",
        "colab": {
          "base_uri": "https://localhost:8080/"
        },
        "outputId": "0d4a85f0-f627-49b0-83ca-89659912ad12"
      },
      "source": [
        "'''\n",
        "다음과 같이 출력\n",
        "------------------------------\n",
        "Hello Python!2021\n",
        "------------------------------\n",
        "'''\n",
        "s = ' Hello Python! 2021'\n",
        "m='안녕하세요'\n",
        "s*4\n",
        "s+m\n",
        "\n",
        "s.find('1')\n",
        "s.find('thon')\n",
        "s.split(' ')\n"
      ],
      "execution_count": null,
      "outputs": [
        {
          "output_type": "execute_result",
          "data": {
            "text/plain": [
              "['', 'Hello', 'Python!', '2021']"
            ]
          },
          "metadata": {
            "tags": []
          },
          "execution_count": 104
        }
      ]
    },
    {
      "cell_type": "markdown",
      "metadata": {
        "id": "AMTyZCqsfi6c"
      },
      "source": [
        "### **문자열 메소드**\n",
        "+ **len()** : 문자열 길이 구하기\n",
        "+ **count()** : 문자의 개수 구하기\n",
        "+ **find()** : 문자가 처음 나오는 위치 반환 , 없으면 -1\n",
        "+ **index()** : 문자가 처음 나오는 위치 반환, 없으면 오류\n",
        "+ **join()** : 문자열 사이에 문자 삽입, 삽입문자’.join(문자열)\n",
        "+ **upper()** :소문자를 대문자로 변환\n",
        "+ **lower()** : 대문자를 소문자로 변환\n",
        "+ **replace()** : 문자열 바꾸기\n",
        "+ **replace(원본, 변환문자)**\n",
        "+ **split()** : 문자열 나누기\n",
        " - 인수가 없으면 공백(스페이스, 탭, 엔터 등)을 기준"
      ]
    },
    {
      "cell_type": "markdown",
      "metadata": {
        "id": "wehzUobPivZ1"
      },
      "source": [
        "---\n",
        "### 해결문제\n",
        "---\n",
        "코로나(corona)는 라틴말로 왕관을 뜻하며 통상 태양을 둘러싼 외곽의 빛(광환)을 지칭한다. 코로나바이러스라는 이름은 전자현미경으로 이 바이러스를 관찰했을 때 마치 코로나와 유사한 모양을 띠어 붙여진 이름이다. 이번에 중국의 우환에서 시작된 코로나바이러스는 2019년에 발견된 새로운 코로나바이러스라는 뜻으로 2019-nCoV로 붙여졌다. nCoV는 novel(새로운) CoV(코로나바이러스)라는 뜻이다.\n",
        "\n",
        "+ 주어진 문자열은 문장으로 구성 되어 있는지 출력하시오. \n",
        "+ 찾고자 하는 단어를 입력 받아서 해당 단어가 몇 번 언급되었는지 확인해 보세요."
      ]
    },
    {
      "cell_type": "code",
      "metadata": {
        "id": "Bm6acluwjTZf",
        "colab": {
          "base_uri": "https://localhost:8080/"
        },
        "outputId": "9aa0ee80-d6fd-4eef-ae69-fcef03151a4c"
      },
      "source": [
        "'''\n",
        "다음과 같이 출력 \n",
        "--------------------------------------------------\n",
        "4개의 문장으로 이루어져있습니다.\n",
        "['코로나(corona)는 라틴말로 왕관을 뜻하며 통상 태양을 둘러싼 외곽의 빛(광환)을 지칭한다', ' 코로나바이러스라는 이름은 전자현미경으로 이 바이러스를 관찰했을 때 마치 코로나와 유사한 모양을 띠어 붙여진 이름이다', ' 이번에 중국의 우환에서 시작된 코로나바이러스는 2019년에 발견된 새로운 코로나바이러스라는 뜻으로 2019-nCoV로 붙여졌다', ' nCoV는 novel(새로운) CoV(코로나바이러스)라는 뜻이다', ' ']\n",
        "--------------------------------------------------\n",
        "찾고자하는 단어를 입력하세요.코로나\n",
        "--------------------------------------------------\n",
        "코로나는 6번 언급되었습니다.\n",
        "--------------------------------------------------\n",
        "'''\n",
        "\n",
        "corona = '''\n",
        "코로나(corona)는 라틴말로 왕관을 뜻하며 통상 태양을 둘러싼 외곽의 빛(광환)을 지칭한다. \n",
        "코로나바이러스라는 이름은 전자현미경으로 이 바이러스를 관찰했을 때 마치 코로나와 유사한 모양을 띠어 붙여진 이름이다. \n",
        "이번에 중국의 우환에서 시작된 코로나바이러스는 2019년에 발견된 새로운 코로나바이러스라는 뜻으로 2019-nCoV로 붙여졌다. \n",
        "nCoV는 novel(새로운) CoV(코로나바이러스)라는 뜻이다. \n",
        "'''\n",
        "\n",
        "corona.split(' . ')\n",
        "corona.replace('\\n' , ' ')\n",
        "corona.count('.')\n"
      ],
      "execution_count": null,
      "outputs": [
        {
          "output_type": "execute_result",
          "data": {
            "text/plain": [
              "4"
            ]
          },
          "metadata": {
            "tags": []
          },
          "execution_count": 114
        }
      ]
    },
    {
      "cell_type": "markdown",
      "metadata": {
        "id": "ijNhIH6CmrXJ"
      },
      "source": [
        "## **리스트(list)**\n",
        " - 리스트의 각 요소는 순서를 가지고 있음\n",
        " - 대괄호([])로 작성되며 각 요소는 쉼표(,)로 구분\n",
        " - 요소를 추가, 수정, 삭제 가능"
      ]
    },
    {
      "cell_type": "markdown",
      "metadata": {
        "id": "3SrhTGkinJz7"
      },
      "source": [
        "### 리스트 생성\n",
        "+ []나 리스트 함수"
      ]
    },
    {
      "cell_type": "code",
      "metadata": {
        "id": "9BAADR6snRE5",
        "colab": {
          "base_uri": "https://localhost:8080/",
          "height": 136
        },
        "outputId": "b2a60348-fcd1-4df4-880a-6f3861159bcf"
      },
      "source": [
        "lt = []\n",
        "\n",
        "x = [1, 2, 3, 'a', 'b' , [14.5, 5.6]\n",
        "print(x[0:4])"
      ],
      "execution_count": null,
      "outputs": [
        {
          "output_type": "error",
          "ename": "SyntaxError",
          "evalue": "ignored",
          "traceback": [
            "\u001b[0;36m  File \u001b[0;32m\"<ipython-input-116-158eb94248d4>\"\u001b[0;36m, line \u001b[0;32m5\u001b[0m\n\u001b[0;31m    print(x[0:4])\u001b[0m\n\u001b[0m        ^\u001b[0m\n\u001b[0;31mSyntaxError\u001b[0m\u001b[0;31m:\u001b[0m invalid syntax\n"
          ]
        }
      ]
    },
    {
      "cell_type": "markdown",
      "metadata": {
        "id": "DT3ToqCOoJKi"
      },
      "source": [
        "### 리스트 요소 접근"
      ]
    },
    {
      "cell_type": "code",
      "metadata": {
        "id": "9b4wEJ17oNLo",
        "colab": {
          "base_uri": "https://localhost:8080/",
          "height": 139
        },
        "outputId": "cfb917ff-d973-4e05-ddb3-11f277ed4aea"
      },
      "source": [
        "lt = ['1', '2', '3', '4', '5']\n",
        "\n",
        "# 각 요소 한줄로 출력 \n",
        "# 출력 : 1 2 3 4 5 \n",
        "\n",
        " It = ['1', '2'. '3', '4', '5']\n",
        " print(f'{It}=> {type(1t)})\n",
        "\n",
        " for i in It :\n",
        "  \n",
        "It = [int(i) for i in It]\n",
        "\n",
        "\n"
      ],
      "execution_count": 6,
      "outputs": [
        {
          "output_type": "error",
          "ename": "IndentationError",
          "evalue": "ignored",
          "traceback": [
            "\u001b[0;36m  File \u001b[0;32m\"<ipython-input-6-057ae17ab5ef>\"\u001b[0;36m, line \u001b[0;32m6\u001b[0m\n\u001b[0;31m    It = ['1', '2'. '3', '4', '5']\u001b[0m\n\u001b[0m    ^\u001b[0m\n\u001b[0;31mIndentationError\u001b[0m\u001b[0;31m:\u001b[0m unexpected indent\n"
          ]
        }
      ]
    },
    {
      "cell_type": "code",
      "metadata": {
        "colab": {
          "base_uri": "https://localhost:8080/"
        },
        "id": "Ia_hprxXESwL",
        "outputId": "cbd0af60-5a6f-44de-b6dd-34f810b8c971"
      },
      "source": [
        "lt = ['1', '2', '3', '4', '5']\n",
        "for item in lt :\n",
        " print(item, type(item), int(item), type(int(item)))\n"
      ],
      "execution_count": 17,
      "outputs": [
        {
          "output_type": "stream",
          "text": [
            "1 <class 'str'> 1 <class 'int'>\n",
            "2 <class 'str'> 2 <class 'int'>\n",
            "3 <class 'str'> 3 <class 'int'>\n",
            "4 <class 'str'> 4 <class 'int'>\n",
            "5 <class 'str'> 5 <class 'int'>\n"
          ],
          "name": "stdout"
        }
      ]
    },
    {
      "cell_type": "code",
      "metadata": {
        "colab": {
          "base_uri": "https://localhost:8080/"
        },
        "id": "CzTw-YF0oiq5",
        "outputId": "59be0b87-5d0f-40d8-d534-ee257fbf6f75"
      },
      "source": [
        "lt = ['1', '2', '3', '4', '5']\n",
        "print(f'{lt} => {type(lt)}')\n",
        "\n",
        "#요소를 모두 정수로 변환  "
      ],
      "execution_count": null,
      "outputs": [
        {
          "output_type": "stream",
          "text": [
            "['1', '2', '3', '4', '5'] => <class 'list'>\n"
          ],
          "name": "stdout"
        }
      ]
    },
    {
      "cell_type": "markdown",
      "metadata": {
        "id": "ZzvRHvMKtPo6"
      },
      "source": [
        "---\n",
        "\n",
        "**생각해보기 해결문제)**\n",
        "\n",
        "\n",
        "---\n",
        "정수형으로 입력되는 밑변과 높이를 공백을 기준으로 한 줄로 입력받는다면?\n",
        "* 예) 20 10"
      ]
    },
    {
      "cell_type": "code",
      "metadata": {
        "id": "LsKC8ezKtV5J",
        "colab": {
          "base_uri": "https://localhost:8080/"
        },
        "outputId": "75787906-1a30-4633-f605-f4b52f5a2a18"
      },
      "source": [
        "data = input()\n",
        "\n",
        "x = data.split(' ')\n",
        "x = [int(i) for i in x]\n",
        "print(x)\n",
        "print(x[0]*x[1]*1/2)"
      ],
      "execution_count": null,
      "outputs": [
        {
          "output_type": "stream",
          "text": [
            "20 10\n",
            "[20, 10]\n",
            "100.0\n"
          ],
          "name": "stdout"
        }
      ]
    },
    {
      "cell_type": "code",
      "metadata": {
        "colab": {
          "base_uri": "https://localhost:8080/",
          "height": 139
        },
        "id": "AqQNO0fyFbPt",
        "outputId": "91f30d5b-f370-43e5-84e3-1c0330eaae58"
      },
      "source": [
        "lt[0] = int(lt[0])\n",
        "lt[1] = int(lt[1])\n",
        "lt[2] = int(lt[2])\n",
        "\n",
        "#range(5) => 0-4\n",
        "for i in range(len(lt))\n",
        "  lt[i] = int(lt[i])"
      ],
      "execution_count": 14,
      "outputs": [
        {
          "output_type": "error",
          "ename": "SyntaxError",
          "evalue": "ignored",
          "traceback": [
            "\u001b[0;36m  File \u001b[0;32m\"<ipython-input-14-7245572fe00e>\"\u001b[0;36m, line \u001b[0;32m6\u001b[0m\n\u001b[0;31m    for i in range(len(lt))\u001b[0m\n\u001b[0m                           ^\u001b[0m\n\u001b[0;31mSyntaxError\u001b[0m\u001b[0;31m:\u001b[0m invalid syntax\n"
          ]
        }
      ]
    },
    {
      "cell_type": "markdown",
      "metadata": {
        "id": "ih2lzZgSnXr6"
      },
      "source": [
        "### 리스트 인덱싱\n",
        " - 요소의 선택은 0부터 시작되는 인덱스로 접근\n",
        " - 리스트명[인덱스]"
      ]
    },
    {
      "cell_type": "code",
      "metadata": {
        "id": "7d_oMnoinapv",
        "colab": {
          "base_uri": "https://localhost:8080/"
        },
        "outputId": "33155b74-76f5-4c25-ca00-87e6d681fd7d"
      },
      "source": [
        "lt = [1 , 3, 5]\n",
        "\n",
        "print(lt[2])"
      ],
      "execution_count": 20,
      "outputs": [
        {
          "output_type": "stream",
          "text": [
            "5\n"
          ],
          "name": "stdout"
        }
      ]
    },
    {
      "cell_type": "code",
      "metadata": {
        "colab": {
          "base_uri": "https://localhost:8080/"
        },
        "id": "vdQAaaNqEAAA",
        "outputId": "1149f999-b1ea-4655-ac81-46ff0a195dcf"
      },
      "source": [
        "print(lt[1:]) \n"
      ],
      "execution_count": 24,
      "outputs": [
        {
          "output_type": "stream",
          "text": [
            "[3, 5]\n"
          ],
          "name": "stdout"
        }
      ]
    },
    {
      "cell_type": "code",
      "metadata": {
        "id": "v2BjOO92ECtG"
      },
      "source": [
        ""
      ],
      "execution_count": null,
      "outputs": []
    },
    {
      "cell_type": "markdown",
      "metadata": {
        "id": "4kkhezktnt7Z"
      },
      "source": [
        "### 리스트 슬라이싱\n",
        " - 요소의 일부분 선택\n",
        " - 리스트명[시작인덱스:종료인덱스] : 종료인덱스는 포함되지 않음"
      ]
    },
    {
      "cell_type": "code",
      "metadata": {
        "id": "7xe1tbXvnzG5"
      },
      "source": [
        "lt = [1 , 3, 5]\n",
        "\n",
        "#3, 5 추출 "
      ],
      "execution_count": null,
      "outputs": []
    },
    {
      "cell_type": "markdown",
      "metadata": {
        "id": "TdtqmVq-pRDQ"
      },
      "source": [
        "### 리스트 연산\n",
        "+ 더하기(+) : 리스트와 리스트 연결\n",
        "+ 곱하기(*) : 리스트 요소 반복"
      ]
    },
    {
      "cell_type": "code",
      "metadata": {
        "id": "Yr-2ScgTpbe4",
        "colab": {
          "base_uri": "https://localhost:8080/"
        },
        "outputId": "50c54fd1-0423-475c-cc1a-8ce6b646cb05"
      },
      "source": [
        "lt1 = [1, 2, 3]\n",
        "lt2 = [3, 4, 5]\n",
        "\n",
        "#두 리스트 더하기 \n",
        "print(lt1+lt2)\n",
        "\n",
        "#lt1 리스트 요소 3번 반복하기 \n",
        "print(lt1*3)"
      ],
      "execution_count": 33,
      "outputs": [
        {
          "output_type": "stream",
          "text": [
            "[1, 2, 3, 3, 4, 5]\n",
            "[1, 2, 3, 1, 2, 3, 1, 2, 3]\n"
          ],
          "name": "stdout"
        }
      ]
    },
    {
      "cell_type": "code",
      "metadata": {
        "colab": {
          "base_uri": "https://localhost:8080/"
        },
        "id": "Ws_d_fjbIBB0",
        "outputId": "0436d1cb-8d4a-4764-f42e-70768a5e2c59"
      },
      "source": [
        "lt1 = [1, 2, 3]\n",
        "lt2 = [3, 4, 5]\n",
        "\n",
        "lt = [0,0,0]\n",
        "\n",
        "for i in range(len(lt1)) :\n",
        "  lt[i] = lt1[i] + lt2[i]\n",
        "\n",
        "print(lt)\n"
      ],
      "execution_count": 56,
      "outputs": [
        {
          "output_type": "stream",
          "text": [
            "[4, 6, 8]\n"
          ],
          "name": "stdout"
        }
      ]
    },
    {
      "cell_type": "code",
      "metadata": {
        "colab": {
          "base_uri": "https://localhost:8080/"
        },
        "id": "9F2F-sIVJxDY",
        "outputId": "72b0136b-43a1-4681-c969-57b168cb960c"
      },
      "source": [
        "lt1 = [1, 2, 3]\n",
        "lt2 = [3, 4, 5]\n",
        "\n",
        "lt = []\n",
        "\n",
        "for i in range(len(lt1)) :\n",
        "  lt.append(lt1[i] + lt2[i])\n",
        "\n",
        "  print(lt)"
      ],
      "execution_count": 49,
      "outputs": [
        {
          "output_type": "stream",
          "text": [
            "[4]\n",
            "[4, 6]\n",
            "[4, 6, 8]\n"
          ],
          "name": "stdout"
        }
      ]
    },
    {
      "cell_type": "code",
      "metadata": {
        "colab": {
          "base_uri": "https://localhost:8080/"
        },
        "id": "IV1-Pi8YKLMY",
        "outputId": "0ed79572-5f2f-4a03-8661-33cd7c656f5a"
      },
      "source": [
        "lt.insert(1, 2)\n",
        "lt"
      ],
      "execution_count": 53,
      "outputs": [
        {
          "output_type": "execute_result",
          "data": {
            "text/plain": [
              "[4, 2, 6, 8]"
            ]
          },
          "metadata": {
            "tags": []
          },
          "execution_count": 53
        }
      ]
    },
    {
      "cell_type": "code",
      "metadata": {
        "colab": {
          "base_uri": "https://localhost:8080/"
        },
        "id": "OKU7jLSbKcg9",
        "outputId": "e8c1f072-0e98-473c-fd01-46b658da41e4"
      },
      "source": [
        "lt.pop(0)\n",
        "lt"
      ],
      "execution_count": 54,
      "outputs": [
        {
          "output_type": "execute_result",
          "data": {
            "text/plain": [
              "[2, 6, 8]"
            ]
          },
          "metadata": {
            "tags": []
          },
          "execution_count": 54
        }
      ]
    },
    {
      "cell_type": "markdown",
      "metadata": {
        "id": "mXjykxxSqMzy"
      },
      "source": [
        "### 리스트 변경\n",
        "* 추가\n",
        " - 리스트명.append(추가요소) : 마지막에 추가\n",
        " - 리스트명.insert(인덱스, 추가요소) : 해당 인덱스에 요소 추가\n",
        "\n",
        "* 삭제\n",
        " - 리스트명.pop() : 마지막 요소 삭제\n",
        " - 리스트명.pop(인덱스) : 해당 인덱스 요소 삭제\n",
        " - 리스트명.remove(요소값) : 해당 요소값 삭제, 해당 값이 없으면 오류\n",
        "\n",
        "* 수정\n",
        " - 리스트명[인덱스]=변경값\n",
        " - (참고) isinstance()함수 : 특정 객체가 특정 타입인지에 대해서 확인할 수 있는 방법"
      ]
    },
    {
      "cell_type": "code",
      "metadata": {
        "id": "O-i_PPx-qQdh",
        "colab": {
          "base_uri": "https://localhost:8080/"
        },
        "outputId": "6c9abecf-6158-410e-cae7-55e41c74b245"
      },
      "source": [
        "# 정수를 입력받아서 약수리스트를 구하기\n",
        " \n",
        "lt = []\n",
        "n = int(input())\n",
        "for i in range(1, n+1) :\n",
        "  if n%i == 0 :\n",
        "   lt.append(i) \n",
        "print(lt)"
      ],
      "execution_count": 65,
      "outputs": [
        {
          "output_type": "stream",
          "text": [
            "10\n",
            "[1, 2, 5, 10]\n"
          ],
          "name": "stdout"
        }
      ]
    },
    {
      "cell_type": "code",
      "metadata": {
        "colab": {
          "base_uri": "https://localhost:8080/"
        },
        "id": "uM8RYScEK1xU",
        "outputId": "f8d3a21e-60ce-4650-f74e-9bb46c455c9d"
      },
      "source": [
        "lt1 = [1, 2, 3]\n",
        "lt2 = [3, 4, 5]\n",
        "\n",
        "lt = [0,0,0]\n",
        "\n",
        "for i in range(len(lt1)) :\n",
        "  lt[i] = lt1[i] + lt2[i]\n",
        "\n",
        "print(lt)\n"
      ],
      "execution_count": 18,
      "outputs": [
        {
          "output_type": "stream",
          "text": [
            "[4, 6, 8]\n"
          ],
          "name": "stdout"
        }
      ]
    },
    {
      "cell_type": "code",
      "metadata": {
        "colab": {
          "base_uri": "https://localhost:8080/"
        },
        "id": "RFc-e1uYqzl0",
        "outputId": "6252db9d-f9c9-4975-af64-9c8c63cdab0f"
      },
      "source": [
        "#두번째 위치에 9 추가\n",
        "\n",
        "lt.insert(1, 9)\n",
        "print(lt)\n"
      ],
      "execution_count": 19,
      "outputs": [
        {
          "output_type": "stream",
          "text": [
            "[4, 9, 6, 8]\n"
          ],
          "name": "stdout"
        }
      ]
    },
    {
      "cell_type": "code",
      "metadata": {
        "id": "JSlixMbVTm8J"
      },
      "source": [
        ""
      ],
      "execution_count": null,
      "outputs": []
    },
    {
      "cell_type": "code",
      "metadata": {
        "colab": {
          "base_uri": "https://localhost:8080/"
        },
        "id": "RVnIVGncRj-i",
        "outputId": "b464d644-b418-417e-9ea2-d5ac348540a2"
      },
      "source": [
        "print(f'합계 : {sum(lt)}')\n",
        "print(f'최대값 : {max(lt)}')\n",
        "print(f'최소값 : {min(lt)}')\n",
        "print(f'평균 : {sum(lt) / len(lt)}')"
      ],
      "execution_count": 3,
      "outputs": [
        {
          "output_type": "stream",
          "text": [
            "합계 : 18\n",
            "최대값 : 10\n",
            "최소값 : 1\n",
            "평균 : 4.5\n"
          ],
          "name": "stdout"
        }
      ]
    },
    {
      "cell_type": "code",
      "metadata": {
        "colab": {
          "base_uri": "https://localhost:8080/"
        },
        "id": "jWJkTNWXrRqC",
        "outputId": "a180d27c-2b31-4ae3-fa67-2301e155eb54"
      },
      "source": [
        "lt = [1, 2, 5 , 10]\n",
        "for i in lt :\n",
        "  if i!=2 : continue\n",
        "  lt.remove(i)\n",
        "lt\n",
        "#2를 제외한 모든 요소 삭제"
      ],
      "execution_count": 39,
      "outputs": [
        {
          "output_type": "execute_result",
          "data": {
            "text/plain": [
              "[1, 5, 10]"
            ]
          },
          "metadata": {
            "tags": []
          },
          "execution_count": 39
        }
      ]
    },
    {
      "cell_type": "code",
      "metadata": {
        "id": "5iGnTAmUr5tB",
        "colab": {
          "base_uri": "https://localhost:8080/",
          "height": 139
        },
        "outputId": "9c608125-b3dd-4344-ce5c-9c25f92a7891"
      },
      "source": [
        "# 문자인 요소를 숫자로 변경\n",
        "lt = [1, 2, '5', 10]\n",
        "\n",
        "for i in lt :\n",
        "  if str(i) : \n",
        "    lt str[i] = int(i)\n",
        "\n",
        "\n",
        "lt"
      ],
      "execution_count": 50,
      "outputs": [
        {
          "output_type": "error",
          "ename": "IndentationError",
          "evalue": "ignored",
          "traceback": [
            "\u001b[0;36m  File \u001b[0;32m\"<ipython-input-50-e9951e298140>\"\u001b[0;36m, line \u001b[0;32m6\u001b[0m\n\u001b[0;31m    lt str[i] = int(i)\u001b[0m\n\u001b[0m    ^\u001b[0m\n\u001b[0;31mIndentationError\u001b[0m\u001b[0;31m:\u001b[0m unexpected indent\n"
          ]
        }
      ]
    },
    {
      "cell_type": "markdown",
      "metadata": {
        "id": "sjMZQUazwNFi"
      },
      "source": [
        "### 리스트 메소드\n",
        "+ 리스트명.index(요소값) : 해당 요소값의 위치를 반환\n",
        " - 여러 개 요소가 존재하면 첫번째 위치 반환하고 없으면 오류\n",
        "+ 리스트명.count(요소값) : 리스트 요소 개수 구하기\n",
        "+ 리스트명.sort() : 오름차순 리스트 정렬\n",
        " - 리스트명.sort(reverse=True): 내림차순\n",
        "+ 리스트명.reverse() : 요소를 역순으로 뒤집어 줌 "
      ]
    },
    {
      "cell_type": "code",
      "metadata": {
        "colab": {
          "base_uri": "https://localhost:8080/"
        },
        "id": "FhqekGfzcCx5",
        "outputId": "e00cd755-95f7-4519-accd-54645a3f7d1e"
      },
      "source": [
        "lt = [4, 2, 1, 24]\n",
        "lt.count(2)"
      ],
      "execution_count": 58,
      "outputs": [
        {
          "output_type": "execute_result",
          "data": {
            "text/plain": [
              "1"
            ]
          },
          "metadata": {
            "tags": []
          },
          "execution_count": 58
        }
      ]
    },
    {
      "cell_type": "markdown",
      "metadata": {
        "id": "43DdLbrKLA6M"
      },
      "source": [
        "---\n",
        "### 해결문제\n",
        "\n",
        "\n",
        "---\n",
        "회문(palindrome)은 순서를 거꾸로 읽어도 제대로 읽은 것과 같은 단어와 문장이다, 단어를 입력받아 회문인지 판별하시오."
      ]
    },
    {
      "cell_type": "code",
      "metadata": {
        "colab": {
          "base_uri": "https://localhost:8080/"
        },
        "id": "PVx9r1zRc10w",
        "outputId": "bfd8cc49-f8f4-4fb4-868c-e51660658894"
      },
      "source": [
        "data = input()"
      ],
      "execution_count": 59,
      "outputs": [
        {
          "output_type": "stream",
          "text": [
            "토마토\n"
          ],
          "name": "stdout"
        }
      ]
    },
    {
      "cell_type": "code",
      "metadata": {
        "id": "EqHc4xGur1FO",
        "colab": {
          "base_uri": "https://localhost:8080/"
        },
        "outputId": "7c6cbaaf-fd28-4c65-9627-2c624b665227"
      },
      "source": [
        "# reverse와 join 활용 \n",
        "data = input()\n",
        "\n",
        "lts = list(data)\n",
        "lts.reverse()\n",
        "s = ''.join(lts)\n",
        "\n",
        "if data == s : print(f'{data}는 회문')\n",
        "else : print(f'{data}는 비회문')"
      ],
      "execution_count": 75,
      "outputs": [
        {
          "output_type": "stream",
          "text": [
            "토마토\n",
            "토마토는 회문\n"
          ],
          "name": "stdout"
        }
      ]
    },
    {
      "cell_type": "code",
      "metadata": {
        "id": "n8En5ca4xyOb"
      },
      "source": [
        "# [::-1] : 처음부터 끝까지 -1칸 간격으로 ( == 역순으로) \n",
        " "
      ],
      "execution_count": null,
      "outputs": []
    },
    {
      "cell_type": "markdown",
      "metadata": {
        "id": "7AJ45VMez0J1"
      },
      "source": [
        "### 리스트 내장함수\n",
        "* sum() : 리스트의 합을 반환\n",
        "* min() : 리스트 최소값 반환\n",
        "* max() : 리스트 최대값 반환\n",
        "* len() : 리스트 개수 반환"
      ]
    },
    {
      "cell_type": "markdown",
      "metadata": {
        "id": "SAa867TDz2jR"
      },
      "source": [
        "---\n",
        "### 해결문제\n",
        "\n",
        "\n",
        "---\n",
        "자신을 제외한 모든 약수의 함이 자신과 같은 수를 완전수라고 한다. \n",
        "입력한 값이 완전수 인지 확인해 보세요.\n",
        "예) 6, 28, 496"
      ]
    },
    {
      "cell_type": "code",
      "metadata": {
        "colab": {
          "base_uri": "https://localhost:8080/"
        },
        "id": "7SqPCCRFhBXD",
        "outputId": "2948daca-e3a7-4d7b-b46f-aa675fef6c3f"
      },
      "source": [
        "m = int(input())\n",
        "s = 0\n",
        "\n",
        "for i in range(1,m):\n",
        "  if m%i==0 and m!=i:\n",
        "    s=s+i\n",
        "if s==m:\n",
        " print('완전수')\n",
        "else :\n",
        "  print('완전수가 아님')"
      ],
      "execution_count": 117,
      "outputs": [
        {
          "output_type": "stream",
          "text": [
            "9\n",
            "완전수가 아님\n"
          ],
          "name": "stdout"
        }
      ]
    },
    {
      "cell_type": "code",
      "metadata": {
        "id": "Ag8tiyi4z7v1"
      },
      "source": [
        ""
      ],
      "execution_count": null,
      "outputs": []
    },
    {
      "cell_type": "markdown",
      "metadata": {
        "id": "ggnd2AxcgBQI"
      },
      "source": [
        "\n",
        "\n",
        "---\n",
        "### 해결문제\n",
        "\n",
        "\n",
        "---\n",
        "369게임은 3,6,9가 포함된 숫자가 나오면 박수를 치는 게임이다.\n",
        "\n",
        "이때, 해당 숫자에 여러개의 3,6,9가 포함되면 해당 개수만큼 박수를 쳐야한다.\n",
        "\n",
        "예를 들어, 36이면 2번의 박수를 쳐야한다.\n",
        "N을 입력받아서 N이전까지 박수 친 횟수를 구하시오.\n",
        "\n",
        "예) 입력: 35, 출력: 15\n",
        "\n"
      ]
    },
    {
      "cell_type": "code",
      "metadata": {
        "id": "zzI1CYU6gChI",
        "colab": {
          "base_uri": "https://localhost:8080/"
        },
        "outputId": "34863a42-066f-44c6-dd09-f31fedbf7d2b"
      },
      "source": [
        "n = int(input())\n",
        "\n",
        "cnt = 0\n",
        "for i in range(n) :\n",
        "  temp = list(str(i))\n",
        "  print(temp , \"=>\" , end = ' ' )\n",
        "  temp = [int(i) for i in temp]\n",
        "\n",
        "  for j in temp :\n",
        "    if j in [3, 6, 9] : cnt = cnt + 1\n",
        "\n",
        "print()\n",
        "print(cnt)"
      ],
      "execution_count": 119,
      "outputs": [
        {
          "output_type": "stream",
          "text": [
            "3\n",
            "['0'] => ['1'] => ['2'] => \n",
            "0\n"
          ],
          "name": "stdout"
        }
      ]
    },
    {
      "cell_type": "code",
      "metadata": {
        "colab": {
          "base_uri": "https://localhost:8080/",
          "height": 251
        },
        "id": "CvBOrTYpsOHh",
        "outputId": "1fdb3397-467a-4a02-f0a0-7a629e5d0766"
      },
      "source": [
        "tp = list(tp)\n",
        "print(tp, type(tp))\n",
        "\n",
        "tp[0] = 100\n",
        "tp = tuple(tp)\n",
        "print(tp, type(tp))"
      ],
      "execution_count": 120,
      "outputs": [
        {
          "output_type": "error",
          "ename": "NameError",
          "evalue": "ignored",
          "traceback": [
            "\u001b[0;31m---------------------------------------------------------------------------\u001b[0m",
            "\u001b[0;31mNameError\u001b[0m                                 Traceback (most recent call last)",
            "\u001b[0;32m<ipython-input-120-4a2551097152>\u001b[0m in \u001b[0;36m<module>\u001b[0;34m()\u001b[0m\n\u001b[0;32m----> 1\u001b[0;31m \u001b[0mtp\u001b[0m \u001b[0;34m=\u001b[0m \u001b[0mlist\u001b[0m\u001b[0;34m(\u001b[0m\u001b[0mtp\u001b[0m\u001b[0;34m)\u001b[0m\u001b[0;34m\u001b[0m\u001b[0;34m\u001b[0m\u001b[0m\n\u001b[0m\u001b[1;32m      2\u001b[0m \u001b[0mprint\u001b[0m\u001b[0;34m(\u001b[0m\u001b[0mtp\u001b[0m\u001b[0;34m,\u001b[0m \u001b[0mtype\u001b[0m\u001b[0;34m(\u001b[0m\u001b[0mtp\u001b[0m\u001b[0;34m)\u001b[0m\u001b[0;34m)\u001b[0m\u001b[0;34m\u001b[0m\u001b[0;34m\u001b[0m\u001b[0m\n\u001b[1;32m      3\u001b[0m \u001b[0;34m\u001b[0m\u001b[0m\n\u001b[1;32m      4\u001b[0m \u001b[0mtp\u001b[0m\u001b[0;34m[\u001b[0m\u001b[0;36m0\u001b[0m\u001b[0;34m]\u001b[0m \u001b[0;34m=\u001b[0m \u001b[0;36m100\u001b[0m\u001b[0;34m\u001b[0m\u001b[0;34m\u001b[0m\u001b[0m\n\u001b[1;32m      5\u001b[0m \u001b[0mtp\u001b[0m \u001b[0;34m=\u001b[0m \u001b[0mtuple\u001b[0m\u001b[0;34m(\u001b[0m\u001b[0mtp\u001b[0m\u001b[0;34m)\u001b[0m\u001b[0;34m\u001b[0m\u001b[0;34m\u001b[0m\u001b[0m\n",
            "\u001b[0;31mNameError\u001b[0m: name 'tp' is not defined"
          ]
        }
      ]
    },
    {
      "cell_type": "markdown",
      "metadata": {
        "id": "gyS_EUW72Rkg"
      },
      "source": [
        "## 튜플(tuple) \n",
        "+ 튜플의 각 요소는 순서를 가지고 있음\n",
        "+ 괄호(())로 작성되며 각 요소는 쉼표(,)로 구분\n",
        "+ 요소를 추가, 수정, 삭제 불가능\n",
        "+ **한번 결정된 요소는 변경 불가능**\n",
        "+ **인덱싱과 슬라이싱은 리스트와 동일**\n",
        "+ $+$와 $*$연산은 리스트와 동일\n",
        "+ 각 요소에 변수 할당 가능\n",
        " - x, y = (10, 20)"
      ]
    },
    {
      "cell_type": "markdown",
      "metadata": {
        "id": "Zu9JAJs22niA"
      },
      "source": [
        "---\n",
        "\n",
        "**생각해보기)**\n",
        "\n",
        "\n",
        "---\n",
        "튜플의 내용을 변경하고 싶을 경우는?\n"
      ]
    },
    {
      "cell_type": "markdown",
      "metadata": {
        "id": "VXfYSOdW8adn"
      },
      "source": [
        "## 딕션너리(dictionary)\n",
        " - 키(key)와 값(value) 쌍을 요소로 가짐\n",
        " - 중괄호({})로 작성되며 각 요소는 쉼표(,)로 구분\n",
        " - 순서 없음 \n",
        " - 키는 변경할 수 없으며 값은 변경가능 \n"
      ]
    },
    {
      "cell_type": "code",
      "metadata": {
        "id": "ngtkAr4y9h6p"
      },
      "source": [
        "areadata = {'서울시':57, '부산시':62, '대구시':59, \n",
        "            '인천시':59, '강화군':58, '서해5도' : 64, \n",
        "            '광주시' :62, '대전시':60, '울산시':53, \n",
        "            '세종시':58\t}"
      ],
      "execution_count": 10,
      "outputs": []
    },
    {
      "cell_type": "code",
      "metadata": {
        "id": "OQkCzUdKv4a-"
      },
      "source": [
        "areadata.get(\"부산\")"
      ],
      "execution_count": 11,
      "outputs": []
    },
    {
      "cell_type": "markdown",
      "metadata": {
        "id": "8BUk47wo8gvW"
      },
      "source": [
        "### **딕션너리 접근**\n",
        " - 특정 요소 값 가져오기\n",
        "   + **딕션너리명[키]**\n",
        "   + **닥션너리명.get(키값)**\n",
        "    + Key에 대응되는 Value를 돌려줌\n",
        "    + 딕션너리명[키값]인 것과 동일 \n",
        "    + 차이점 : 키가 없을 경우 딕션너리명[키값]은 오류이고 get()으로 가져올 경우는 none\n",
        " - 요소 키 컬렉션  : 딕션너리명.keys()\n",
        " - 요소 값 컬렉션 : 딕션너리명.values()\n",
        " - 키와 요소 컬렉션은 list() 생성자로 리스트로 변환가능\n"
      ]
    },
    {
      "cell_type": "code",
      "metadata": {
        "id": "M39pJ_QNzlLv"
      },
      "source": [
        "#부산시 자료 가져오기\n",
        " "
      ],
      "execution_count": null,
      "outputs": []
    },
    {
      "cell_type": "code",
      "metadata": {
        "id": "gujVMNaN9m3M",
        "colab": {
          "base_uri": "https://localhost:8080/"
        },
        "outputId": "8b00d1b5-134a-4c6e-83f0-8d540224f5eb"
      },
      "source": [
        "print(areadata)\n",
        "print(areadata.keys())\n",
        "print(areadata.values())"
      ],
      "execution_count": 13,
      "outputs": [
        {
          "output_type": "stream",
          "text": [
            "{'서울시': 57, '부산시': 62, '대구시': 59, '인천시': 59, '강화군': 58, '서해5도': 64, '광주시': 62, '대전시': 60, '울산시': 53, '세종시': 58}\n",
            "dict_keys(['서울시', '부산시', '대구시', '인천시', '강화군', '서해5도', '광주시', '대전시', '울산시', '세종시'])\n",
            "dict_values([57, 62, 59, 59, 58, 64, 62, 60, 53, 58])\n"
          ],
          "name": "stdout"
        }
      ]
    },
    {
      "cell_type": "code",
      "metadata": {
        "colab": {
          "base_uri": "https://localhost:8080/"
        },
        "id": "9-Wi5n4hxCzl",
        "outputId": "ce9de571-71c8-45f4-d68b-6072fea9df08"
      },
      "source": [
        "areadata['충청'] = 1\n",
        "areadata['제주'] = 100\n",
        "areadata['거제시'] = 1000\n",
        "areadata['김해'] = 10000\n",
        "areadata\n",
        "\n",
        "\n"
      ],
      "execution_count": 29,
      "outputs": [
        {
          "output_type": "execute_result",
          "data": {
            "text/plain": [
              "{'강화군': 58,\n",
              " '거제시': 1000,\n",
              " '광주시': 62,\n",
              " '김해': 10000,\n",
              " '대구시': 59,\n",
              " '대전시': 60,\n",
              " '부산시': 70,\n",
              " '서울시': 57,\n",
              " '서해5도': 64,\n",
              " '세종시': 58,\n",
              " '울산시': 53,\n",
              " '인천시': 59,\n",
              " '제주': 100,\n",
              " '충청': 1}"
            ]
          },
          "metadata": {
            "tags": []
          },
          "execution_count": 29
        }
      ]
    },
    {
      "cell_type": "code",
      "metadata": {
        "colab": {
          "base_uri": "https://localhost:8080/"
        },
        "id": "acLA_gRuxXVv",
        "outputId": "34089fd5-bf04-4825-f5e6-e58dadbba9e5"
      },
      "source": [
        "del areadata['거제시']\n",
        "del areadata['김해']\n",
        "areadata"
      ],
      "execution_count": 30,
      "outputs": [
        {
          "output_type": "execute_result",
          "data": {
            "text/plain": [
              "{'강화군': 58,\n",
              " '광주시': 62,\n",
              " '대구시': 59,\n",
              " '대전시': 60,\n",
              " '부산시': 70,\n",
              " '서울시': 57,\n",
              " '서해5도': 64,\n",
              " '세종시': 58,\n",
              " '울산시': 53,\n",
              " '인천시': 59,\n",
              " '제주': 100,\n",
              " '충청': 1}"
            ]
          },
          "metadata": {
            "tags": []
          },
          "execution_count": 30
        }
      ]
    },
    {
      "cell_type": "code",
      "metadata": {
        "id": "HM3IT7dN-B9q",
        "colab": {
          "base_uri": "https://localhost:8080/"
        },
        "outputId": "c40f6a69-e9ba-45e2-fbd8-fb5e5ee5c75a"
      },
      "source": [
        "#키와 값으로 출력 \n",
        "areadata['부산시'] = 70\n",
        "areadata"
      ],
      "execution_count": 17,
      "outputs": [
        {
          "output_type": "execute_result",
          "data": {
            "text/plain": [
              "{'강화군': 58,\n",
              " '광주시': 62,\n",
              " '대구시': 59,\n",
              " '대전시': 60,\n",
              " '부산시': 70,\n",
              " '서울시': 57,\n",
              " '서해5도': 64,\n",
              " '세종시': 58,\n",
              " '울산시': 53,\n",
              " '인천시': 59}"
            ]
          },
          "metadata": {
            "tags": []
          },
          "execution_count": 17
        }
      ]
    },
    {
      "cell_type": "markdown",
      "metadata": {
        "id": "NOiOmi-78m1x"
      },
      "source": [
        "### **요소 변경**\n",
        "* 추가 : 딕션너리명[추가키]=값\n",
        "* 수정 : 딕션너리명[키]=값\n",
        "* 삭제\n",
        " - del 딕션너리명[키]\n",
        " - 딕션너리명.pop[키]"
      ]
    },
    {
      "cell_type": "markdown",
      "metadata": {
        "id": "XMbGob4U-UX-"
      },
      "source": [
        "---\n",
        "\n",
        "\n",
        "### 해결문제\n",
        "\n",
        "---\n",
        "지역별 식중독 지수와 대응요령 딕션너리를 참고하여 해당 지역을 입력 받아서 대응요령을 출력하시오.\n",
        "\n",
        "\n",
        "+ 위험 : 86 이상 \n",
        " - 설사, 구토 등 식중독 의심 증상이 있으면 의료기관을 방문하여 의사 지시에 따름\n",
        "\n",
        "+ 경고:71 이상 86 미만\n",
        " - 조리도구는 세척, 소독 등을 거쳐 세균오염을 방지하고 유통기한, 보관방법 등을 확인하여 음식물 조리. 보관에 각별히 주의하여야 함\n",
        "\n",
        "+ 주의:55 이상 71 미만\n",
        " - 조리음식은 중심부까지 75℃(어패류 85℃)로 1분 이상 완전히 익히고 외부로 운반할 때에는 가급적 아이스박스 등을 이용하여 10℃이하에서 보관 및 운반\n",
        "\n",
        "+ 관심:55 미만\n",
        " - 화장실 사용 후, 귀가 후, 조리 전에 손 씻기를 생활화\n",
        "\n",
        "\n"
      ]
    },
    {
      "cell_type": "code",
      "metadata": {
        "id": "aVktTyG3-Tr1"
      },
      "source": [
        "areadata = {'서울시':57, '부산시':62, '대구시':59, \n",
        "            '인천시':59, '강화군':58, '서해5도' : 64, \n",
        "            '광주시' :62, '대전시':60, '울산시':53, \n",
        "            '세종시':58\t}\n",
        "\n",
        "report = {'위험': '설사, 구토 등 식중독 의심 증상이 있으면 의료기관을 방문하여 의사 지시에 따름',\n",
        "         '경고': '조리도구는 세척, 소독 등을 거쳐 세균오염을 방지하고 유통기한, 보관방법 등을 확인하여 음식물 조리. 보관에 각별히 주의하여야 함',\n",
        "         '주의': '조리음식은 중심부까지 75℃(어패류 85℃)로 1분 이상 완전히 익히고 외부로 운반할 때에는 가급적 아이스박스 등을 이용하여 10℃이하에서 보관 및 운반',\n",
        "         '관심': '화장실 사용 후, 귀가 후, 조리 전에 손 씻기를 생활화'}"
      ],
      "execution_count": null,
      "outputs": []
    },
    {
      "cell_type": "code",
      "metadata": {
        "id": "30BBbUL0-gg5"
      },
      "source": [
        "'''\n",
        "다음과 같이 출력 \n",
        "서울시(주의) : 조리음식은 중심부까지 75℃(어패류 85℃)로 1분 이상 완전히 익히고 외부로 운반할 때에는 가급적 아이스박스 등을 이용하여 10℃이하에서 보관 및 운반\n",
        "부산시(주의) : 조리음식은 중심부까지 75℃(어패류 85℃)로 1분 이상 완전히 익히고 외부로 운반할 때에는 가급적 아이스박스 등을 이용하여 10℃이하에서 보관 및 운반\n",
        "대구시(주의) : 조리음식은 중심부까지 75℃(어패류 85℃)로 1분 이상 완전히 익히고 외부로 운반할 때에는 가급적 아이스박스 등을 이용하여 10℃이하에서 보관 및 운반\n",
        "인천시(주의) : 조리음식은 중심부까지 75℃(어패류 85℃)로 1분 이상 완전히 익히고 외부로 운반할 때에는 가급적 아이스박스 등을 이용하여 10℃이하에서 보관 및 운반\n",
        "강화군(주의) : 조리음식은 중심부까지 75℃(어패류 85℃)로 1분 이상 완전히 익히고 외부로 운반할 때에는 가급적 아이스박스 등을 이용하여 10℃이하에서 보관 및 운반\n",
        "서해5도(주의) : 조리음식은 중심부까지 75℃(어패류 85℃)로 1분 이상 완전히 익히고 외부로 운반할 때에는 가급적 아이스박스 등을 이용하여 10℃이하에서 보관 및 운반\n",
        "광주시(주의) : 조리음식은 중심부까지 75℃(어패류 85℃)로 1분 이상 완전히 익히고 외부로 운반할 때에는 가급적 아이스박스 등을 이용하여 10℃이하에서 보관 및 운반\n",
        "대전시(주의) : 조리음식은 중심부까지 75℃(어패류 85℃)로 1분 이상 완전히 익히고 외부로 운반할 때에는 가급적 아이스박스 등을 이용하여 10℃이하에서 보관 및 운반\n",
        "울산시(관심) : 화장실 사용 후, 귀가 후, 조리 전에 손 씻기를 생활화\n",
        "세종시(주의) : 조리음식은 중심부까지 75℃(어패류 85℃)로 1분 이상 완전히 익히고 외부로 운반할 때에는 가급적 아이스박스 등을 이용하여 10℃이하에서 보관 및 운반\n",
        "'''\n",
        " "
      ],
      "execution_count": null,
      "outputs": []
    },
    {
      "cell_type": "markdown",
      "metadata": {
        "id": "A7PVvgK3CCOq"
      },
      "source": [
        "## 집합(set)\n",
        "+ **특징**\n",
        " - 중복 없는 요소로만 구성\n",
        " - 중괄호({}) 작성되며 각 요소는 쉼표(,)로 구분\n",
        " - 순서 없음\n",
        "\n",
        "+ **생성자 set()**\n",
        " - 리스트나 튜플의 중복 요소 제거 \n",
        "\n",
        "+ **요소 추가**\n",
        " - 집합명.add(요소) : 하나의 요소 추가\n",
        " - 집합명.update(추가집합) : 여러 요소를 추가\n",
        "\n",
        "+ **요소 삭제**\n",
        " - 집합명.remove(요소값) : 하나의 요소 삭제\n",
        " - 집합명.clear() : 모든 요소 삭제\n",
        " \n",
        "+ **집합 연산**\n",
        " - 교집합 : &\n",
        " - 합집합 : |\n",
        " - 차집합 : -"
      ]
    },
    {
      "cell_type": "code",
      "metadata": {
        "id": "2vi9kDbZC73c"
      },
      "source": [
        "lt = [11, 3,1, 2, 2, 3,3, 5]\n",
        "\n",
        "#중복 요소 제거  "
      ],
      "execution_count": null,
      "outputs": []
    },
    {
      "cell_type": "markdown",
      "metadata": {
        "id": "gXPzTZdiDTtL"
      },
      "source": [
        "## **zip()**\n",
        "+ 동일한 개수로 이루어진 컬렉션 자료형을 묶어 주는 역할을 하는 함수"
      ]
    },
    {
      "cell_type": "code",
      "metadata": {
        "id": "fmBetaMKDg3-"
      },
      "source": [
        "lt = [10,50,30]\n",
        "tp = ('a','b','c')\n",
        "\n",
        "#딕션너리 만들기 \n"
      ],
      "execution_count": null,
      "outputs": []
    },
    {
      "cell_type": "code",
      "metadata": {
        "id": "xNGHaezSDpGy"
      },
      "source": [
        "#리스트 만들기 "
      ],
      "execution_count": null,
      "outputs": []
    }
  ]
}