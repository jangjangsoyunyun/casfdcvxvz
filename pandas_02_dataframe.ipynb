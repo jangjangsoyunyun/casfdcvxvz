{
  "nbformat": 4,
  "nbformat_minor": 0,
  "metadata": {
    "colab": {
      "name": "pandas_02_dataframe.ipynb",
      "provenance": [],
      "collapsed_sections": [],
      "include_colab_link": true
    },
    "kernelspec": {
      "name": "python3",
      "display_name": "Python 3"
    },
    "language_info": {
      "name": "python"
    }
  },
  "cells": [
    {
      "cell_type": "markdown",
      "metadata": {
        "id": "view-in-github",
        "colab_type": "text"
      },
      "source": [
        "<a href=\"https://colab.research.google.com/github/jangjangsoyunyun/casfdcvxvz/blob/main/pandas_02_dataframe.ipynb\" target=\"_parent\"><img src=\"https://colab.research.google.com/assets/colab-badge.svg\" alt=\"Open In Colab\"/></a>"
      ]
    },
    {
      "cell_type": "markdown",
      "metadata": {
        "id": "c91S0nenHIgF"
      },
      "source": [
        "# **DataFrame**\n",
        "+ 2차원 자료구조인 DataFrame는 행과 열이 있는 테이블 데이터\n"
      ]
    },
    {
      "cell_type": "markdown",
      "metadata": {
        "id": "5PCO1T_6HkNU"
      },
      "source": [
        "## **pandas 라이브러리 추가**"
      ]
    },
    {
      "cell_type": "code",
      "metadata": {
        "id": "TRAkQWf2HhxB"
      },
      "source": [
        "import pandas as pd "
      ],
      "execution_count": 4,
      "outputs": []
    },
    {
      "cell_type": "code",
      "metadata": {
        "colab": {
          "base_uri": "https://localhost:8080/"
        },
        "id": "kSufT32laAtm",
        "outputId": "8c4f8961-1f5d-4812-d765-b847d9d7a8cd"
      },
      "source": [
        "from google.colab import drive\n",
        "drive.mount('/content/drive')"
      ],
      "execution_count": 5,
      "outputs": [
        {
          "output_type": "stream",
          "text": [
            "Drive already mounted at /content/drive; to attempt to forcibly remount, call drive.mount(\"/content/drive\", force_remount=True).\n"
          ],
          "name": "stdout"
        }
      ]
    },
    {
      "cell_type": "code",
      "metadata": {
        "id": "sQxDp2oQaeez"
      },
      "source": [
        ""
      ],
      "execution_count": null,
      "outputs": []
    },
    {
      "cell_type": "markdown",
      "metadata": {
        "id": "BApiG-yeJqIN"
      },
      "source": [
        "### 복습문제) \n",
        "다음 4개의 리스트를 이용하여 각 지역별 평균, 최대, 최소값 리스트를 값으로 가지는 딕션너라를 작성하시오.\n",
        "* 데이터참고:https://www.airkorea.or.kr/web/weekSearch?pMENU_NO=111\n",
        "```\n",
        "area = ['서울','부산','대구','인천','광주','대전','울산','세종','경기','강원','충북','충남','전북','전남','경북','경남','제주']\n",
        "pm25_avg = [20,13,15,20,19,16,14,18,20,14,19,23,23,14,15,13,14]\n",
        "pm25_max = [22,18,18,30,23,20,16,19,27,18,26,29,30,27,23,17,16]\n",
        "pm25_min = [16,10,11,12,15,12,11,17,13,9,14,19,14,10,8,9,11]\n",
        "```"
      ]
    },
    {
      "cell_type": "code",
      "metadata": {
        "id": "CIOZ77trF5l9"
      },
      "source": [
        "area = ['서울',\t'부산',\t'대구',\t'인천',\t'광주',\t'대전',\t'울산',\t'세종',\t'경기',\t'강원',\t'충북',\t'충남',\t'전북',\t'전남',\t'경북',\t'경남',\t'제주']\n",
        "pm25_avg = [20,13,15,20,19,16,14,18,20,14,19,23,23,14,15,13,14]\n",
        "pm25_max = [22,18,18,30,23,20,16,19,27,18,26,29,30,27,23,17,16]\n",
        "pm25_min = [16,10,11,12,15,12,11,17,13,9,14,19,14,10,8,9,11]"
      ],
      "execution_count": 6,
      "outputs": []
    },
    {
      "cell_type": "code",
      "metadata": {
        "colab": {
          "base_uri": "https://localhost:8080/"
        },
        "id": "coPelN_Gbg2y",
        "outputId": "59d67191-b05b-4dc7-d4c6-f02b885a03dd"
      },
      "source": [
        "print(area)"
      ],
      "execution_count": 7,
      "outputs": [
        {
          "output_type": "stream",
          "text": [
            "['서울', '부산', '대구', '인천', '광주', '대전', '울산', '세종', '경기', '강원', '충북', '충남', '전북', '전남', '경북', '경남', '제주']\n"
          ],
          "name": "stdout"
        }
      ]
    },
    {
      "cell_type": "markdown",
      "metadata": {
        "id": "gUzx35xJMkFR"
      },
      "source": [
        "## 데이터프레임으로 변환\n",
        "* **pd.DataFrame()**"
      ]
    },
    {
      "cell_type": "markdown",
      "metadata": {
        "id": "c1kVpPdfNRTZ"
      },
      "source": [
        "###  리스트를 데이터프레임으로 변환"
      ]
    },
    {
      "cell_type": "code",
      "metadata": {
        "id": "VVTw0bVSNedW",
        "colab": {
          "base_uri": "https://localhost:8080/",
          "height": 550
        },
        "outputId": "ff790dac-303d-4f23-edf2-19dc411fb655"
      },
      "source": [
        "df = pd.DataFrame(area)\n",
        "df"
      ],
      "execution_count": 8,
      "outputs": [
        {
          "output_type": "execute_result",
          "data": {
            "text/html": [
              "<div>\n",
              "<style scoped>\n",
              "    .dataframe tbody tr th:only-of-type {\n",
              "        vertical-align: middle;\n",
              "    }\n",
              "\n",
              "    .dataframe tbody tr th {\n",
              "        vertical-align: top;\n",
              "    }\n",
              "\n",
              "    .dataframe thead th {\n",
              "        text-align: right;\n",
              "    }\n",
              "</style>\n",
              "<table border=\"1\" class=\"dataframe\">\n",
              "  <thead>\n",
              "    <tr style=\"text-align: right;\">\n",
              "      <th></th>\n",
              "      <th>0</th>\n",
              "    </tr>\n",
              "  </thead>\n",
              "  <tbody>\n",
              "    <tr>\n",
              "      <th>0</th>\n",
              "      <td>서울</td>\n",
              "    </tr>\n",
              "    <tr>\n",
              "      <th>1</th>\n",
              "      <td>부산</td>\n",
              "    </tr>\n",
              "    <tr>\n",
              "      <th>2</th>\n",
              "      <td>대구</td>\n",
              "    </tr>\n",
              "    <tr>\n",
              "      <th>3</th>\n",
              "      <td>인천</td>\n",
              "    </tr>\n",
              "    <tr>\n",
              "      <th>4</th>\n",
              "      <td>광주</td>\n",
              "    </tr>\n",
              "    <tr>\n",
              "      <th>5</th>\n",
              "      <td>대전</td>\n",
              "    </tr>\n",
              "    <tr>\n",
              "      <th>6</th>\n",
              "      <td>울산</td>\n",
              "    </tr>\n",
              "    <tr>\n",
              "      <th>7</th>\n",
              "      <td>세종</td>\n",
              "    </tr>\n",
              "    <tr>\n",
              "      <th>8</th>\n",
              "      <td>경기</td>\n",
              "    </tr>\n",
              "    <tr>\n",
              "      <th>9</th>\n",
              "      <td>강원</td>\n",
              "    </tr>\n",
              "    <tr>\n",
              "      <th>10</th>\n",
              "      <td>충북</td>\n",
              "    </tr>\n",
              "    <tr>\n",
              "      <th>11</th>\n",
              "      <td>충남</td>\n",
              "    </tr>\n",
              "    <tr>\n",
              "      <th>12</th>\n",
              "      <td>전북</td>\n",
              "    </tr>\n",
              "    <tr>\n",
              "      <th>13</th>\n",
              "      <td>전남</td>\n",
              "    </tr>\n",
              "    <tr>\n",
              "      <th>14</th>\n",
              "      <td>경북</td>\n",
              "    </tr>\n",
              "    <tr>\n",
              "      <th>15</th>\n",
              "      <td>경남</td>\n",
              "    </tr>\n",
              "    <tr>\n",
              "      <th>16</th>\n",
              "      <td>제주</td>\n",
              "    </tr>\n",
              "  </tbody>\n",
              "</table>\n",
              "</div>"
            ],
            "text/plain": [
              "     0\n",
              "0   서울\n",
              "1   부산\n",
              "2   대구\n",
              "3   인천\n",
              "4   광주\n",
              "5   대전\n",
              "6   울산\n",
              "7   세종\n",
              "8   경기\n",
              "9   강원\n",
              "10  충북\n",
              "11  충남\n",
              "12  전북\n",
              "13  전남\n",
              "14  경북\n",
              "15  경남\n",
              "16  제주"
            ]
          },
          "metadata": {
            "tags": []
          },
          "execution_count": 8
        }
      ]
    },
    {
      "cell_type": "code",
      "metadata": {
        "colab": {
          "base_uri": "https://localhost:8080/",
          "height": 550
        },
        "id": "NXQniKLfcKna",
        "outputId": "a21fd225-b23a-43c7-8e1f-4dc74c6554b2"
      },
      "source": [
        "pd.DataFrame(area)"
      ],
      "execution_count": 9,
      "outputs": [
        {
          "output_type": "execute_result",
          "data": {
            "text/html": [
              "<div>\n",
              "<style scoped>\n",
              "    .dataframe tbody tr th:only-of-type {\n",
              "        vertical-align: middle;\n",
              "    }\n",
              "\n",
              "    .dataframe tbody tr th {\n",
              "        vertical-align: top;\n",
              "    }\n",
              "\n",
              "    .dataframe thead th {\n",
              "        text-align: right;\n",
              "    }\n",
              "</style>\n",
              "<table border=\"1\" class=\"dataframe\">\n",
              "  <thead>\n",
              "    <tr style=\"text-align: right;\">\n",
              "      <th></th>\n",
              "      <th>0</th>\n",
              "    </tr>\n",
              "  </thead>\n",
              "  <tbody>\n",
              "    <tr>\n",
              "      <th>0</th>\n",
              "      <td>서울</td>\n",
              "    </tr>\n",
              "    <tr>\n",
              "      <th>1</th>\n",
              "      <td>부산</td>\n",
              "    </tr>\n",
              "    <tr>\n",
              "      <th>2</th>\n",
              "      <td>대구</td>\n",
              "    </tr>\n",
              "    <tr>\n",
              "      <th>3</th>\n",
              "      <td>인천</td>\n",
              "    </tr>\n",
              "    <tr>\n",
              "      <th>4</th>\n",
              "      <td>광주</td>\n",
              "    </tr>\n",
              "    <tr>\n",
              "      <th>5</th>\n",
              "      <td>대전</td>\n",
              "    </tr>\n",
              "    <tr>\n",
              "      <th>6</th>\n",
              "      <td>울산</td>\n",
              "    </tr>\n",
              "    <tr>\n",
              "      <th>7</th>\n",
              "      <td>세종</td>\n",
              "    </tr>\n",
              "    <tr>\n",
              "      <th>8</th>\n",
              "      <td>경기</td>\n",
              "    </tr>\n",
              "    <tr>\n",
              "      <th>9</th>\n",
              "      <td>강원</td>\n",
              "    </tr>\n",
              "    <tr>\n",
              "      <th>10</th>\n",
              "      <td>충북</td>\n",
              "    </tr>\n",
              "    <tr>\n",
              "      <th>11</th>\n",
              "      <td>충남</td>\n",
              "    </tr>\n",
              "    <tr>\n",
              "      <th>12</th>\n",
              "      <td>전북</td>\n",
              "    </tr>\n",
              "    <tr>\n",
              "      <th>13</th>\n",
              "      <td>전남</td>\n",
              "    </tr>\n",
              "    <tr>\n",
              "      <th>14</th>\n",
              "      <td>경북</td>\n",
              "    </tr>\n",
              "    <tr>\n",
              "      <th>15</th>\n",
              "      <td>경남</td>\n",
              "    </tr>\n",
              "    <tr>\n",
              "      <th>16</th>\n",
              "      <td>제주</td>\n",
              "    </tr>\n",
              "  </tbody>\n",
              "</table>\n",
              "</div>"
            ],
            "text/plain": [
              "     0\n",
              "0   서울\n",
              "1   부산\n",
              "2   대구\n",
              "3   인천\n",
              "4   광주\n",
              "5   대전\n",
              "6   울산\n",
              "7   세종\n",
              "8   경기\n",
              "9   강원\n",
              "10  충북\n",
              "11  충남\n",
              "12  전북\n",
              "13  전남\n",
              "14  경북\n",
              "15  경남\n",
              "16  제주"
            ]
          },
          "metadata": {
            "tags": []
          },
          "execution_count": 9
        }
      ]
    },
    {
      "cell_type": "code",
      "metadata": {
        "colab": {
          "base_uri": "https://localhost:8080/"
        },
        "id": "OPEvRG1vcufJ",
        "outputId": "68cc0bb3-7f40-40a1-f38d-6fd3cf0b9fc8"
      },
      "source": [
        "df, type(df)"
      ],
      "execution_count": 10,
      "outputs": [
        {
          "output_type": "execute_result",
          "data": {
            "text/plain": [
              "(     0\n",
              " 0   서울\n",
              " 1   부산\n",
              " 2   대구\n",
              " 3   인천\n",
              " 4   광주\n",
              " 5   대전\n",
              " 6   울산\n",
              " 7   세종\n",
              " 8   경기\n",
              " 9   강원\n",
              " 10  충북\n",
              " 11  충남\n",
              " 12  전북\n",
              " 13  전남\n",
              " 14  경북\n",
              " 15  경남\n",
              " 16  제주, pandas.core.frame.DataFrame)"
            ]
          },
          "metadata": {
            "tags": []
          },
          "execution_count": 10
        }
      ]
    },
    {
      "cell_type": "code",
      "metadata": {
        "colab": {
          "base_uri": "https://localhost:8080/"
        },
        "id": "6x28yYL1dFYP",
        "outputId": "0c5d9140-8bc6-4f05-a3ae-5ac0d073b34d"
      },
      "source": [
        "\n",
        "\n",
        "df['최대'] =  pm25_max\n",
        "df['평소'] =  pm25_min\n",
        "print(df)"
      ],
      "execution_count": 11,
      "outputs": [
        {
          "output_type": "stream",
          "text": [
            "     0  최대  평소\n",
            "0   서울  22  16\n",
            "1   부산  18  10\n",
            "2   대구  18  11\n",
            "3   인천  30  12\n",
            "4   광주  23  15\n",
            "5   대전  20  12\n",
            "6   울산  16  11\n",
            "7   세종  19  17\n",
            "8   경기  27  13\n",
            "9   강원  18   9\n",
            "10  충북  26  14\n",
            "11  충남  29  19\n",
            "12  전북  30  14\n",
            "13  전남  27  10\n",
            "14  경북  23   8\n",
            "15  경남  17   9\n",
            "16  제주  16  11\n"
          ],
          "name": "stdout"
        }
      ]
    },
    {
      "cell_type": "markdown",
      "metadata": {
        "id": "CR5LSrBWNMD0"
      },
      "source": [
        "### 딕션너리를 데이터프레임으로 변환\n",
        "* 딕션너리 키 : 열(column)\n",
        "* 딕션너리 값 : 행(row)"
      ]
    },
    {
      "cell_type": "code",
      "metadata": {
        "id": "y1UZnc4gMjNV",
        "colab": {
          "base_uri": "https://localhost:8080/",
          "height": 186
        },
        "outputId": "e898aa1b-f70d-4256-908e-b48f62179faa"
      },
      "source": [
        "df = pd.DataFrame(dt)\n",
        "df"
      ],
      "execution_count": 12,
      "outputs": [
        {
          "output_type": "error",
          "ename": "NameError",
          "evalue": "ignored",
          "traceback": [
            "\u001b[0;31m---------------------------------------------------------------------------\u001b[0m",
            "\u001b[0;31mNameError\u001b[0m                                 Traceback (most recent call last)",
            "\u001b[0;32m<ipython-input-12-6fc7895b4be1>\u001b[0m in \u001b[0;36m<module>\u001b[0;34m()\u001b[0m\n\u001b[0;32m----> 1\u001b[0;31m \u001b[0mdf\u001b[0m \u001b[0;34m=\u001b[0m \u001b[0mpd\u001b[0m\u001b[0;34m.\u001b[0m\u001b[0mDataFrame\u001b[0m\u001b[0;34m(\u001b[0m\u001b[0mdt\u001b[0m\u001b[0;34m)\u001b[0m\u001b[0;34m\u001b[0m\u001b[0;34m\u001b[0m\u001b[0m\n\u001b[0m\u001b[1;32m      2\u001b[0m \u001b[0mdf\u001b[0m\u001b[0;34m\u001b[0m\u001b[0;34m\u001b[0m\u001b[0m\n",
            "\u001b[0;31mNameError\u001b[0m: name 'dt' is not defined"
          ]
        }
      ]
    },
    {
      "cell_type": "code",
      "metadata": {
        "id": "NQ-xNDueoZsm",
        "colab": {
          "base_uri": "https://localhost:8080/",
          "height": 550
        },
        "outputId": "6381dcc8-9aa0-48ac-dfbc-e140d98b13dc"
      },
      "source": [
        "df = pd.DataFrame()\n",
        "df['area'] = area\n",
        "df['avg'] = pm25_avg\n",
        "df['max'] = pm25_max\n",
        "df['min'] = pm25_min\n",
        "df"
      ],
      "execution_count": 13,
      "outputs": [
        {
          "output_type": "execute_result",
          "data": {
            "text/html": [
              "<div>\n",
              "<style scoped>\n",
              "    .dataframe tbody tr th:only-of-type {\n",
              "        vertical-align: middle;\n",
              "    }\n",
              "\n",
              "    .dataframe tbody tr th {\n",
              "        vertical-align: top;\n",
              "    }\n",
              "\n",
              "    .dataframe thead th {\n",
              "        text-align: right;\n",
              "    }\n",
              "</style>\n",
              "<table border=\"1\" class=\"dataframe\">\n",
              "  <thead>\n",
              "    <tr style=\"text-align: right;\">\n",
              "      <th></th>\n",
              "      <th>area</th>\n",
              "      <th>avg</th>\n",
              "      <th>max</th>\n",
              "      <th>min</th>\n",
              "    </tr>\n",
              "  </thead>\n",
              "  <tbody>\n",
              "    <tr>\n",
              "      <th>0</th>\n",
              "      <td>서울</td>\n",
              "      <td>20</td>\n",
              "      <td>22</td>\n",
              "      <td>16</td>\n",
              "    </tr>\n",
              "    <tr>\n",
              "      <th>1</th>\n",
              "      <td>부산</td>\n",
              "      <td>13</td>\n",
              "      <td>18</td>\n",
              "      <td>10</td>\n",
              "    </tr>\n",
              "    <tr>\n",
              "      <th>2</th>\n",
              "      <td>대구</td>\n",
              "      <td>15</td>\n",
              "      <td>18</td>\n",
              "      <td>11</td>\n",
              "    </tr>\n",
              "    <tr>\n",
              "      <th>3</th>\n",
              "      <td>인천</td>\n",
              "      <td>20</td>\n",
              "      <td>30</td>\n",
              "      <td>12</td>\n",
              "    </tr>\n",
              "    <tr>\n",
              "      <th>4</th>\n",
              "      <td>광주</td>\n",
              "      <td>19</td>\n",
              "      <td>23</td>\n",
              "      <td>15</td>\n",
              "    </tr>\n",
              "    <tr>\n",
              "      <th>5</th>\n",
              "      <td>대전</td>\n",
              "      <td>16</td>\n",
              "      <td>20</td>\n",
              "      <td>12</td>\n",
              "    </tr>\n",
              "    <tr>\n",
              "      <th>6</th>\n",
              "      <td>울산</td>\n",
              "      <td>14</td>\n",
              "      <td>16</td>\n",
              "      <td>11</td>\n",
              "    </tr>\n",
              "    <tr>\n",
              "      <th>7</th>\n",
              "      <td>세종</td>\n",
              "      <td>18</td>\n",
              "      <td>19</td>\n",
              "      <td>17</td>\n",
              "    </tr>\n",
              "    <tr>\n",
              "      <th>8</th>\n",
              "      <td>경기</td>\n",
              "      <td>20</td>\n",
              "      <td>27</td>\n",
              "      <td>13</td>\n",
              "    </tr>\n",
              "    <tr>\n",
              "      <th>9</th>\n",
              "      <td>강원</td>\n",
              "      <td>14</td>\n",
              "      <td>18</td>\n",
              "      <td>9</td>\n",
              "    </tr>\n",
              "    <tr>\n",
              "      <th>10</th>\n",
              "      <td>충북</td>\n",
              "      <td>19</td>\n",
              "      <td>26</td>\n",
              "      <td>14</td>\n",
              "    </tr>\n",
              "    <tr>\n",
              "      <th>11</th>\n",
              "      <td>충남</td>\n",
              "      <td>23</td>\n",
              "      <td>29</td>\n",
              "      <td>19</td>\n",
              "    </tr>\n",
              "    <tr>\n",
              "      <th>12</th>\n",
              "      <td>전북</td>\n",
              "      <td>23</td>\n",
              "      <td>30</td>\n",
              "      <td>14</td>\n",
              "    </tr>\n",
              "    <tr>\n",
              "      <th>13</th>\n",
              "      <td>전남</td>\n",
              "      <td>14</td>\n",
              "      <td>27</td>\n",
              "      <td>10</td>\n",
              "    </tr>\n",
              "    <tr>\n",
              "      <th>14</th>\n",
              "      <td>경북</td>\n",
              "      <td>15</td>\n",
              "      <td>23</td>\n",
              "      <td>8</td>\n",
              "    </tr>\n",
              "    <tr>\n",
              "      <th>15</th>\n",
              "      <td>경남</td>\n",
              "      <td>13</td>\n",
              "      <td>17</td>\n",
              "      <td>9</td>\n",
              "    </tr>\n",
              "    <tr>\n",
              "      <th>16</th>\n",
              "      <td>제주</td>\n",
              "      <td>14</td>\n",
              "      <td>16</td>\n",
              "      <td>11</td>\n",
              "    </tr>\n",
              "  </tbody>\n",
              "</table>\n",
              "</div>"
            ],
            "text/plain": [
              "   area  avg  max  min\n",
              "0    서울   20   22   16\n",
              "1    부산   13   18   10\n",
              "2    대구   15   18   11\n",
              "3    인천   20   30   12\n",
              "4    광주   19   23   15\n",
              "5    대전   16   20   12\n",
              "6    울산   14   16   11\n",
              "7    세종   18   19   17\n",
              "8    경기   20   27   13\n",
              "9    강원   14   18    9\n",
              "10   충북   19   26   14\n",
              "11   충남   23   29   19\n",
              "12   전북   23   30   14\n",
              "13   전남   14   27   10\n",
              "14   경북   15   23    8\n",
              "15   경남   13   17    9\n",
              "16   제주   14   16   11"
            ]
          },
          "metadata": {
            "tags": []
          },
          "execution_count": 13
        }
      ]
    },
    {
      "cell_type": "code",
      "metadata": {
        "colab": {
          "base_uri": "https://localhost:8080/"
        },
        "id": "RlJyPeb4d1tq",
        "outputId": "6d043832-4e41-4b3f-e8d7-6d656dcab970"
      },
      "source": [
        "temp = list(zip(area,pm25_avg,pm25_max,pm25_min ))\n",
        "print(temp)\n",
        "df2 = pd.DataFrame(temp)"
      ],
      "execution_count": 14,
      "outputs": [
        {
          "output_type": "stream",
          "text": [
            "[('서울', 20, 22, 16), ('부산', 13, 18, 10), ('대구', 15, 18, 11), ('인천', 20, 30, 12), ('광주', 19, 23, 15), ('대전', 16, 20, 12), ('울산', 14, 16, 11), ('세종', 18, 19, 17), ('경기', 20, 27, 13), ('강원', 14, 18, 9), ('충북', 19, 26, 14), ('충남', 23, 29, 19), ('전북', 23, 30, 14), ('전남', 14, 27, 10), ('경북', 15, 23, 8), ('경남', 13, 17, 9), ('제주', 14, 16, 11)]\n"
          ],
          "name": "stdout"
        }
      ]
    },
    {
      "cell_type": "code",
      "metadata": {
        "id": "sZorXYsOpO6p",
        "colab": {
          "base_uri": "https://localhost:8080/",
          "height": 550
        },
        "outputId": "b42c574c-fe1f-42e6-8ecc-14fdd5266799"
      },
      "source": [
        "dtz = list(zip(area,pm25_avg,pm25_max,pm25_min ))\n",
        "\n",
        "df = pd.DataFrame(dtz)\n",
        "df.columns = ['area', 'avg', 'max', 'min']\n",
        "df"
      ],
      "execution_count": 15,
      "outputs": [
        {
          "output_type": "execute_result",
          "data": {
            "text/html": [
              "<div>\n",
              "<style scoped>\n",
              "    .dataframe tbody tr th:only-of-type {\n",
              "        vertical-align: middle;\n",
              "    }\n",
              "\n",
              "    .dataframe tbody tr th {\n",
              "        vertical-align: top;\n",
              "    }\n",
              "\n",
              "    .dataframe thead th {\n",
              "        text-align: right;\n",
              "    }\n",
              "</style>\n",
              "<table border=\"1\" class=\"dataframe\">\n",
              "  <thead>\n",
              "    <tr style=\"text-align: right;\">\n",
              "      <th></th>\n",
              "      <th>area</th>\n",
              "      <th>avg</th>\n",
              "      <th>max</th>\n",
              "      <th>min</th>\n",
              "    </tr>\n",
              "  </thead>\n",
              "  <tbody>\n",
              "    <tr>\n",
              "      <th>0</th>\n",
              "      <td>서울</td>\n",
              "      <td>20</td>\n",
              "      <td>22</td>\n",
              "      <td>16</td>\n",
              "    </tr>\n",
              "    <tr>\n",
              "      <th>1</th>\n",
              "      <td>부산</td>\n",
              "      <td>13</td>\n",
              "      <td>18</td>\n",
              "      <td>10</td>\n",
              "    </tr>\n",
              "    <tr>\n",
              "      <th>2</th>\n",
              "      <td>대구</td>\n",
              "      <td>15</td>\n",
              "      <td>18</td>\n",
              "      <td>11</td>\n",
              "    </tr>\n",
              "    <tr>\n",
              "      <th>3</th>\n",
              "      <td>인천</td>\n",
              "      <td>20</td>\n",
              "      <td>30</td>\n",
              "      <td>12</td>\n",
              "    </tr>\n",
              "    <tr>\n",
              "      <th>4</th>\n",
              "      <td>광주</td>\n",
              "      <td>19</td>\n",
              "      <td>23</td>\n",
              "      <td>15</td>\n",
              "    </tr>\n",
              "    <tr>\n",
              "      <th>5</th>\n",
              "      <td>대전</td>\n",
              "      <td>16</td>\n",
              "      <td>20</td>\n",
              "      <td>12</td>\n",
              "    </tr>\n",
              "    <tr>\n",
              "      <th>6</th>\n",
              "      <td>울산</td>\n",
              "      <td>14</td>\n",
              "      <td>16</td>\n",
              "      <td>11</td>\n",
              "    </tr>\n",
              "    <tr>\n",
              "      <th>7</th>\n",
              "      <td>세종</td>\n",
              "      <td>18</td>\n",
              "      <td>19</td>\n",
              "      <td>17</td>\n",
              "    </tr>\n",
              "    <tr>\n",
              "      <th>8</th>\n",
              "      <td>경기</td>\n",
              "      <td>20</td>\n",
              "      <td>27</td>\n",
              "      <td>13</td>\n",
              "    </tr>\n",
              "    <tr>\n",
              "      <th>9</th>\n",
              "      <td>강원</td>\n",
              "      <td>14</td>\n",
              "      <td>18</td>\n",
              "      <td>9</td>\n",
              "    </tr>\n",
              "    <tr>\n",
              "      <th>10</th>\n",
              "      <td>충북</td>\n",
              "      <td>19</td>\n",
              "      <td>26</td>\n",
              "      <td>14</td>\n",
              "    </tr>\n",
              "    <tr>\n",
              "      <th>11</th>\n",
              "      <td>충남</td>\n",
              "      <td>23</td>\n",
              "      <td>29</td>\n",
              "      <td>19</td>\n",
              "    </tr>\n",
              "    <tr>\n",
              "      <th>12</th>\n",
              "      <td>전북</td>\n",
              "      <td>23</td>\n",
              "      <td>30</td>\n",
              "      <td>14</td>\n",
              "    </tr>\n",
              "    <tr>\n",
              "      <th>13</th>\n",
              "      <td>전남</td>\n",
              "      <td>14</td>\n",
              "      <td>27</td>\n",
              "      <td>10</td>\n",
              "    </tr>\n",
              "    <tr>\n",
              "      <th>14</th>\n",
              "      <td>경북</td>\n",
              "      <td>15</td>\n",
              "      <td>23</td>\n",
              "      <td>8</td>\n",
              "    </tr>\n",
              "    <tr>\n",
              "      <th>15</th>\n",
              "      <td>경남</td>\n",
              "      <td>13</td>\n",
              "      <td>17</td>\n",
              "      <td>9</td>\n",
              "    </tr>\n",
              "    <tr>\n",
              "      <th>16</th>\n",
              "      <td>제주</td>\n",
              "      <td>14</td>\n",
              "      <td>16</td>\n",
              "      <td>11</td>\n",
              "    </tr>\n",
              "  </tbody>\n",
              "</table>\n",
              "</div>"
            ],
            "text/plain": [
              "   area  avg  max  min\n",
              "0    서울   20   22   16\n",
              "1    부산   13   18   10\n",
              "2    대구   15   18   11\n",
              "3    인천   20   30   12\n",
              "4    광주   19   23   15\n",
              "5    대전   16   20   12\n",
              "6    울산   14   16   11\n",
              "7    세종   18   19   17\n",
              "8    경기   20   27   13\n",
              "9    강원   14   18    9\n",
              "10   충북   19   26   14\n",
              "11   충남   23   29   19\n",
              "12   전북   23   30   14\n",
              "13   전남   14   27   10\n",
              "14   경북   15   23    8\n",
              "15   경남   13   17    9\n",
              "16   제주   14   16   11"
            ]
          },
          "metadata": {
            "tags": []
          },
          "execution_count": 15
        }
      ]
    },
    {
      "cell_type": "markdown",
      "metadata": {
        "id": "JS_gxUnAOHSE"
      },
      "source": [
        "## 외부 데이터 가져오기\n",
        "+ csv 읽기\n",
        " - 한글 파일명을 사용할 경우 : df = pd.read_csv(‘파일명‘, engine='python')\n",
        " - 파일 내용 한글이 깨지는 경우 : df = pd.read_csv(‘파일명‘, engine='python', encoding='cp949')\n",
        ">\n",
        "```\n",
        "df = pd.read_csv(‘파일명‘)\n",
        "```\n",
        "\n",
        "+ 엑셀 읽기\n",
        " - 한글 파일명을 사용할 경우 : df = pd.read_excel(‘파일명‘)\n",
        ">\n",
        "```\n",
        "df = pd.pd.read_excel(‘파일명‘)\n",
        "```"
      ]
    },
    {
      "cell_type": "code",
      "metadata": {
        "id": "rgf7xNS2Owfw",
        "colab": {
          "base_uri": "https://localhost:8080/",
          "height": 550
        },
        "outputId": "1ac876a0-92de-47e1-82bd-161598b3b553"
      },
      "source": [
        "#지역별주간별_초미세먼지.csv 가져오기 \n",
        "df = pd.read_csv('/content/drive/MyDrive/파이썬특강/python2021/data/지역별주간별_초미세먼지.csv', engine='python',  encoding='cp949')\n",
        "df"
      ],
      "execution_count": 16,
      "outputs": [
        {
          "output_type": "execute_result",
          "data": {
            "text/html": [
              "<div>\n",
              "<style scoped>\n",
              "    .dataframe tbody tr th:only-of-type {\n",
              "        vertical-align: middle;\n",
              "    }\n",
              "\n",
              "    .dataframe tbody tr th {\n",
              "        vertical-align: top;\n",
              "    }\n",
              "\n",
              "    .dataframe thead th {\n",
              "        text-align: right;\n",
              "    }\n",
              "</style>\n",
              "<table border=\"1\" class=\"dataframe\">\n",
              "  <thead>\n",
              "    <tr style=\"text-align: right;\">\n",
              "      <th></th>\n",
              "      <th>지역</th>\n",
              "      <th>주간평균</th>\n",
              "      <th>최고값</th>\n",
              "      <th>최저값</th>\n",
              "    </tr>\n",
              "  </thead>\n",
              "  <tbody>\n",
              "    <tr>\n",
              "      <th>0</th>\n",
              "      <td>서울</td>\n",
              "      <td>20</td>\n",
              "      <td>22</td>\n",
              "      <td>16</td>\n",
              "    </tr>\n",
              "    <tr>\n",
              "      <th>1</th>\n",
              "      <td>부산</td>\n",
              "      <td>13</td>\n",
              "      <td>18</td>\n",
              "      <td>10</td>\n",
              "    </tr>\n",
              "    <tr>\n",
              "      <th>2</th>\n",
              "      <td>대구</td>\n",
              "      <td>15</td>\n",
              "      <td>18</td>\n",
              "      <td>11</td>\n",
              "    </tr>\n",
              "    <tr>\n",
              "      <th>3</th>\n",
              "      <td>인천</td>\n",
              "      <td>20</td>\n",
              "      <td>30</td>\n",
              "      <td>12</td>\n",
              "    </tr>\n",
              "    <tr>\n",
              "      <th>4</th>\n",
              "      <td>광주</td>\n",
              "      <td>19</td>\n",
              "      <td>23</td>\n",
              "      <td>15</td>\n",
              "    </tr>\n",
              "    <tr>\n",
              "      <th>5</th>\n",
              "      <td>대전</td>\n",
              "      <td>16</td>\n",
              "      <td>20</td>\n",
              "      <td>12</td>\n",
              "    </tr>\n",
              "    <tr>\n",
              "      <th>6</th>\n",
              "      <td>울산</td>\n",
              "      <td>14</td>\n",
              "      <td>16</td>\n",
              "      <td>11</td>\n",
              "    </tr>\n",
              "    <tr>\n",
              "      <th>7</th>\n",
              "      <td>세종</td>\n",
              "      <td>18</td>\n",
              "      <td>19</td>\n",
              "      <td>17</td>\n",
              "    </tr>\n",
              "    <tr>\n",
              "      <th>8</th>\n",
              "      <td>경기</td>\n",
              "      <td>20</td>\n",
              "      <td>27</td>\n",
              "      <td>13</td>\n",
              "    </tr>\n",
              "    <tr>\n",
              "      <th>9</th>\n",
              "      <td>강원</td>\n",
              "      <td>14</td>\n",
              "      <td>18</td>\n",
              "      <td>9</td>\n",
              "    </tr>\n",
              "    <tr>\n",
              "      <th>10</th>\n",
              "      <td>충북</td>\n",
              "      <td>19</td>\n",
              "      <td>26</td>\n",
              "      <td>14</td>\n",
              "    </tr>\n",
              "    <tr>\n",
              "      <th>11</th>\n",
              "      <td>충남</td>\n",
              "      <td>23</td>\n",
              "      <td>29</td>\n",
              "      <td>19</td>\n",
              "    </tr>\n",
              "    <tr>\n",
              "      <th>12</th>\n",
              "      <td>전북</td>\n",
              "      <td>23</td>\n",
              "      <td>30</td>\n",
              "      <td>14</td>\n",
              "    </tr>\n",
              "    <tr>\n",
              "      <th>13</th>\n",
              "      <td>전남</td>\n",
              "      <td>14</td>\n",
              "      <td>27</td>\n",
              "      <td>10</td>\n",
              "    </tr>\n",
              "    <tr>\n",
              "      <th>14</th>\n",
              "      <td>경북</td>\n",
              "      <td>15</td>\n",
              "      <td>23</td>\n",
              "      <td>8</td>\n",
              "    </tr>\n",
              "    <tr>\n",
              "      <th>15</th>\n",
              "      <td>경남</td>\n",
              "      <td>13</td>\n",
              "      <td>17</td>\n",
              "      <td>9</td>\n",
              "    </tr>\n",
              "    <tr>\n",
              "      <th>16</th>\n",
              "      <td>제주</td>\n",
              "      <td>14</td>\n",
              "      <td>16</td>\n",
              "      <td>11</td>\n",
              "    </tr>\n",
              "  </tbody>\n",
              "</table>\n",
              "</div>"
            ],
            "text/plain": [
              "   지역   주간평균   최고값   최저값 \n",
              "0   서울     20    22    16\n",
              "1   부산     13    18    10\n",
              "2   대구     15    18    11\n",
              "3   인천     20    30    12\n",
              "4   광주     19    23    15\n",
              "5   대전     16    20    12\n",
              "6   울산     14    16    11\n",
              "7   세종     18    19    17\n",
              "8   경기     20    27    13\n",
              "9   강원     14    18     9\n",
              "10  충북     19    26    14\n",
              "11  충남     23    29    19\n",
              "12  전북     23    30    14\n",
              "13  전남     14    27    10\n",
              "14  경북     15    23     8\n",
              "15  경남     13    17     9\n",
              "16  제주     14    16    11"
            ]
          },
          "metadata": {
            "tags": []
          },
          "execution_count": 16
        }
      ]
    },
    {
      "cell_type": "markdown",
      "metadata": {
        "id": "2UfN4l5eRHfr"
      },
      "source": [
        "## 데이터프레임(DataFrame) 살펴보기\n",
        "* 데이터프레임의 정보 : **df.info()**\n",
        " - 데이터프레임에 대한 전반적인 정보\n",
        " - 데이터프레임을 구성하는 행과 열의 크기, 컬럼명, 컬럼을 구성하는 값의 자료형 등을 출력\n",
        "+ 데이터프레임의 크기 확인 : **df.shape 속성**\n",
        " - (행, 열) 크기를 확인하기\n",
        " - 행의 개수 : len(데이터프레임), len(.index), .shape[0]\n",
        " - 열의 개수 : len(.column), .shape[1]\n",
        "+ 데이터프레임의 원소의 총개수 : **df.size 속성**\n",
        "+ 데이터프레임 개수 확인 :**df.count()**\n",
        " - Null이 아닌 행의 개수 확인\n",
        " - axis='columns' : Null이 아닌 열의 개수 확인\n",
        "* 데이터프레임의 인덱스 \n",
        " + 열의 인덱스 : **df.colums**\n",
        " + 행의 인덱스 : **df.index**\n",
        " + **데이터프레임의 인덱스 변경**\n",
        "   - 열인덱스 명 변경 : df.column = [열명인덱스]\n",
        "   - 열항목 중 하나를 인덱스로 사용 : df.set_index(열명)\n",
        "   - 인덱스를 일반 데이터 열로 전환 : df.reset_index()"
      ]
    },
    {
      "cell_type": "code",
      "metadata": {
        "id": "RPDi18n9SGRu",
        "colab": {
          "base_uri": "https://localhost:8080/"
        },
        "outputId": "3987ec4f-2858-4975-c4b2-5b2995a5ec4f"
      },
      "source": [
        "#데이터프레임의 정보\n",
        "df.info()"
      ],
      "execution_count": 17,
      "outputs": [
        {
          "output_type": "stream",
          "text": [
            "<class 'pandas.core.frame.DataFrame'>\n",
            "RangeIndex: 17 entries, 0 to 16\n",
            "Data columns (total 4 columns):\n",
            " #   Column  Non-Null Count  Dtype \n",
            "---  ------  --------------  ----- \n",
            " 0   지역      17 non-null     object\n",
            " 1   주간평균    17 non-null     int64 \n",
            " 2   최고값     17 non-null     int64 \n",
            " 3   최저값     17 non-null     int64 \n",
            "dtypes: int64(3), object(1)\n",
            "memory usage: 672.0+ bytes\n"
          ],
          "name": "stdout"
        }
      ]
    },
    {
      "cell_type": "code",
      "metadata": {
        "id": "6TsNgT0b3Js7",
        "colab": {
          "base_uri": "https://localhost:8080/"
        },
        "outputId": "a2f24163-a05a-4bf8-e8ad-b553e439d558"
      },
      "source": [
        "#데이터프레임의 크기 확인\n",
        "print('데이터프레임 (행, 열) : ', df.shape)\n",
        "print('데이터프레임 행 개수 len : ', len(df) )\n",
        "print('데이터프레임 행 개수 len : ', len(df.index) )\n",
        "print('데이터프레임 행 개수 shape : ', df.shape[0] )\n",
        "print('데이터프레임 열 개수 len : ', len(df.columns) )\n",
        "print('데이터프레임 열 개수 shape : ', df.shape[1] )"
      ],
      "execution_count": 18,
      "outputs": [
        {
          "output_type": "stream",
          "text": [
            "데이터프레임 (행, 열) :  (17, 4)\n",
            "데이터프레임 행 개수 len :  17\n",
            "데이터프레임 행 개수 len :  17\n",
            "데이터프레임 행 개수 shape :  17\n",
            "데이터프레임 열 개수 len :  4\n",
            "데이터프레임 열 개수 shape :  4\n"
          ],
          "name": "stdout"
        }
      ]
    },
    {
      "cell_type": "code",
      "metadata": {
        "colab": {
          "base_uri": "https://localhost:8080/"
        },
        "id": "cA03nEopk8j6",
        "outputId": "4d86ccb1-4642-47d3-fbf2-1fe23102a0c3"
      },
      "source": [
        "df.index"
      ],
      "execution_count": 49,
      "outputs": [
        {
          "output_type": "execute_result",
          "data": {
            "text/plain": [
              "RangeIndex(start=0, stop=17, step=1)"
            ]
          },
          "metadata": {
            "tags": []
          },
          "execution_count": 49
        }
      ]
    },
    {
      "cell_type": "code",
      "metadata": {
        "colab": {
          "base_uri": "https://localhost:8080/"
        },
        "id": "b-43lhBplEiw",
        "outputId": "abb24a96-ef7e-49d6-8536-8384023c9a3f"
      },
      "source": [
        "df.columns"
      ],
      "execution_count": 50,
      "outputs": [
        {
          "output_type": "execute_result",
          "data": {
            "text/plain": [
              "Index(['지역 ', '주간평균 ', '최고값 ', '최저값 '], dtype='object')"
            ]
          },
          "metadata": {
            "tags": []
          },
          "execution_count": 50
        }
      ]
    },
    {
      "cell_type": "code",
      "metadata": {
        "id": "sfoGWCF-lEg2"
      },
      "source": [
        ""
      ],
      "execution_count": null,
      "outputs": []
    },
    {
      "cell_type": "code",
      "metadata": {
        "id": "x820CTxf7sUS",
        "colab": {
          "base_uri": "https://localhost:8080/"
        },
        "outputId": "572cccc8-0a44-45b8-ce9d-feeb81b4b3db"
      },
      "source": [
        "#데이터프레임 각 열의개수 확인\n",
        "print(df.count())\n",
        "print('-'*20)\n",
        "print(df.count(axis='columns'))"
      ],
      "execution_count": 19,
      "outputs": [
        {
          "output_type": "stream",
          "text": [
            "지역       17\n",
            "주간평균     17\n",
            "최고값      17\n",
            "최저값      17\n",
            "dtype: int64\n",
            "--------------------\n",
            "0     4\n",
            "1     4\n",
            "2     4\n",
            "3     4\n",
            "4     4\n",
            "5     4\n",
            "6     4\n",
            "7     4\n",
            "8     4\n",
            "9     4\n",
            "10    4\n",
            "11    4\n",
            "12    4\n",
            "13    4\n",
            "14    4\n",
            "15    4\n",
            "16    4\n",
            "dtype: int64\n"
          ],
          "name": "stdout"
        }
      ]
    },
    {
      "cell_type": "code",
      "metadata": {
        "id": "-_PcsEFSDcsV",
        "colab": {
          "base_uri": "https://localhost:8080/"
        },
        "outputId": "1f6db6e7-4104-47c1-cb03-f8d509706d9e"
      },
      "source": [
        "#데이터프레임의 원소의 총개수\n",
        "print(df.size)"
      ],
      "execution_count": 52,
      "outputs": [
        {
          "output_type": "stream",
          "text": [
            "68\n"
          ],
          "name": "stdout"
        }
      ]
    },
    {
      "cell_type": "code",
      "metadata": {
        "id": "1VWiVWQ_SQtl",
        "colab": {
          "base_uri": "https://localhost:8080/"
        },
        "outputId": "35baa7d1-053c-4f7d-8c11-db9c26a50308"
      },
      "source": [
        "#데이터프레임의 인덱스\n",
        "print('열인덱스 : ', df.columns)\n",
        "print('행인덱스 :', df.index)"
      ],
      "execution_count": 20,
      "outputs": [
        {
          "output_type": "stream",
          "text": [
            "열인덱스 :  Index(['지역 ', '주간평균 ', '최고값 ', '최저값 '], dtype='object')\n",
            "행인덱스 : RangeIndex(start=0, stop=17, step=1)\n"
          ],
          "name": "stdout"
        }
      ]
    },
    {
      "cell_type": "code",
      "metadata": {
        "colab": {
          "base_uri": "https://localhost:8080/",
          "height": 615
        },
        "id": "_zs6mI74mANg",
        "outputId": "293d5315-eed7-4d03-a03d-877423fadff9"
      },
      "source": [
        "df['최고값']"
      ],
      "execution_count": 21,
      "outputs": [
        {
          "output_type": "error",
          "ename": "KeyError",
          "evalue": "ignored",
          "traceback": [
            "\u001b[0;31m---------------------------------------------------------------------------\u001b[0m",
            "\u001b[0;31mKeyError\u001b[0m                                  Traceback (most recent call last)",
            "\u001b[0;32m/usr/local/lib/python3.7/dist-packages/pandas/core/indexes/base.py\u001b[0m in \u001b[0;36mget_loc\u001b[0;34m(self, key, method, tolerance)\u001b[0m\n\u001b[1;32m   2897\u001b[0m             \u001b[0;32mtry\u001b[0m\u001b[0;34m:\u001b[0m\u001b[0;34m\u001b[0m\u001b[0;34m\u001b[0m\u001b[0m\n\u001b[0;32m-> 2898\u001b[0;31m                 \u001b[0;32mreturn\u001b[0m \u001b[0mself\u001b[0m\u001b[0;34m.\u001b[0m\u001b[0m_engine\u001b[0m\u001b[0;34m.\u001b[0m\u001b[0mget_loc\u001b[0m\u001b[0;34m(\u001b[0m\u001b[0mcasted_key\u001b[0m\u001b[0;34m)\u001b[0m\u001b[0;34m\u001b[0m\u001b[0;34m\u001b[0m\u001b[0m\n\u001b[0m\u001b[1;32m   2899\u001b[0m             \u001b[0;32mexcept\u001b[0m \u001b[0mKeyError\u001b[0m \u001b[0;32mas\u001b[0m \u001b[0merr\u001b[0m\u001b[0;34m:\u001b[0m\u001b[0;34m\u001b[0m\u001b[0;34m\u001b[0m\u001b[0m\n",
            "\u001b[0;32mpandas/_libs/index.pyx\u001b[0m in \u001b[0;36mpandas._libs.index.IndexEngine.get_loc\u001b[0;34m()\u001b[0m\n",
            "\u001b[0;32mpandas/_libs/index.pyx\u001b[0m in \u001b[0;36mpandas._libs.index.IndexEngine.get_loc\u001b[0;34m()\u001b[0m\n",
            "\u001b[0;32mpandas/_libs/hashtable_class_helper.pxi\u001b[0m in \u001b[0;36mpandas._libs.hashtable.PyObjectHashTable.get_item\u001b[0;34m()\u001b[0m\n",
            "\u001b[0;32mpandas/_libs/hashtable_class_helper.pxi\u001b[0m in \u001b[0;36mpandas._libs.hashtable.PyObjectHashTable.get_item\u001b[0;34m()\u001b[0m\n",
            "\u001b[0;31mKeyError\u001b[0m: '최고값'",
            "\nThe above exception was the direct cause of the following exception:\n",
            "\u001b[0;31mKeyError\u001b[0m                                  Traceback (most recent call last)",
            "\u001b[0;32m<ipython-input-21-0ea6206d95bc>\u001b[0m in \u001b[0;36m<module>\u001b[0;34m()\u001b[0m\n\u001b[0;32m----> 1\u001b[0;31m \u001b[0mdf\u001b[0m\u001b[0;34m[\u001b[0m\u001b[0;34m'최고값'\u001b[0m\u001b[0;34m]\u001b[0m\u001b[0;34m\u001b[0m\u001b[0;34m\u001b[0m\u001b[0m\n\u001b[0m",
            "\u001b[0;32m/usr/local/lib/python3.7/dist-packages/pandas/core/frame.py\u001b[0m in \u001b[0;36m__getitem__\u001b[0;34m(self, key)\u001b[0m\n\u001b[1;32m   2904\u001b[0m             \u001b[0;32mif\u001b[0m \u001b[0mself\u001b[0m\u001b[0;34m.\u001b[0m\u001b[0mcolumns\u001b[0m\u001b[0;34m.\u001b[0m\u001b[0mnlevels\u001b[0m \u001b[0;34m>\u001b[0m \u001b[0;36m1\u001b[0m\u001b[0;34m:\u001b[0m\u001b[0;34m\u001b[0m\u001b[0;34m\u001b[0m\u001b[0m\n\u001b[1;32m   2905\u001b[0m                 \u001b[0;32mreturn\u001b[0m \u001b[0mself\u001b[0m\u001b[0;34m.\u001b[0m\u001b[0m_getitem_multilevel\u001b[0m\u001b[0;34m(\u001b[0m\u001b[0mkey\u001b[0m\u001b[0;34m)\u001b[0m\u001b[0;34m\u001b[0m\u001b[0;34m\u001b[0m\u001b[0m\n\u001b[0;32m-> 2906\u001b[0;31m             \u001b[0mindexer\u001b[0m \u001b[0;34m=\u001b[0m \u001b[0mself\u001b[0m\u001b[0;34m.\u001b[0m\u001b[0mcolumns\u001b[0m\u001b[0;34m.\u001b[0m\u001b[0mget_loc\u001b[0m\u001b[0;34m(\u001b[0m\u001b[0mkey\u001b[0m\u001b[0;34m)\u001b[0m\u001b[0;34m\u001b[0m\u001b[0;34m\u001b[0m\u001b[0m\n\u001b[0m\u001b[1;32m   2907\u001b[0m             \u001b[0;32mif\u001b[0m \u001b[0mis_integer\u001b[0m\u001b[0;34m(\u001b[0m\u001b[0mindexer\u001b[0m\u001b[0;34m)\u001b[0m\u001b[0;34m:\u001b[0m\u001b[0;34m\u001b[0m\u001b[0;34m\u001b[0m\u001b[0m\n\u001b[1;32m   2908\u001b[0m                 \u001b[0mindexer\u001b[0m \u001b[0;34m=\u001b[0m \u001b[0;34m[\u001b[0m\u001b[0mindexer\u001b[0m\u001b[0;34m]\u001b[0m\u001b[0;34m\u001b[0m\u001b[0;34m\u001b[0m\u001b[0m\n",
            "\u001b[0;32m/usr/local/lib/python3.7/dist-packages/pandas/core/indexes/base.py\u001b[0m in \u001b[0;36mget_loc\u001b[0;34m(self, key, method, tolerance)\u001b[0m\n\u001b[1;32m   2898\u001b[0m                 \u001b[0;32mreturn\u001b[0m \u001b[0mself\u001b[0m\u001b[0;34m.\u001b[0m\u001b[0m_engine\u001b[0m\u001b[0;34m.\u001b[0m\u001b[0mget_loc\u001b[0m\u001b[0;34m(\u001b[0m\u001b[0mcasted_key\u001b[0m\u001b[0;34m)\u001b[0m\u001b[0;34m\u001b[0m\u001b[0;34m\u001b[0m\u001b[0m\n\u001b[1;32m   2899\u001b[0m             \u001b[0;32mexcept\u001b[0m \u001b[0mKeyError\u001b[0m \u001b[0;32mas\u001b[0m \u001b[0merr\u001b[0m\u001b[0;34m:\u001b[0m\u001b[0;34m\u001b[0m\u001b[0;34m\u001b[0m\u001b[0m\n\u001b[0;32m-> 2900\u001b[0;31m                 \u001b[0;32mraise\u001b[0m \u001b[0mKeyError\u001b[0m\u001b[0;34m(\u001b[0m\u001b[0mkey\u001b[0m\u001b[0;34m)\u001b[0m \u001b[0;32mfrom\u001b[0m \u001b[0merr\u001b[0m\u001b[0;34m\u001b[0m\u001b[0;34m\u001b[0m\u001b[0m\n\u001b[0m\u001b[1;32m   2901\u001b[0m \u001b[0;34m\u001b[0m\u001b[0m\n\u001b[1;32m   2902\u001b[0m         \u001b[0;32mif\u001b[0m \u001b[0mtolerance\u001b[0m \u001b[0;32mis\u001b[0m \u001b[0;32mnot\u001b[0m \u001b[0;32mNone\u001b[0m\u001b[0;34m:\u001b[0m\u001b[0;34m\u001b[0m\u001b[0;34m\u001b[0m\u001b[0m\n",
            "\u001b[0;31mKeyError\u001b[0m: '최고값'"
          ]
        }
      ]
    },
    {
      "cell_type": "code",
      "metadata": {
        "id": "DxsgZnmASZ-V",
        "colab": {
          "base_uri": "https://localhost:8080/"
        },
        "outputId": "2fb877c9-b914-4f78-e3bb-6b41b27f82ec"
      },
      "source": [
        "#열명의 공백 제거 \n",
        "df.columns = [item.strip() for item in df.columns]\n",
        "df.columns"
      ],
      "execution_count": 22,
      "outputs": [
        {
          "output_type": "execute_result",
          "data": {
            "text/plain": [
              "Index(['지역', '주간평균', '최고값', '최저값'], dtype='object')"
            ]
          },
          "metadata": {
            "tags": []
          },
          "execution_count": 22
        }
      ]
    },
    {
      "cell_type": "code",
      "metadata": {
        "colab": {
          "base_uri": "https://localhost:8080/",
          "height": 195
        },
        "id": "YKql9RT4mz5a",
        "outputId": "a41841be-6a47-4a5f-f831-90032c75dd93"
      },
      "source": [
        "df.tail()"
      ],
      "execution_count": 66,
      "outputs": [
        {
          "output_type": "execute_result",
          "data": {
            "text/html": [
              "<div>\n",
              "<style scoped>\n",
              "    .dataframe tbody tr th:only-of-type {\n",
              "        vertical-align: middle;\n",
              "    }\n",
              "\n",
              "    .dataframe tbody tr th {\n",
              "        vertical-align: top;\n",
              "    }\n",
              "\n",
              "    .dataframe thead th {\n",
              "        text-align: right;\n",
              "    }\n",
              "</style>\n",
              "<table border=\"1\" class=\"dataframe\">\n",
              "  <thead>\n",
              "    <tr style=\"text-align: right;\">\n",
              "      <th></th>\n",
              "      <th>지역</th>\n",
              "      <th>주간평균</th>\n",
              "      <th>최고값</th>\n",
              "      <th>최저값</th>\n",
              "    </tr>\n",
              "  </thead>\n",
              "  <tbody>\n",
              "    <tr>\n",
              "      <th>12</th>\n",
              "      <td>전북</td>\n",
              "      <td>23</td>\n",
              "      <td>30</td>\n",
              "      <td>14</td>\n",
              "    </tr>\n",
              "    <tr>\n",
              "      <th>13</th>\n",
              "      <td>전남</td>\n",
              "      <td>14</td>\n",
              "      <td>27</td>\n",
              "      <td>10</td>\n",
              "    </tr>\n",
              "    <tr>\n",
              "      <th>14</th>\n",
              "      <td>경북</td>\n",
              "      <td>15</td>\n",
              "      <td>23</td>\n",
              "      <td>8</td>\n",
              "    </tr>\n",
              "    <tr>\n",
              "      <th>15</th>\n",
              "      <td>경남</td>\n",
              "      <td>13</td>\n",
              "      <td>17</td>\n",
              "      <td>9</td>\n",
              "    </tr>\n",
              "    <tr>\n",
              "      <th>16</th>\n",
              "      <td>제주</td>\n",
              "      <td>14</td>\n",
              "      <td>16</td>\n",
              "      <td>11</td>\n",
              "    </tr>\n",
              "  </tbody>\n",
              "</table>\n",
              "</div>"
            ],
            "text/plain": [
              "    지역  주간평균  최고값  최저값\n",
              "12  전북    23   30   14\n",
              "13  전남    14   27   10\n",
              "14  경북    15   23    8\n",
              "15  경남    13   17    9\n",
              "16  제주    14   16   11"
            ]
          },
          "metadata": {
            "tags": []
          },
          "execution_count": 66
        }
      ]
    },
    {
      "cell_type": "code",
      "metadata": {
        "colab": {
          "base_uri": "https://localhost:8080/"
        },
        "id": "fy6-w4aynK7A",
        "outputId": "63a92c94-e528-4f18-8fff-96e0cc9ac406"
      },
      "source": [
        "df.index"
      ],
      "execution_count": 23,
      "outputs": [
        {
          "output_type": "execute_result",
          "data": {
            "text/plain": [
              "RangeIndex(start=0, stop=17, step=1)"
            ]
          },
          "metadata": {
            "tags": []
          },
          "execution_count": 23
        }
      ]
    },
    {
      "cell_type": "code",
      "metadata": {
        "id": "SI96LxJ1UTrM",
        "colab": {
          "base_uri": "https://localhost:8080/",
          "height": 580
        },
        "outputId": "eaa0c4d6-9ad5-4d94-f766-1cea93661dcf"
      },
      "source": [
        "#지역 컬럼을 행 인덱스로 지정\n",
        "df = df.set_index('지역')\n",
        "df"
      ],
      "execution_count": 24,
      "outputs": [
        {
          "output_type": "execute_result",
          "data": {
            "text/html": [
              "<div>\n",
              "<style scoped>\n",
              "    .dataframe tbody tr th:only-of-type {\n",
              "        vertical-align: middle;\n",
              "    }\n",
              "\n",
              "    .dataframe tbody tr th {\n",
              "        vertical-align: top;\n",
              "    }\n",
              "\n",
              "    .dataframe thead th {\n",
              "        text-align: right;\n",
              "    }\n",
              "</style>\n",
              "<table border=\"1\" class=\"dataframe\">\n",
              "  <thead>\n",
              "    <tr style=\"text-align: right;\">\n",
              "      <th></th>\n",
              "      <th>주간평균</th>\n",
              "      <th>최고값</th>\n",
              "      <th>최저값</th>\n",
              "    </tr>\n",
              "    <tr>\n",
              "      <th>지역</th>\n",
              "      <th></th>\n",
              "      <th></th>\n",
              "      <th></th>\n",
              "    </tr>\n",
              "  </thead>\n",
              "  <tbody>\n",
              "    <tr>\n",
              "      <th>서울</th>\n",
              "      <td>20</td>\n",
              "      <td>22</td>\n",
              "      <td>16</td>\n",
              "    </tr>\n",
              "    <tr>\n",
              "      <th>부산</th>\n",
              "      <td>13</td>\n",
              "      <td>18</td>\n",
              "      <td>10</td>\n",
              "    </tr>\n",
              "    <tr>\n",
              "      <th>대구</th>\n",
              "      <td>15</td>\n",
              "      <td>18</td>\n",
              "      <td>11</td>\n",
              "    </tr>\n",
              "    <tr>\n",
              "      <th>인천</th>\n",
              "      <td>20</td>\n",
              "      <td>30</td>\n",
              "      <td>12</td>\n",
              "    </tr>\n",
              "    <tr>\n",
              "      <th>광주</th>\n",
              "      <td>19</td>\n",
              "      <td>23</td>\n",
              "      <td>15</td>\n",
              "    </tr>\n",
              "    <tr>\n",
              "      <th>대전</th>\n",
              "      <td>16</td>\n",
              "      <td>20</td>\n",
              "      <td>12</td>\n",
              "    </tr>\n",
              "    <tr>\n",
              "      <th>울산</th>\n",
              "      <td>14</td>\n",
              "      <td>16</td>\n",
              "      <td>11</td>\n",
              "    </tr>\n",
              "    <tr>\n",
              "      <th>세종</th>\n",
              "      <td>18</td>\n",
              "      <td>19</td>\n",
              "      <td>17</td>\n",
              "    </tr>\n",
              "    <tr>\n",
              "      <th>경기</th>\n",
              "      <td>20</td>\n",
              "      <td>27</td>\n",
              "      <td>13</td>\n",
              "    </tr>\n",
              "    <tr>\n",
              "      <th>강원</th>\n",
              "      <td>14</td>\n",
              "      <td>18</td>\n",
              "      <td>9</td>\n",
              "    </tr>\n",
              "    <tr>\n",
              "      <th>충북</th>\n",
              "      <td>19</td>\n",
              "      <td>26</td>\n",
              "      <td>14</td>\n",
              "    </tr>\n",
              "    <tr>\n",
              "      <th>충남</th>\n",
              "      <td>23</td>\n",
              "      <td>29</td>\n",
              "      <td>19</td>\n",
              "    </tr>\n",
              "    <tr>\n",
              "      <th>전북</th>\n",
              "      <td>23</td>\n",
              "      <td>30</td>\n",
              "      <td>14</td>\n",
              "    </tr>\n",
              "    <tr>\n",
              "      <th>전남</th>\n",
              "      <td>14</td>\n",
              "      <td>27</td>\n",
              "      <td>10</td>\n",
              "    </tr>\n",
              "    <tr>\n",
              "      <th>경북</th>\n",
              "      <td>15</td>\n",
              "      <td>23</td>\n",
              "      <td>8</td>\n",
              "    </tr>\n",
              "    <tr>\n",
              "      <th>경남</th>\n",
              "      <td>13</td>\n",
              "      <td>17</td>\n",
              "      <td>9</td>\n",
              "    </tr>\n",
              "    <tr>\n",
              "      <th>제주</th>\n",
              "      <td>14</td>\n",
              "      <td>16</td>\n",
              "      <td>11</td>\n",
              "    </tr>\n",
              "  </tbody>\n",
              "</table>\n",
              "</div>"
            ],
            "text/plain": [
              "    주간평균  최고값  최저값\n",
              "지역                \n",
              "서울    20   22   16\n",
              "부산    13   18   10\n",
              "대구    15   18   11\n",
              "인천    20   30   12\n",
              "광주    19   23   15\n",
              "대전    16   20   12\n",
              "울산    14   16   11\n",
              "세종    18   19   17\n",
              "경기    20   27   13\n",
              "강원    14   18    9\n",
              "충북    19   26   14\n",
              "충남    23   29   19\n",
              "전북    23   30   14\n",
              "전남    14   27   10\n",
              "경북    15   23    8\n",
              "경남    13   17    9\n",
              "제주    14   16   11"
            ]
          },
          "metadata": {
            "tags": []
          },
          "execution_count": 24
        }
      ]
    },
    {
      "cell_type": "markdown",
      "metadata": {
        "id": "UOj2ZVNwnIVC"
      },
      "source": [
        ""
      ]
    },
    {
      "cell_type": "code",
      "metadata": {
        "id": "4lb34DSsUm_8",
        "colab": {
          "base_uri": "https://localhost:8080/",
          "height": 550
        },
        "outputId": "c66c8c1a-6fa7-466a-8ec0-e162a327867f"
      },
      "source": [
        "#인덱스를 일반 데이터 열로 전환\n",
        "df = df.reset_index()\n",
        "df"
      ],
      "execution_count": 25,
      "outputs": [
        {
          "output_type": "execute_result",
          "data": {
            "text/html": [
              "<div>\n",
              "<style scoped>\n",
              "    .dataframe tbody tr th:only-of-type {\n",
              "        vertical-align: middle;\n",
              "    }\n",
              "\n",
              "    .dataframe tbody tr th {\n",
              "        vertical-align: top;\n",
              "    }\n",
              "\n",
              "    .dataframe thead th {\n",
              "        text-align: right;\n",
              "    }\n",
              "</style>\n",
              "<table border=\"1\" class=\"dataframe\">\n",
              "  <thead>\n",
              "    <tr style=\"text-align: right;\">\n",
              "      <th></th>\n",
              "      <th>지역</th>\n",
              "      <th>주간평균</th>\n",
              "      <th>최고값</th>\n",
              "      <th>최저값</th>\n",
              "    </tr>\n",
              "  </thead>\n",
              "  <tbody>\n",
              "    <tr>\n",
              "      <th>0</th>\n",
              "      <td>서울</td>\n",
              "      <td>20</td>\n",
              "      <td>22</td>\n",
              "      <td>16</td>\n",
              "    </tr>\n",
              "    <tr>\n",
              "      <th>1</th>\n",
              "      <td>부산</td>\n",
              "      <td>13</td>\n",
              "      <td>18</td>\n",
              "      <td>10</td>\n",
              "    </tr>\n",
              "    <tr>\n",
              "      <th>2</th>\n",
              "      <td>대구</td>\n",
              "      <td>15</td>\n",
              "      <td>18</td>\n",
              "      <td>11</td>\n",
              "    </tr>\n",
              "    <tr>\n",
              "      <th>3</th>\n",
              "      <td>인천</td>\n",
              "      <td>20</td>\n",
              "      <td>30</td>\n",
              "      <td>12</td>\n",
              "    </tr>\n",
              "    <tr>\n",
              "      <th>4</th>\n",
              "      <td>광주</td>\n",
              "      <td>19</td>\n",
              "      <td>23</td>\n",
              "      <td>15</td>\n",
              "    </tr>\n",
              "    <tr>\n",
              "      <th>5</th>\n",
              "      <td>대전</td>\n",
              "      <td>16</td>\n",
              "      <td>20</td>\n",
              "      <td>12</td>\n",
              "    </tr>\n",
              "    <tr>\n",
              "      <th>6</th>\n",
              "      <td>울산</td>\n",
              "      <td>14</td>\n",
              "      <td>16</td>\n",
              "      <td>11</td>\n",
              "    </tr>\n",
              "    <tr>\n",
              "      <th>7</th>\n",
              "      <td>세종</td>\n",
              "      <td>18</td>\n",
              "      <td>19</td>\n",
              "      <td>17</td>\n",
              "    </tr>\n",
              "    <tr>\n",
              "      <th>8</th>\n",
              "      <td>경기</td>\n",
              "      <td>20</td>\n",
              "      <td>27</td>\n",
              "      <td>13</td>\n",
              "    </tr>\n",
              "    <tr>\n",
              "      <th>9</th>\n",
              "      <td>강원</td>\n",
              "      <td>14</td>\n",
              "      <td>18</td>\n",
              "      <td>9</td>\n",
              "    </tr>\n",
              "    <tr>\n",
              "      <th>10</th>\n",
              "      <td>충북</td>\n",
              "      <td>19</td>\n",
              "      <td>26</td>\n",
              "      <td>14</td>\n",
              "    </tr>\n",
              "    <tr>\n",
              "      <th>11</th>\n",
              "      <td>충남</td>\n",
              "      <td>23</td>\n",
              "      <td>29</td>\n",
              "      <td>19</td>\n",
              "    </tr>\n",
              "    <tr>\n",
              "      <th>12</th>\n",
              "      <td>전북</td>\n",
              "      <td>23</td>\n",
              "      <td>30</td>\n",
              "      <td>14</td>\n",
              "    </tr>\n",
              "    <tr>\n",
              "      <th>13</th>\n",
              "      <td>전남</td>\n",
              "      <td>14</td>\n",
              "      <td>27</td>\n",
              "      <td>10</td>\n",
              "    </tr>\n",
              "    <tr>\n",
              "      <th>14</th>\n",
              "      <td>경북</td>\n",
              "      <td>15</td>\n",
              "      <td>23</td>\n",
              "      <td>8</td>\n",
              "    </tr>\n",
              "    <tr>\n",
              "      <th>15</th>\n",
              "      <td>경남</td>\n",
              "      <td>13</td>\n",
              "      <td>17</td>\n",
              "      <td>9</td>\n",
              "    </tr>\n",
              "    <tr>\n",
              "      <th>16</th>\n",
              "      <td>제주</td>\n",
              "      <td>14</td>\n",
              "      <td>16</td>\n",
              "      <td>11</td>\n",
              "    </tr>\n",
              "  </tbody>\n",
              "</table>\n",
              "</div>"
            ],
            "text/plain": [
              "    지역  주간평균  최고값  최저값\n",
              "0   서울    20   22   16\n",
              "1   부산    13   18   10\n",
              "2   대구    15   18   11\n",
              "3   인천    20   30   12\n",
              "4   광주    19   23   15\n",
              "5   대전    16   20   12\n",
              "6   울산    14   16   11\n",
              "7   세종    18   19   17\n",
              "8   경기    20   27   13\n",
              "9   강원    14   18    9\n",
              "10  충북    19   26   14\n",
              "11  충남    23   29   19\n",
              "12  전북    23   30   14\n",
              "13  전남    14   27   10\n",
              "14  경북    15   23    8\n",
              "15  경남    13   17    9\n",
              "16  제주    14   16   11"
            ]
          },
          "metadata": {
            "tags": []
          },
          "execution_count": 25
        }
      ]
    },
    {
      "cell_type": "markdown",
      "metadata": {
        "id": "UO8Dw3XWxi97"
      },
      "source": [
        "## **데이터프레임 인덱싱(indexing)과 슬라이싱(slicing)**\n"
      ]
    },
    {
      "cell_type": "code",
      "metadata": {
        "id": "kDu43olQ6-t_",
        "colab": {
          "base_uri": "https://localhost:8080/",
          "height": 225
        },
        "outputId": "31e77f4f-7173-4fcd-9ce6-bb71a12c6714"
      },
      "source": [
        "df = df.set_index('지역')\n",
        "df.head()"
      ],
      "execution_count": 26,
      "outputs": [
        {
          "output_type": "execute_result",
          "data": {
            "text/html": [
              "<div>\n",
              "<style scoped>\n",
              "    .dataframe tbody tr th:only-of-type {\n",
              "        vertical-align: middle;\n",
              "    }\n",
              "\n",
              "    .dataframe tbody tr th {\n",
              "        vertical-align: top;\n",
              "    }\n",
              "\n",
              "    .dataframe thead th {\n",
              "        text-align: right;\n",
              "    }\n",
              "</style>\n",
              "<table border=\"1\" class=\"dataframe\">\n",
              "  <thead>\n",
              "    <tr style=\"text-align: right;\">\n",
              "      <th></th>\n",
              "      <th>주간평균</th>\n",
              "      <th>최고값</th>\n",
              "      <th>최저값</th>\n",
              "    </tr>\n",
              "    <tr>\n",
              "      <th>지역</th>\n",
              "      <th></th>\n",
              "      <th></th>\n",
              "      <th></th>\n",
              "    </tr>\n",
              "  </thead>\n",
              "  <tbody>\n",
              "    <tr>\n",
              "      <th>서울</th>\n",
              "      <td>20</td>\n",
              "      <td>22</td>\n",
              "      <td>16</td>\n",
              "    </tr>\n",
              "    <tr>\n",
              "      <th>부산</th>\n",
              "      <td>13</td>\n",
              "      <td>18</td>\n",
              "      <td>10</td>\n",
              "    </tr>\n",
              "    <tr>\n",
              "      <th>대구</th>\n",
              "      <td>15</td>\n",
              "      <td>18</td>\n",
              "      <td>11</td>\n",
              "    </tr>\n",
              "    <tr>\n",
              "      <th>인천</th>\n",
              "      <td>20</td>\n",
              "      <td>30</td>\n",
              "      <td>12</td>\n",
              "    </tr>\n",
              "    <tr>\n",
              "      <th>광주</th>\n",
              "      <td>19</td>\n",
              "      <td>23</td>\n",
              "      <td>15</td>\n",
              "    </tr>\n",
              "  </tbody>\n",
              "</table>\n",
              "</div>"
            ],
            "text/plain": [
              "    주간평균  최고값  최저값\n",
              "지역                \n",
              "서울    20   22   16\n",
              "부산    13   18   10\n",
              "대구    15   18   11\n",
              "인천    20   30   12\n",
              "광주    19   23   15"
            ]
          },
          "metadata": {
            "tags": []
          },
          "execution_count": 26
        }
      ]
    },
    {
      "cell_type": "markdown",
      "metadata": {
        "id": "Cj62A7iA2MuH"
      },
      "source": [
        "### df[]\n",
        " + 특정 열 가져오기 : df[열인덱스], df[열인덱스 리스트]\n",
        " + 특정 행 가져오기 : df[시작행인덱스:종료행인덱스]  "
      ]
    },
    {
      "cell_type": "code",
      "metadata": {
        "colab": {
          "base_uri": "https://localhost:8080/"
        },
        "id": "doup99UioY2M",
        "outputId": "68c99cd2-3571-4676-9fa1-50447cb6c1e0"
      },
      "source": [
        "df.columns"
      ],
      "execution_count": 73,
      "outputs": [
        {
          "output_type": "execute_result",
          "data": {
            "text/plain": [
              "Index(['지역', '주간평균', '최고값', '최저값'], dtype='object')"
            ]
          },
          "metadata": {
            "tags": []
          },
          "execution_count": 73
        }
      ]
    },
    {
      "cell_type": "code",
      "metadata": {
        "id": "y7CwJ-BjzTDe",
        "colab": {
          "base_uri": "https://localhost:8080/"
        },
        "outputId": "29225be8-bc6d-4431-9c3b-71389b3740a6"
      },
      "source": [
        "#특정 열 가져오기\n",
        "df['주간평균']"
      ],
      "execution_count": 27,
      "outputs": [
        {
          "output_type": "execute_result",
          "data": {
            "text/plain": [
              "지역\n",
              "서울    20\n",
              "부산    13\n",
              "대구    15\n",
              "인천    20\n",
              "광주    19\n",
              "대전    16\n",
              "울산    14\n",
              "세종    18\n",
              "경기    20\n",
              "강원    14\n",
              "충북    19\n",
              "충남    23\n",
              "전북    23\n",
              "전남    14\n",
              "경북    15\n",
              "경남    13\n",
              "제주    14\n",
              "Name: 주간평균, dtype: int64"
            ]
          },
          "metadata": {
            "tags": []
          },
          "execution_count": 27
        }
      ]
    },
    {
      "cell_type": "code",
      "metadata": {
        "id": "xCoa2WpIzZAn",
        "colab": {
          "base_uri": "https://localhost:8080/",
          "height": 580
        },
        "outputId": "a032e053-933a-4ff3-a900-905c24e292c0"
      },
      "source": [
        "df[['주간평균','최고값']]"
      ],
      "execution_count": 28,
      "outputs": [
        {
          "output_type": "execute_result",
          "data": {
            "text/html": [
              "<div>\n",
              "<style scoped>\n",
              "    .dataframe tbody tr th:only-of-type {\n",
              "        vertical-align: middle;\n",
              "    }\n",
              "\n",
              "    .dataframe tbody tr th {\n",
              "        vertical-align: top;\n",
              "    }\n",
              "\n",
              "    .dataframe thead th {\n",
              "        text-align: right;\n",
              "    }\n",
              "</style>\n",
              "<table border=\"1\" class=\"dataframe\">\n",
              "  <thead>\n",
              "    <tr style=\"text-align: right;\">\n",
              "      <th></th>\n",
              "      <th>주간평균</th>\n",
              "      <th>최고값</th>\n",
              "    </tr>\n",
              "    <tr>\n",
              "      <th>지역</th>\n",
              "      <th></th>\n",
              "      <th></th>\n",
              "    </tr>\n",
              "  </thead>\n",
              "  <tbody>\n",
              "    <tr>\n",
              "      <th>서울</th>\n",
              "      <td>20</td>\n",
              "      <td>22</td>\n",
              "    </tr>\n",
              "    <tr>\n",
              "      <th>부산</th>\n",
              "      <td>13</td>\n",
              "      <td>18</td>\n",
              "    </tr>\n",
              "    <tr>\n",
              "      <th>대구</th>\n",
              "      <td>15</td>\n",
              "      <td>18</td>\n",
              "    </tr>\n",
              "    <tr>\n",
              "      <th>인천</th>\n",
              "      <td>20</td>\n",
              "      <td>30</td>\n",
              "    </tr>\n",
              "    <tr>\n",
              "      <th>광주</th>\n",
              "      <td>19</td>\n",
              "      <td>23</td>\n",
              "    </tr>\n",
              "    <tr>\n",
              "      <th>대전</th>\n",
              "      <td>16</td>\n",
              "      <td>20</td>\n",
              "    </tr>\n",
              "    <tr>\n",
              "      <th>울산</th>\n",
              "      <td>14</td>\n",
              "      <td>16</td>\n",
              "    </tr>\n",
              "    <tr>\n",
              "      <th>세종</th>\n",
              "      <td>18</td>\n",
              "      <td>19</td>\n",
              "    </tr>\n",
              "    <tr>\n",
              "      <th>경기</th>\n",
              "      <td>20</td>\n",
              "      <td>27</td>\n",
              "    </tr>\n",
              "    <tr>\n",
              "      <th>강원</th>\n",
              "      <td>14</td>\n",
              "      <td>18</td>\n",
              "    </tr>\n",
              "    <tr>\n",
              "      <th>충북</th>\n",
              "      <td>19</td>\n",
              "      <td>26</td>\n",
              "    </tr>\n",
              "    <tr>\n",
              "      <th>충남</th>\n",
              "      <td>23</td>\n",
              "      <td>29</td>\n",
              "    </tr>\n",
              "    <tr>\n",
              "      <th>전북</th>\n",
              "      <td>23</td>\n",
              "      <td>30</td>\n",
              "    </tr>\n",
              "    <tr>\n",
              "      <th>전남</th>\n",
              "      <td>14</td>\n",
              "      <td>27</td>\n",
              "    </tr>\n",
              "    <tr>\n",
              "      <th>경북</th>\n",
              "      <td>15</td>\n",
              "      <td>23</td>\n",
              "    </tr>\n",
              "    <tr>\n",
              "      <th>경남</th>\n",
              "      <td>13</td>\n",
              "      <td>17</td>\n",
              "    </tr>\n",
              "    <tr>\n",
              "      <th>제주</th>\n",
              "      <td>14</td>\n",
              "      <td>16</td>\n",
              "    </tr>\n",
              "  </tbody>\n",
              "</table>\n",
              "</div>"
            ],
            "text/plain": [
              "    주간평균  최고값\n",
              "지역           \n",
              "서울    20   22\n",
              "부산    13   18\n",
              "대구    15   18\n",
              "인천    20   30\n",
              "광주    19   23\n",
              "대전    16   20\n",
              "울산    14   16\n",
              "세종    18   19\n",
              "경기    20   27\n",
              "강원    14   18\n",
              "충북    19   26\n",
              "충남    23   29\n",
              "전북    23   30\n",
              "전남    14   27\n",
              "경북    15   23\n",
              "경남    13   17\n",
              "제주    14   16"
            ]
          },
          "metadata": {
            "tags": []
          },
          "execution_count": 28
        }
      ]
    },
    {
      "cell_type": "code",
      "metadata": {
        "id": "Wm0TBqD42hKZ",
        "colab": {
          "base_uri": "https://localhost:8080/",
          "height": 166
        },
        "outputId": "010b4a8f-233f-4fbd-bf26-eaa8162ea6b4"
      },
      "source": [
        "#특정행 가져오기\n",
        "df['부산':'인천']"
      ],
      "execution_count": 29,
      "outputs": [
        {
          "output_type": "execute_result",
          "data": {
            "text/html": [
              "<div>\n",
              "<style scoped>\n",
              "    .dataframe tbody tr th:only-of-type {\n",
              "        vertical-align: middle;\n",
              "    }\n",
              "\n",
              "    .dataframe tbody tr th {\n",
              "        vertical-align: top;\n",
              "    }\n",
              "\n",
              "    .dataframe thead th {\n",
              "        text-align: right;\n",
              "    }\n",
              "</style>\n",
              "<table border=\"1\" class=\"dataframe\">\n",
              "  <thead>\n",
              "    <tr style=\"text-align: right;\">\n",
              "      <th></th>\n",
              "      <th>주간평균</th>\n",
              "      <th>최고값</th>\n",
              "      <th>최저값</th>\n",
              "    </tr>\n",
              "    <tr>\n",
              "      <th>지역</th>\n",
              "      <th></th>\n",
              "      <th></th>\n",
              "      <th></th>\n",
              "    </tr>\n",
              "  </thead>\n",
              "  <tbody>\n",
              "    <tr>\n",
              "      <th>부산</th>\n",
              "      <td>13</td>\n",
              "      <td>18</td>\n",
              "      <td>10</td>\n",
              "    </tr>\n",
              "    <tr>\n",
              "      <th>대구</th>\n",
              "      <td>15</td>\n",
              "      <td>18</td>\n",
              "      <td>11</td>\n",
              "    </tr>\n",
              "    <tr>\n",
              "      <th>인천</th>\n",
              "      <td>20</td>\n",
              "      <td>30</td>\n",
              "      <td>12</td>\n",
              "    </tr>\n",
              "  </tbody>\n",
              "</table>\n",
              "</div>"
            ],
            "text/plain": [
              "    주간평균  최고값  최저값\n",
              "지역                \n",
              "부산    13   18   10\n",
              "대구    15   18   11\n",
              "인천    20   30   12"
            ]
          },
          "metadata": {
            "tags": []
          },
          "execution_count": 29
        }
      ]
    },
    {
      "cell_type": "markdown",
      "metadata": {
        "id": "OQkafCZj21TB"
      },
      "source": [
        "### df.loc[행인덱스, 열인덱스]\n",
        "* 특정 열 가져오기 : df.loc[:, 열인덱스]\n",
        "* 특정 행 가져오기 : df.loc[행인덱스, :]\n",
        "* 특정 항목 가져오기 : df.loc[행인덱스, 열인덱스]"
      ]
    },
    {
      "cell_type": "code",
      "metadata": {
        "id": "ur3fWQue4mkE",
        "colab": {
          "base_uri": "https://localhost:8080/"
        },
        "outputId": "fa82ee16-6c3b-4e54-c9a1-4ba50522363d"
      },
      "source": [
        "#특정 열 가져오기\n",
        "df.loc['울산','주간평균' : '최고값']"
      ],
      "execution_count": 30,
      "outputs": [
        {
          "output_type": "execute_result",
          "data": {
            "text/plain": [
              "주간평균    14\n",
              "최고값     16\n",
              "Name: 울산, dtype: int64"
            ]
          },
          "metadata": {
            "tags": []
          },
          "execution_count": 30
        }
      ]
    },
    {
      "cell_type": "code",
      "metadata": {
        "id": "pTfKZPju4s8N",
        "colab": {
          "base_uri": "https://localhost:8080/",
          "height": 580
        },
        "outputId": "c1863d84-1a06-47cd-d1f2-1407a4764c08"
      },
      "source": [
        "df.loc[:, ['주간평균', '최저값']]"
      ],
      "execution_count": 31,
      "outputs": [
        {
          "output_type": "execute_result",
          "data": {
            "text/html": [
              "<div>\n",
              "<style scoped>\n",
              "    .dataframe tbody tr th:only-of-type {\n",
              "        vertical-align: middle;\n",
              "    }\n",
              "\n",
              "    .dataframe tbody tr th {\n",
              "        vertical-align: top;\n",
              "    }\n",
              "\n",
              "    .dataframe thead th {\n",
              "        text-align: right;\n",
              "    }\n",
              "</style>\n",
              "<table border=\"1\" class=\"dataframe\">\n",
              "  <thead>\n",
              "    <tr style=\"text-align: right;\">\n",
              "      <th></th>\n",
              "      <th>주간평균</th>\n",
              "      <th>최저값</th>\n",
              "    </tr>\n",
              "    <tr>\n",
              "      <th>지역</th>\n",
              "      <th></th>\n",
              "      <th></th>\n",
              "    </tr>\n",
              "  </thead>\n",
              "  <tbody>\n",
              "    <tr>\n",
              "      <th>서울</th>\n",
              "      <td>20</td>\n",
              "      <td>16</td>\n",
              "    </tr>\n",
              "    <tr>\n",
              "      <th>부산</th>\n",
              "      <td>13</td>\n",
              "      <td>10</td>\n",
              "    </tr>\n",
              "    <tr>\n",
              "      <th>대구</th>\n",
              "      <td>15</td>\n",
              "      <td>11</td>\n",
              "    </tr>\n",
              "    <tr>\n",
              "      <th>인천</th>\n",
              "      <td>20</td>\n",
              "      <td>12</td>\n",
              "    </tr>\n",
              "    <tr>\n",
              "      <th>광주</th>\n",
              "      <td>19</td>\n",
              "      <td>15</td>\n",
              "    </tr>\n",
              "    <tr>\n",
              "      <th>대전</th>\n",
              "      <td>16</td>\n",
              "      <td>12</td>\n",
              "    </tr>\n",
              "    <tr>\n",
              "      <th>울산</th>\n",
              "      <td>14</td>\n",
              "      <td>11</td>\n",
              "    </tr>\n",
              "    <tr>\n",
              "      <th>세종</th>\n",
              "      <td>18</td>\n",
              "      <td>17</td>\n",
              "    </tr>\n",
              "    <tr>\n",
              "      <th>경기</th>\n",
              "      <td>20</td>\n",
              "      <td>13</td>\n",
              "    </tr>\n",
              "    <tr>\n",
              "      <th>강원</th>\n",
              "      <td>14</td>\n",
              "      <td>9</td>\n",
              "    </tr>\n",
              "    <tr>\n",
              "      <th>충북</th>\n",
              "      <td>19</td>\n",
              "      <td>14</td>\n",
              "    </tr>\n",
              "    <tr>\n",
              "      <th>충남</th>\n",
              "      <td>23</td>\n",
              "      <td>19</td>\n",
              "    </tr>\n",
              "    <tr>\n",
              "      <th>전북</th>\n",
              "      <td>23</td>\n",
              "      <td>14</td>\n",
              "    </tr>\n",
              "    <tr>\n",
              "      <th>전남</th>\n",
              "      <td>14</td>\n",
              "      <td>10</td>\n",
              "    </tr>\n",
              "    <tr>\n",
              "      <th>경북</th>\n",
              "      <td>15</td>\n",
              "      <td>8</td>\n",
              "    </tr>\n",
              "    <tr>\n",
              "      <th>경남</th>\n",
              "      <td>13</td>\n",
              "      <td>9</td>\n",
              "    </tr>\n",
              "    <tr>\n",
              "      <th>제주</th>\n",
              "      <td>14</td>\n",
              "      <td>11</td>\n",
              "    </tr>\n",
              "  </tbody>\n",
              "</table>\n",
              "</div>"
            ],
            "text/plain": [
              "    주간평균  최저값\n",
              "지역           \n",
              "서울    20   16\n",
              "부산    13   10\n",
              "대구    15   11\n",
              "인천    20   12\n",
              "광주    19   15\n",
              "대전    16   12\n",
              "울산    14   11\n",
              "세종    18   17\n",
              "경기    20   13\n",
              "강원    14    9\n",
              "충북    19   14\n",
              "충남    23   19\n",
              "전북    23   14\n",
              "전남    14   10\n",
              "경북    15    8\n",
              "경남    13    9\n",
              "제주    14   11"
            ]
          },
          "metadata": {
            "tags": []
          },
          "execution_count": 31
        }
      ]
    },
    {
      "cell_type": "code",
      "metadata": {
        "id": "4LCD_xQ340Ai",
        "colab": {
          "base_uri": "https://localhost:8080/",
          "height": 580
        },
        "outputId": "dd8591db-1c76-4b13-a425-5cf73b46e88f"
      },
      "source": [
        "df.loc[:, '주간평균':'최저값']"
      ],
      "execution_count": 32,
      "outputs": [
        {
          "output_type": "execute_result",
          "data": {
            "text/html": [
              "<div>\n",
              "<style scoped>\n",
              "    .dataframe tbody tr th:only-of-type {\n",
              "        vertical-align: middle;\n",
              "    }\n",
              "\n",
              "    .dataframe tbody tr th {\n",
              "        vertical-align: top;\n",
              "    }\n",
              "\n",
              "    .dataframe thead th {\n",
              "        text-align: right;\n",
              "    }\n",
              "</style>\n",
              "<table border=\"1\" class=\"dataframe\">\n",
              "  <thead>\n",
              "    <tr style=\"text-align: right;\">\n",
              "      <th></th>\n",
              "      <th>주간평균</th>\n",
              "      <th>최고값</th>\n",
              "      <th>최저값</th>\n",
              "    </tr>\n",
              "    <tr>\n",
              "      <th>지역</th>\n",
              "      <th></th>\n",
              "      <th></th>\n",
              "      <th></th>\n",
              "    </tr>\n",
              "  </thead>\n",
              "  <tbody>\n",
              "    <tr>\n",
              "      <th>서울</th>\n",
              "      <td>20</td>\n",
              "      <td>22</td>\n",
              "      <td>16</td>\n",
              "    </tr>\n",
              "    <tr>\n",
              "      <th>부산</th>\n",
              "      <td>13</td>\n",
              "      <td>18</td>\n",
              "      <td>10</td>\n",
              "    </tr>\n",
              "    <tr>\n",
              "      <th>대구</th>\n",
              "      <td>15</td>\n",
              "      <td>18</td>\n",
              "      <td>11</td>\n",
              "    </tr>\n",
              "    <tr>\n",
              "      <th>인천</th>\n",
              "      <td>20</td>\n",
              "      <td>30</td>\n",
              "      <td>12</td>\n",
              "    </tr>\n",
              "    <tr>\n",
              "      <th>광주</th>\n",
              "      <td>19</td>\n",
              "      <td>23</td>\n",
              "      <td>15</td>\n",
              "    </tr>\n",
              "    <tr>\n",
              "      <th>대전</th>\n",
              "      <td>16</td>\n",
              "      <td>20</td>\n",
              "      <td>12</td>\n",
              "    </tr>\n",
              "    <tr>\n",
              "      <th>울산</th>\n",
              "      <td>14</td>\n",
              "      <td>16</td>\n",
              "      <td>11</td>\n",
              "    </tr>\n",
              "    <tr>\n",
              "      <th>세종</th>\n",
              "      <td>18</td>\n",
              "      <td>19</td>\n",
              "      <td>17</td>\n",
              "    </tr>\n",
              "    <tr>\n",
              "      <th>경기</th>\n",
              "      <td>20</td>\n",
              "      <td>27</td>\n",
              "      <td>13</td>\n",
              "    </tr>\n",
              "    <tr>\n",
              "      <th>강원</th>\n",
              "      <td>14</td>\n",
              "      <td>18</td>\n",
              "      <td>9</td>\n",
              "    </tr>\n",
              "    <tr>\n",
              "      <th>충북</th>\n",
              "      <td>19</td>\n",
              "      <td>26</td>\n",
              "      <td>14</td>\n",
              "    </tr>\n",
              "    <tr>\n",
              "      <th>충남</th>\n",
              "      <td>23</td>\n",
              "      <td>29</td>\n",
              "      <td>19</td>\n",
              "    </tr>\n",
              "    <tr>\n",
              "      <th>전북</th>\n",
              "      <td>23</td>\n",
              "      <td>30</td>\n",
              "      <td>14</td>\n",
              "    </tr>\n",
              "    <tr>\n",
              "      <th>전남</th>\n",
              "      <td>14</td>\n",
              "      <td>27</td>\n",
              "      <td>10</td>\n",
              "    </tr>\n",
              "    <tr>\n",
              "      <th>경북</th>\n",
              "      <td>15</td>\n",
              "      <td>23</td>\n",
              "      <td>8</td>\n",
              "    </tr>\n",
              "    <tr>\n",
              "      <th>경남</th>\n",
              "      <td>13</td>\n",
              "      <td>17</td>\n",
              "      <td>9</td>\n",
              "    </tr>\n",
              "    <tr>\n",
              "      <th>제주</th>\n",
              "      <td>14</td>\n",
              "      <td>16</td>\n",
              "      <td>11</td>\n",
              "    </tr>\n",
              "  </tbody>\n",
              "</table>\n",
              "</div>"
            ],
            "text/plain": [
              "    주간평균  최고값  최저값\n",
              "지역                \n",
              "서울    20   22   16\n",
              "부산    13   18   10\n",
              "대구    15   18   11\n",
              "인천    20   30   12\n",
              "광주    19   23   15\n",
              "대전    16   20   12\n",
              "울산    14   16   11\n",
              "세종    18   19   17\n",
              "경기    20   27   13\n",
              "강원    14   18    9\n",
              "충북    19   26   14\n",
              "충남    23   29   19\n",
              "전북    23   30   14\n",
              "전남    14   27   10\n",
              "경북    15   23    8\n",
              "경남    13   17    9\n",
              "제주    14   16   11"
            ]
          },
          "metadata": {
            "tags": []
          },
          "execution_count": 32
        }
      ]
    },
    {
      "cell_type": "code",
      "metadata": {
        "id": "PvhrPBZp49jO",
        "colab": {
          "base_uri": "https://localhost:8080/"
        },
        "outputId": "b8f2dbb4-a9ed-4b17-ffd6-857e7881b4fe"
      },
      "source": [
        "#특정 행 가져오기\n",
        "df.loc['부산',:]"
      ],
      "execution_count": 33,
      "outputs": [
        {
          "output_type": "execute_result",
          "data": {
            "text/plain": [
              "주간평균    13\n",
              "최고값     18\n",
              "최저값     10\n",
              "Name: 부산, dtype: int64"
            ]
          },
          "metadata": {
            "tags": []
          },
          "execution_count": 33
        }
      ]
    },
    {
      "cell_type": "code",
      "metadata": {
        "id": "XAy3Zu3G5Pj3"
      },
      "source": [
        "df.loc[['부산', '인천'], :]"
      ],
      "execution_count": null,
      "outputs": []
    },
    {
      "cell_type": "code",
      "metadata": {
        "id": "fvfrg_sp5DjV"
      },
      "source": [
        "df.loc['부산':'인천', :]"
      ],
      "execution_count": null,
      "outputs": []
    },
    {
      "cell_type": "code",
      "metadata": {
        "id": "JaH23lSz5U1q",
        "colab": {
          "base_uri": "https://localhost:8080/"
        },
        "outputId": "2dfcbf93-1870-4894-c40b-bef809d8909c"
      },
      "source": [
        "#특정 항목 가져오기\n",
        "df.loc['부산', '주간평균']"
      ],
      "execution_count": 34,
      "outputs": [
        {
          "output_type": "execute_result",
          "data": {
            "text/plain": [
              "13"
            ]
          },
          "metadata": {
            "tags": []
          },
          "execution_count": 34
        }
      ]
    },
    {
      "cell_type": "code",
      "metadata": {
        "id": "JzZvoYtp5d_X",
        "colab": {
          "base_uri": "https://localhost:8080/",
          "height": 136
        },
        "outputId": "ec65766a-e840-4598-d835-4e6a7b2dbdc2"
      },
      "source": [
        "df.loc[['부산','인천'],['주간평균', '최저값']]"
      ],
      "execution_count": 35,
      "outputs": [
        {
          "output_type": "execute_result",
          "data": {
            "text/html": [
              "<div>\n",
              "<style scoped>\n",
              "    .dataframe tbody tr th:only-of-type {\n",
              "        vertical-align: middle;\n",
              "    }\n",
              "\n",
              "    .dataframe tbody tr th {\n",
              "        vertical-align: top;\n",
              "    }\n",
              "\n",
              "    .dataframe thead th {\n",
              "        text-align: right;\n",
              "    }\n",
              "</style>\n",
              "<table border=\"1\" class=\"dataframe\">\n",
              "  <thead>\n",
              "    <tr style=\"text-align: right;\">\n",
              "      <th></th>\n",
              "      <th>주간평균</th>\n",
              "      <th>최저값</th>\n",
              "    </tr>\n",
              "    <tr>\n",
              "      <th>지역</th>\n",
              "      <th></th>\n",
              "      <th></th>\n",
              "    </tr>\n",
              "  </thead>\n",
              "  <tbody>\n",
              "    <tr>\n",
              "      <th>부산</th>\n",
              "      <td>13</td>\n",
              "      <td>10</td>\n",
              "    </tr>\n",
              "    <tr>\n",
              "      <th>인천</th>\n",
              "      <td>20</td>\n",
              "      <td>12</td>\n",
              "    </tr>\n",
              "  </tbody>\n",
              "</table>\n",
              "</div>"
            ],
            "text/plain": [
              "    주간평균  최저값\n",
              "지역           \n",
              "부산    13   10\n",
              "인천    20   12"
            ]
          },
          "metadata": {
            "tags": []
          },
          "execution_count": 35
        }
      ]
    },
    {
      "cell_type": "code",
      "metadata": {
        "id": "_Ec3ZWyu5kVA",
        "colab": {
          "base_uri": "https://localhost:8080/",
          "height": 166
        },
        "outputId": "a3f20a7e-1356-4779-d7a3-b2951eeed510"
      },
      "source": [
        "df.loc['부산':'인천','주간평균':'최저값']"
      ],
      "execution_count": 36,
      "outputs": [
        {
          "output_type": "execute_result",
          "data": {
            "text/html": [
              "<div>\n",
              "<style scoped>\n",
              "    .dataframe tbody tr th:only-of-type {\n",
              "        vertical-align: middle;\n",
              "    }\n",
              "\n",
              "    .dataframe tbody tr th {\n",
              "        vertical-align: top;\n",
              "    }\n",
              "\n",
              "    .dataframe thead th {\n",
              "        text-align: right;\n",
              "    }\n",
              "</style>\n",
              "<table border=\"1\" class=\"dataframe\">\n",
              "  <thead>\n",
              "    <tr style=\"text-align: right;\">\n",
              "      <th></th>\n",
              "      <th>주간평균</th>\n",
              "      <th>최고값</th>\n",
              "      <th>최저값</th>\n",
              "    </tr>\n",
              "    <tr>\n",
              "      <th>지역</th>\n",
              "      <th></th>\n",
              "      <th></th>\n",
              "      <th></th>\n",
              "    </tr>\n",
              "  </thead>\n",
              "  <tbody>\n",
              "    <tr>\n",
              "      <th>부산</th>\n",
              "      <td>13</td>\n",
              "      <td>18</td>\n",
              "      <td>10</td>\n",
              "    </tr>\n",
              "    <tr>\n",
              "      <th>대구</th>\n",
              "      <td>15</td>\n",
              "      <td>18</td>\n",
              "      <td>11</td>\n",
              "    </tr>\n",
              "    <tr>\n",
              "      <th>인천</th>\n",
              "      <td>20</td>\n",
              "      <td>30</td>\n",
              "      <td>12</td>\n",
              "    </tr>\n",
              "  </tbody>\n",
              "</table>\n",
              "</div>"
            ],
            "text/plain": [
              "    주간평균  최고값  최저값\n",
              "지역                \n",
              "부산    13   18   10\n",
              "대구    15   18   11\n",
              "인천    20   30   12"
            ]
          },
          "metadata": {
            "tags": []
          },
          "execution_count": 36
        }
      ]
    },
    {
      "cell_type": "markdown",
      "metadata": {
        "id": "9vn-EO9V58vy"
      },
      "source": [
        "### df.iloc[행인덱스순서, 열인덱스순서]\n",
        "* 특정 열 가져오기 : df.loc[:, 열인덱스순서]\n",
        "* 특정 행 가져오기 : df.loc[행인덱스순서, :]\n",
        "* 특정 항목 가져오기 : df.loc[행인덱스순서, 열인덱스순서]"
      ]
    },
    {
      "cell_type": "code",
      "metadata": {
        "id": "gO8u92nq6Wwe",
        "colab": {
          "base_uri": "https://localhost:8080/"
        },
        "outputId": "17a978a9-f7c7-46d8-f2bf-98da9d7a9dc6"
      },
      "source": [
        "#특정 열 가져오기\n",
        "#df.loc[:, '최저값'] \n",
        "df.iloc[:, 2]"
      ],
      "execution_count": 37,
      "outputs": [
        {
          "output_type": "execute_result",
          "data": {
            "text/plain": [
              "지역\n",
              "서울    16\n",
              "부산    10\n",
              "대구    11\n",
              "인천    12\n",
              "광주    15\n",
              "대전    12\n",
              "울산    11\n",
              "세종    17\n",
              "경기    13\n",
              "강원     9\n",
              "충북    14\n",
              "충남    19\n",
              "전북    14\n",
              "전남    10\n",
              "경북     8\n",
              "경남     9\n",
              "제주    11\n",
              "Name: 최저값, dtype: int64"
            ]
          },
          "metadata": {
            "tags": []
          },
          "execution_count": 37
        }
      ]
    },
    {
      "cell_type": "code",
      "metadata": {
        "id": "JLqavk_Q6dSJ",
        "colab": {
          "base_uri": "https://localhost:8080/",
          "height": 580
        },
        "outputId": "6198dbef-ae85-43da-d45e-a172320ea8fa"
      },
      "source": [
        "#df.loc[:, ['주간평균', '최저값']]\n",
        "df.iloc[:, [0, 2]]"
      ],
      "execution_count": 38,
      "outputs": [
        {
          "output_type": "execute_result",
          "data": {
            "text/html": [
              "<div>\n",
              "<style scoped>\n",
              "    .dataframe tbody tr th:only-of-type {\n",
              "        vertical-align: middle;\n",
              "    }\n",
              "\n",
              "    .dataframe tbody tr th {\n",
              "        vertical-align: top;\n",
              "    }\n",
              "\n",
              "    .dataframe thead th {\n",
              "        text-align: right;\n",
              "    }\n",
              "</style>\n",
              "<table border=\"1\" class=\"dataframe\">\n",
              "  <thead>\n",
              "    <tr style=\"text-align: right;\">\n",
              "      <th></th>\n",
              "      <th>주간평균</th>\n",
              "      <th>최저값</th>\n",
              "    </tr>\n",
              "    <tr>\n",
              "      <th>지역</th>\n",
              "      <th></th>\n",
              "      <th></th>\n",
              "    </tr>\n",
              "  </thead>\n",
              "  <tbody>\n",
              "    <tr>\n",
              "      <th>서울</th>\n",
              "      <td>20</td>\n",
              "      <td>16</td>\n",
              "    </tr>\n",
              "    <tr>\n",
              "      <th>부산</th>\n",
              "      <td>13</td>\n",
              "      <td>10</td>\n",
              "    </tr>\n",
              "    <tr>\n",
              "      <th>대구</th>\n",
              "      <td>15</td>\n",
              "      <td>11</td>\n",
              "    </tr>\n",
              "    <tr>\n",
              "      <th>인천</th>\n",
              "      <td>20</td>\n",
              "      <td>12</td>\n",
              "    </tr>\n",
              "    <tr>\n",
              "      <th>광주</th>\n",
              "      <td>19</td>\n",
              "      <td>15</td>\n",
              "    </tr>\n",
              "    <tr>\n",
              "      <th>대전</th>\n",
              "      <td>16</td>\n",
              "      <td>12</td>\n",
              "    </tr>\n",
              "    <tr>\n",
              "      <th>울산</th>\n",
              "      <td>14</td>\n",
              "      <td>11</td>\n",
              "    </tr>\n",
              "    <tr>\n",
              "      <th>세종</th>\n",
              "      <td>18</td>\n",
              "      <td>17</td>\n",
              "    </tr>\n",
              "    <tr>\n",
              "      <th>경기</th>\n",
              "      <td>20</td>\n",
              "      <td>13</td>\n",
              "    </tr>\n",
              "    <tr>\n",
              "      <th>강원</th>\n",
              "      <td>14</td>\n",
              "      <td>9</td>\n",
              "    </tr>\n",
              "    <tr>\n",
              "      <th>충북</th>\n",
              "      <td>19</td>\n",
              "      <td>14</td>\n",
              "    </tr>\n",
              "    <tr>\n",
              "      <th>충남</th>\n",
              "      <td>23</td>\n",
              "      <td>19</td>\n",
              "    </tr>\n",
              "    <tr>\n",
              "      <th>전북</th>\n",
              "      <td>23</td>\n",
              "      <td>14</td>\n",
              "    </tr>\n",
              "    <tr>\n",
              "      <th>전남</th>\n",
              "      <td>14</td>\n",
              "      <td>10</td>\n",
              "    </tr>\n",
              "    <tr>\n",
              "      <th>경북</th>\n",
              "      <td>15</td>\n",
              "      <td>8</td>\n",
              "    </tr>\n",
              "    <tr>\n",
              "      <th>경남</th>\n",
              "      <td>13</td>\n",
              "      <td>9</td>\n",
              "    </tr>\n",
              "    <tr>\n",
              "      <th>제주</th>\n",
              "      <td>14</td>\n",
              "      <td>11</td>\n",
              "    </tr>\n",
              "  </tbody>\n",
              "</table>\n",
              "</div>"
            ],
            "text/plain": [
              "    주간평균  최저값\n",
              "지역           \n",
              "서울    20   16\n",
              "부산    13   10\n",
              "대구    15   11\n",
              "인천    20   12\n",
              "광주    19   15\n",
              "대전    16   12\n",
              "울산    14   11\n",
              "세종    18   17\n",
              "경기    20   13\n",
              "강원    14    9\n",
              "충북    19   14\n",
              "충남    23   19\n",
              "전북    23   14\n",
              "전남    14   10\n",
              "경북    15    8\n",
              "경남    13    9\n",
              "제주    14   11"
            ]
          },
          "metadata": {
            "tags": []
          },
          "execution_count": 38
        }
      ]
    },
    {
      "cell_type": "code",
      "metadata": {
        "id": "hiV1UrDQ6lNJ"
      },
      "source": [
        "#df.loc[:, '주간평균':'최저값']\n",
        "df.iloc[:, 0:2]"
      ],
      "execution_count": null,
      "outputs": []
    },
    {
      "cell_type": "code",
      "metadata": {
        "id": "0eKovdGO6xxy"
      },
      "source": [
        "#특정 행 가져오기\n",
        "#df.loc['부산',:]\n",
        "df.iloc[1,:]"
      ],
      "execution_count": null,
      "outputs": []
    },
    {
      "cell_type": "code",
      "metadata": {
        "id": "fQt4kZCR63yx"
      },
      "source": [
        "#df.loc[['부산', '인천'], :]\n",
        "df.iloc[[1, 3], :]"
      ],
      "execution_count": null,
      "outputs": []
    },
    {
      "cell_type": "code",
      "metadata": {
        "id": "8sSgV4QzAGZS"
      },
      "source": [
        "#df.loc['부산':'인천', :]\n",
        "df.iloc[1:4, :]"
      ],
      "execution_count": null,
      "outputs": []
    },
    {
      "cell_type": "code",
      "metadata": {
        "id": "xweF6XzvAIVR"
      },
      "source": [
        "#특정 항목 가져오기\n",
        "#df.loc['부산', '주간평균']\n",
        "df.iloc[1, 0]"
      ],
      "execution_count": null,
      "outputs": []
    },
    {
      "cell_type": "code",
      "metadata": {
        "id": "nhAX9CKmAJ0N"
      },
      "source": [
        "#df.loc[['부산','인천'],['주간평균', '최저값']]\n",
        "df.iloc[[0,3],[0, 2]]"
      ],
      "execution_count": null,
      "outputs": []
    },
    {
      "cell_type": "code",
      "metadata": {
        "id": "V-HoJIUAAMm-"
      },
      "source": [
        "#df.loc['부산':'인천','주간평균':'최저값']\n",
        "df.iloc[1:4,0:3]"
      ],
      "execution_count": null,
      "outputs": []
    },
    {
      "cell_type": "markdown",
      "metadata": {
        "id": "vvpKts0-Bd-U"
      },
      "source": [
        "## **데이터프레임(DataFrame) 기본 조회와 기초 통계 메소드**\n",
        "* head(n) : 상위 n개 조회, n생략 시 5개 조회\n",
        "+ tail(n) : 하위 n개 조회, n생략 시 5개 조회\n",
        "+ describe() : 요약 통계량 계산\n",
        "+ mean() : 평균\n",
        "+ max() : 최대\n",
        "+ min() : 최소\n",
        "+ std()  : 표준편차"
      ]
    },
    {
      "cell_type": "code",
      "metadata": {
        "id": "Xl1QlqoKCdag"
      },
      "source": [
        "df.head(2)"
      ],
      "execution_count": null,
      "outputs": []
    },
    {
      "cell_type": "code",
      "metadata": {
        "id": "bSbGKI_8CdYN"
      },
      "source": [
        "df.tail(2)"
      ],
      "execution_count": null,
      "outputs": []
    },
    {
      "cell_type": "code",
      "metadata": {
        "id": "AFi0th9aCsbf"
      },
      "source": [
        "df.describe()"
      ],
      "execution_count": null,
      "outputs": []
    },
    {
      "cell_type": "markdown",
      "metadata": {
        "id": "H_xl7uLIEn_c"
      },
      "source": [
        "## 자주사용되는 메소드\n"
      ]
    },
    {
      "cell_type": "markdown",
      "metadata": {
        "id": "w6drZtA7rbMk"
      },
      "source": [
        "### 행열 전환 : df.T\n"
      ]
    },
    {
      "cell_type": "code",
      "metadata": {
        "id": "7sooCeH0rAtu"
      },
      "source": [
        "df2 = df.T\n",
        "df2"
      ],
      "execution_count": null,
      "outputs": []
    },
    {
      "cell_type": "markdown",
      "metadata": {
        "id": "fUaPuiV5rUpB"
      },
      "source": [
        ""
      ]
    },
    {
      "cell_type": "markdown",
      "metadata": {
        "id": "k48MohOerccD"
      },
      "source": [
        "### 정렬\n",
        "+ 행열 인덱스 정렬 : df.sort_index(axis=n), n생략 또는 0:행, 1:열\n",
        "+ 행렬 값 정렬 : df.sort_values()\n"
      ]
    },
    {
      "cell_type": "code",
      "metadata": {
        "id": "JWafEXHzrMMP",
        "colab": {
          "base_uri": "https://localhost:8080/",
          "height": 580
        },
        "outputId": "c7a4905a-9fe1-43bd-a818-f126d276864a"
      },
      "source": [
        "df"
      ],
      "execution_count": 40,
      "outputs": [
        {
          "output_type": "execute_result",
          "data": {
            "text/html": [
              "<div>\n",
              "<style scoped>\n",
              "    .dataframe tbody tr th:only-of-type {\n",
              "        vertical-align: middle;\n",
              "    }\n",
              "\n",
              "    .dataframe tbody tr th {\n",
              "        vertical-align: top;\n",
              "    }\n",
              "\n",
              "    .dataframe thead th {\n",
              "        text-align: right;\n",
              "    }\n",
              "</style>\n",
              "<table border=\"1\" class=\"dataframe\">\n",
              "  <thead>\n",
              "    <tr style=\"text-align: right;\">\n",
              "      <th></th>\n",
              "      <th>주간평균</th>\n",
              "      <th>최고값</th>\n",
              "      <th>최저값</th>\n",
              "    </tr>\n",
              "    <tr>\n",
              "      <th>지역</th>\n",
              "      <th></th>\n",
              "      <th></th>\n",
              "      <th></th>\n",
              "    </tr>\n",
              "  </thead>\n",
              "  <tbody>\n",
              "    <tr>\n",
              "      <th>서울</th>\n",
              "      <td>20</td>\n",
              "      <td>22</td>\n",
              "      <td>16</td>\n",
              "    </tr>\n",
              "    <tr>\n",
              "      <th>부산</th>\n",
              "      <td>13</td>\n",
              "      <td>18</td>\n",
              "      <td>10</td>\n",
              "    </tr>\n",
              "    <tr>\n",
              "      <th>대구</th>\n",
              "      <td>15</td>\n",
              "      <td>18</td>\n",
              "      <td>11</td>\n",
              "    </tr>\n",
              "    <tr>\n",
              "      <th>인천</th>\n",
              "      <td>20</td>\n",
              "      <td>30</td>\n",
              "      <td>12</td>\n",
              "    </tr>\n",
              "    <tr>\n",
              "      <th>광주</th>\n",
              "      <td>19</td>\n",
              "      <td>23</td>\n",
              "      <td>15</td>\n",
              "    </tr>\n",
              "    <tr>\n",
              "      <th>대전</th>\n",
              "      <td>16</td>\n",
              "      <td>20</td>\n",
              "      <td>12</td>\n",
              "    </tr>\n",
              "    <tr>\n",
              "      <th>울산</th>\n",
              "      <td>14</td>\n",
              "      <td>16</td>\n",
              "      <td>11</td>\n",
              "    </tr>\n",
              "    <tr>\n",
              "      <th>세종</th>\n",
              "      <td>18</td>\n",
              "      <td>19</td>\n",
              "      <td>17</td>\n",
              "    </tr>\n",
              "    <tr>\n",
              "      <th>경기</th>\n",
              "      <td>20</td>\n",
              "      <td>27</td>\n",
              "      <td>13</td>\n",
              "    </tr>\n",
              "    <tr>\n",
              "      <th>강원</th>\n",
              "      <td>14</td>\n",
              "      <td>18</td>\n",
              "      <td>9</td>\n",
              "    </tr>\n",
              "    <tr>\n",
              "      <th>충북</th>\n",
              "      <td>19</td>\n",
              "      <td>26</td>\n",
              "      <td>14</td>\n",
              "    </tr>\n",
              "    <tr>\n",
              "      <th>충남</th>\n",
              "      <td>23</td>\n",
              "      <td>29</td>\n",
              "      <td>19</td>\n",
              "    </tr>\n",
              "    <tr>\n",
              "      <th>전북</th>\n",
              "      <td>23</td>\n",
              "      <td>30</td>\n",
              "      <td>14</td>\n",
              "    </tr>\n",
              "    <tr>\n",
              "      <th>전남</th>\n",
              "      <td>14</td>\n",
              "      <td>27</td>\n",
              "      <td>10</td>\n",
              "    </tr>\n",
              "    <tr>\n",
              "      <th>경북</th>\n",
              "      <td>15</td>\n",
              "      <td>23</td>\n",
              "      <td>8</td>\n",
              "    </tr>\n",
              "    <tr>\n",
              "      <th>경남</th>\n",
              "      <td>13</td>\n",
              "      <td>17</td>\n",
              "      <td>9</td>\n",
              "    </tr>\n",
              "    <tr>\n",
              "      <th>제주</th>\n",
              "      <td>14</td>\n",
              "      <td>16</td>\n",
              "      <td>11</td>\n",
              "    </tr>\n",
              "  </tbody>\n",
              "</table>\n",
              "</div>"
            ],
            "text/plain": [
              "    주간평균  최고값  최저값\n",
              "지역                \n",
              "서울    20   22   16\n",
              "부산    13   18   10\n",
              "대구    15   18   11\n",
              "인천    20   30   12\n",
              "광주    19   23   15\n",
              "대전    16   20   12\n",
              "울산    14   16   11\n",
              "세종    18   19   17\n",
              "경기    20   27   13\n",
              "강원    14   18    9\n",
              "충북    19   26   14\n",
              "충남    23   29   19\n",
              "전북    23   30   14\n",
              "전남    14   27   10\n",
              "경북    15   23    8\n",
              "경남    13   17    9\n",
              "제주    14   16   11"
            ]
          },
          "metadata": {
            "tags": []
          },
          "execution_count": 40
        }
      ]
    },
    {
      "cell_type": "code",
      "metadata": {
        "id": "Si9uXRvPrqES",
        "colab": {
          "base_uri": "https://localhost:8080/",
          "height": 580
        },
        "outputId": "8a3001e0-b97e-4a19-ba86-98978f704d08"
      },
      "source": [
        "df.sort_index()"
      ],
      "execution_count": 39,
      "outputs": [
        {
          "output_type": "execute_result",
          "data": {
            "text/html": [
              "<div>\n",
              "<style scoped>\n",
              "    .dataframe tbody tr th:only-of-type {\n",
              "        vertical-align: middle;\n",
              "    }\n",
              "\n",
              "    .dataframe tbody tr th {\n",
              "        vertical-align: top;\n",
              "    }\n",
              "\n",
              "    .dataframe thead th {\n",
              "        text-align: right;\n",
              "    }\n",
              "</style>\n",
              "<table border=\"1\" class=\"dataframe\">\n",
              "  <thead>\n",
              "    <tr style=\"text-align: right;\">\n",
              "      <th></th>\n",
              "      <th>주간평균</th>\n",
              "      <th>최고값</th>\n",
              "      <th>최저값</th>\n",
              "    </tr>\n",
              "    <tr>\n",
              "      <th>지역</th>\n",
              "      <th></th>\n",
              "      <th></th>\n",
              "      <th></th>\n",
              "    </tr>\n",
              "  </thead>\n",
              "  <tbody>\n",
              "    <tr>\n",
              "      <th>강원</th>\n",
              "      <td>14</td>\n",
              "      <td>18</td>\n",
              "      <td>9</td>\n",
              "    </tr>\n",
              "    <tr>\n",
              "      <th>경기</th>\n",
              "      <td>20</td>\n",
              "      <td>27</td>\n",
              "      <td>13</td>\n",
              "    </tr>\n",
              "    <tr>\n",
              "      <th>경남</th>\n",
              "      <td>13</td>\n",
              "      <td>17</td>\n",
              "      <td>9</td>\n",
              "    </tr>\n",
              "    <tr>\n",
              "      <th>경북</th>\n",
              "      <td>15</td>\n",
              "      <td>23</td>\n",
              "      <td>8</td>\n",
              "    </tr>\n",
              "    <tr>\n",
              "      <th>광주</th>\n",
              "      <td>19</td>\n",
              "      <td>23</td>\n",
              "      <td>15</td>\n",
              "    </tr>\n",
              "    <tr>\n",
              "      <th>대구</th>\n",
              "      <td>15</td>\n",
              "      <td>18</td>\n",
              "      <td>11</td>\n",
              "    </tr>\n",
              "    <tr>\n",
              "      <th>대전</th>\n",
              "      <td>16</td>\n",
              "      <td>20</td>\n",
              "      <td>12</td>\n",
              "    </tr>\n",
              "    <tr>\n",
              "      <th>부산</th>\n",
              "      <td>13</td>\n",
              "      <td>18</td>\n",
              "      <td>10</td>\n",
              "    </tr>\n",
              "    <tr>\n",
              "      <th>서울</th>\n",
              "      <td>20</td>\n",
              "      <td>22</td>\n",
              "      <td>16</td>\n",
              "    </tr>\n",
              "    <tr>\n",
              "      <th>세종</th>\n",
              "      <td>18</td>\n",
              "      <td>19</td>\n",
              "      <td>17</td>\n",
              "    </tr>\n",
              "    <tr>\n",
              "      <th>울산</th>\n",
              "      <td>14</td>\n",
              "      <td>16</td>\n",
              "      <td>11</td>\n",
              "    </tr>\n",
              "    <tr>\n",
              "      <th>인천</th>\n",
              "      <td>20</td>\n",
              "      <td>30</td>\n",
              "      <td>12</td>\n",
              "    </tr>\n",
              "    <tr>\n",
              "      <th>전남</th>\n",
              "      <td>14</td>\n",
              "      <td>27</td>\n",
              "      <td>10</td>\n",
              "    </tr>\n",
              "    <tr>\n",
              "      <th>전북</th>\n",
              "      <td>23</td>\n",
              "      <td>30</td>\n",
              "      <td>14</td>\n",
              "    </tr>\n",
              "    <tr>\n",
              "      <th>제주</th>\n",
              "      <td>14</td>\n",
              "      <td>16</td>\n",
              "      <td>11</td>\n",
              "    </tr>\n",
              "    <tr>\n",
              "      <th>충남</th>\n",
              "      <td>23</td>\n",
              "      <td>29</td>\n",
              "      <td>19</td>\n",
              "    </tr>\n",
              "    <tr>\n",
              "      <th>충북</th>\n",
              "      <td>19</td>\n",
              "      <td>26</td>\n",
              "      <td>14</td>\n",
              "    </tr>\n",
              "  </tbody>\n",
              "</table>\n",
              "</div>"
            ],
            "text/plain": [
              "    주간평균  최고값  최저값\n",
              "지역                \n",
              "강원    14   18    9\n",
              "경기    20   27   13\n",
              "경남    13   17    9\n",
              "경북    15   23    8\n",
              "광주    19   23   15\n",
              "대구    15   18   11\n",
              "대전    16   20   12\n",
              "부산    13   18   10\n",
              "서울    20   22   16\n",
              "세종    18   19   17\n",
              "울산    14   16   11\n",
              "인천    20   30   12\n",
              "전남    14   27   10\n",
              "전북    23   30   14\n",
              "제주    14   16   11\n",
              "충남    23   29   19\n",
              "충북    19   26   14"
            ]
          },
          "metadata": {
            "tags": []
          },
          "execution_count": 39
        }
      ]
    },
    {
      "cell_type": "code",
      "metadata": {
        "id": "jods3PC-r2pY",
        "colab": {
          "base_uri": "https://localhost:8080/",
          "height": 580
        },
        "outputId": "4e79aa74-6665-4c1e-cf68-740ca3dcda1d"
      },
      "source": [
        "df.sort_values('주간평균', ascending=False)"
      ],
      "execution_count": 48,
      "outputs": [
        {
          "output_type": "execute_result",
          "data": {
            "text/html": [
              "<div>\n",
              "<style scoped>\n",
              "    .dataframe tbody tr th:only-of-type {\n",
              "        vertical-align: middle;\n",
              "    }\n",
              "\n",
              "    .dataframe tbody tr th {\n",
              "        vertical-align: top;\n",
              "    }\n",
              "\n",
              "    .dataframe thead th {\n",
              "        text-align: right;\n",
              "    }\n",
              "</style>\n",
              "<table border=\"1\" class=\"dataframe\">\n",
              "  <thead>\n",
              "    <tr style=\"text-align: right;\">\n",
              "      <th></th>\n",
              "      <th>주간평균</th>\n",
              "      <th>최고값</th>\n",
              "      <th>최저값</th>\n",
              "    </tr>\n",
              "    <tr>\n",
              "      <th>지역</th>\n",
              "      <th></th>\n",
              "      <th></th>\n",
              "      <th></th>\n",
              "    </tr>\n",
              "  </thead>\n",
              "  <tbody>\n",
              "    <tr>\n",
              "      <th>충남</th>\n",
              "      <td>23</td>\n",
              "      <td>29</td>\n",
              "      <td>19</td>\n",
              "    </tr>\n",
              "    <tr>\n",
              "      <th>전북</th>\n",
              "      <td>23</td>\n",
              "      <td>30</td>\n",
              "      <td>14</td>\n",
              "    </tr>\n",
              "    <tr>\n",
              "      <th>서울</th>\n",
              "      <td>20</td>\n",
              "      <td>22</td>\n",
              "      <td>16</td>\n",
              "    </tr>\n",
              "    <tr>\n",
              "      <th>경기</th>\n",
              "      <td>20</td>\n",
              "      <td>27</td>\n",
              "      <td>13</td>\n",
              "    </tr>\n",
              "    <tr>\n",
              "      <th>인천</th>\n",
              "      <td>20</td>\n",
              "      <td>30</td>\n",
              "      <td>12</td>\n",
              "    </tr>\n",
              "    <tr>\n",
              "      <th>광주</th>\n",
              "      <td>19</td>\n",
              "      <td>23</td>\n",
              "      <td>15</td>\n",
              "    </tr>\n",
              "    <tr>\n",
              "      <th>충북</th>\n",
              "      <td>19</td>\n",
              "      <td>26</td>\n",
              "      <td>14</td>\n",
              "    </tr>\n",
              "    <tr>\n",
              "      <th>세종</th>\n",
              "      <td>18</td>\n",
              "      <td>19</td>\n",
              "      <td>17</td>\n",
              "    </tr>\n",
              "    <tr>\n",
              "      <th>대전</th>\n",
              "      <td>16</td>\n",
              "      <td>20</td>\n",
              "      <td>12</td>\n",
              "    </tr>\n",
              "    <tr>\n",
              "      <th>대구</th>\n",
              "      <td>15</td>\n",
              "      <td>18</td>\n",
              "      <td>11</td>\n",
              "    </tr>\n",
              "    <tr>\n",
              "      <th>경북</th>\n",
              "      <td>15</td>\n",
              "      <td>23</td>\n",
              "      <td>8</td>\n",
              "    </tr>\n",
              "    <tr>\n",
              "      <th>울산</th>\n",
              "      <td>14</td>\n",
              "      <td>16</td>\n",
              "      <td>11</td>\n",
              "    </tr>\n",
              "    <tr>\n",
              "      <th>강원</th>\n",
              "      <td>14</td>\n",
              "      <td>18</td>\n",
              "      <td>9</td>\n",
              "    </tr>\n",
              "    <tr>\n",
              "      <th>전남</th>\n",
              "      <td>14</td>\n",
              "      <td>27</td>\n",
              "      <td>10</td>\n",
              "    </tr>\n",
              "    <tr>\n",
              "      <th>제주</th>\n",
              "      <td>14</td>\n",
              "      <td>16</td>\n",
              "      <td>11</td>\n",
              "    </tr>\n",
              "    <tr>\n",
              "      <th>부산</th>\n",
              "      <td>13</td>\n",
              "      <td>18</td>\n",
              "      <td>10</td>\n",
              "    </tr>\n",
              "    <tr>\n",
              "      <th>경남</th>\n",
              "      <td>13</td>\n",
              "      <td>17</td>\n",
              "      <td>9</td>\n",
              "    </tr>\n",
              "  </tbody>\n",
              "</table>\n",
              "</div>"
            ],
            "text/plain": [
              "    주간평균  최고값  최저값\n",
              "지역                \n",
              "충남    23   29   19\n",
              "전북    23   30   14\n",
              "서울    20   22   16\n",
              "경기    20   27   13\n",
              "인천    20   30   12\n",
              "광주    19   23   15\n",
              "충북    19   26   14\n",
              "세종    18   19   17\n",
              "대전    16   20   12\n",
              "대구    15   18   11\n",
              "경북    15   23    8\n",
              "울산    14   16   11\n",
              "강원    14   18    9\n",
              "전남    14   27   10\n",
              "제주    14   16   11\n",
              "부산    13   18   10\n",
              "경남    13   17    9"
            ]
          },
          "metadata": {
            "tags": []
          },
          "execution_count": 48
        }
      ]
    },
    {
      "cell_type": "markdown",
      "metadata": {
        "id": "jrClfnlx3yDz"
      },
      "source": [
        "### 문자열 처리\n",
        "* df['열명'].str"
      ]
    },
    {
      "cell_type": "code",
      "metadata": {
        "id": "voY9rfxo0hk5",
        "colab": {
          "base_uri": "https://localhost:8080/"
        },
        "outputId": "dcd1beac-92ab-452b-84a7-0a25bf4daf2b"
      },
      "source": [
        "data = pd.read_excel('/content/drive/MyDrive/파이썬특강/python2021/data/특성화학과정보_컴퓨터.xlsx')\n",
        "data.info()"
      ],
      "execution_count": 50,
      "outputs": [
        {
          "output_type": "stream",
          "text": [
            "<class 'pandas.core.frame.DataFrame'>\n",
            "RangeIndex: 137 entries, 0 to 136\n",
            "Data columns (total 18 columns):\n",
            " #   Column         Non-Null Count  Dtype  \n",
            "---  ------         --------------  -----  \n",
            " 0   No             137 non-null    int64  \n",
            " 1   학과명            137 non-null    object \n",
            " 2   대학명            137 non-null    object \n",
            " 3   폐과             0 non-null      float64\n",
            " 4   학과 특성화명        137 non-null    object \n",
            " 5   특성화 구분         137 non-null    object \n",
            " 6   특성화분류 (대-중-소)  137 non-null    object \n",
            " 7   Unnamed: 7     137 non-null    object \n",
            " 8   Unnamed: 8     137 non-null    object \n",
            " 9   구분             137 non-null    object \n",
            " 10  학교종류           137 non-null    object \n",
            " 11  지역             137 non-null    object \n",
            " 12  설립유형           137 non-null    object \n",
            " 13  주야구분           137 non-null    object \n",
            " 14  표준분류계열(대)      137 non-null    object \n",
            " 15  표준분류계열(중)      137 non-null    object \n",
            " 16  표준분류계열(소)      137 non-null    object \n",
            " 17  관심             0 non-null      float64\n",
            "dtypes: float64(2), int64(1), object(15)\n",
            "memory usage: 19.4+ KB\n"
          ],
          "name": "stdout"
        }
      ]
    },
    {
      "cell_type": "code",
      "metadata": {
        "id": "sqvTfvWM4S8l",
        "colab": {
          "base_uri": "https://localhost:8080/"
        },
        "outputId": "53f66b30-2f99-4f98-ba1c-61f8b385ae67"
      },
      "source": [
        "data['대학명']"
      ],
      "execution_count": 52,
      "outputs": [
        {
          "output_type": "execute_result",
          "data": {
            "text/plain": [
              "0        우송대학교\n",
              "1        세명대학교\n",
              "2        중앙대학교\n",
              "3        목원대학교\n",
              "4        상명대학교\n",
              "        ...   \n",
              "132    수원과학대학교\n",
              "133      청암대학교\n",
              "134      부천대학교\n",
              "135      거제대학교\n",
              "136    울산과학대학교\n",
              "Name: 대학명, Length: 137, dtype: object"
            ]
          },
          "metadata": {
            "tags": []
          },
          "execution_count": 52
        }
      ]
    },
    {
      "cell_type": "code",
      "metadata": {
        "colab": {
          "base_uri": "https://localhost:8080/",
          "height": 35
        },
        "id": "8qub5iGNurBa",
        "outputId": "34ec2df2-a709-46d0-a4a0-5b9ef47ef26b"
      },
      "source": [
        "s = '우송대학교'\n",
        "s[:-3]"
      ],
      "execution_count": 53,
      "outputs": [
        {
          "output_type": "execute_result",
          "data": {
            "application/vnd.google.colaboratory.intrinsic+json": {
              "type": "string"
            },
            "text/plain": [
              "'우송'"
            ]
          },
          "metadata": {
            "tags": []
          },
          "execution_count": 53
        }
      ]
    },
    {
      "cell_type": "code",
      "metadata": {
        "colab": {
          "base_uri": "https://localhost:8080/"
        },
        "id": "Aqb6mVFryI_c",
        "outputId": "0a904009-1d60-4f5b-f463-2628697fd76a"
      },
      "source": [
        "seoul = data[data['지역'] == '서울']\n",
        "seoul.info()"
      ],
      "execution_count": 56,
      "outputs": [
        {
          "output_type": "stream",
          "text": [
            "<class 'pandas.core.frame.DataFrame'>\n",
            "Int64Index: 19 entries, 2 to 116\n",
            "Data columns (total 18 columns):\n",
            " #   Column         Non-Null Count  Dtype  \n",
            "---  ------         --------------  -----  \n",
            " 0   No             19 non-null     int64  \n",
            " 1   학과명            19 non-null     object \n",
            " 2   대학명            19 non-null     object \n",
            " 3   폐과             0 non-null      float64\n",
            " 4   학과 특성화명        19 non-null     object \n",
            " 5   특성화 구분         19 non-null     object \n",
            " 6   특성화분류 (대-중-소)  19 non-null     object \n",
            " 7   Unnamed: 7     19 non-null     object \n",
            " 8   Unnamed: 8     19 non-null     object \n",
            " 9   구분             19 non-null     object \n",
            " 10  학교종류           19 non-null     object \n",
            " 11  지역             19 non-null     object \n",
            " 12  설립유형           19 non-null     object \n",
            " 13  주야구분           19 non-null     object \n",
            " 14  표준분류계열(대)      19 non-null     object \n",
            " 15  표준분류계열(중)      19 non-null     object \n",
            " 16  표준분류계열(소)      19 non-null     object \n",
            " 17  관심             0 non-null      float64\n",
            "dtypes: float64(2), int64(1), object(15)\n",
            "memory usage: 2.8+ KB\n"
          ],
          "name": "stdout"
        }
      ]
    },
    {
      "cell_type": "code",
      "metadata": {
        "colab": {
          "base_uri": "https://localhost:8080/"
        },
        "id": "M6XvapkKy0ux",
        "outputId": "c6876395-c0d6-4219-ca9d-edf1b2861483"
      },
      "source": [
        "data['지역'].drop_duplicates()\n",
        "area = list(data['지역'].drop_duplicates())\n",
        "print(area)"
      ],
      "execution_count": 61,
      "outputs": [
        {
          "output_type": "stream",
          "text": [
            "['대전', '충북', '서울', '강원', '경북', '전북', '전남', '부산', '광주', '경기', '인천', '충남', '경남', '대구', '제주', '세종', '울산']\n"
          ],
          "name": "stdout"
        }
      ]
    },
    {
      "cell_type": "code",
      "metadata": {
        "id": "RRIFoIkCz0WJ"
      },
      "source": [
        ""
      ],
      "execution_count": null,
      "outputs": []
    },
    {
      "cell_type": "markdown",
      "metadata": {
        "id": "GwbwuSVKy7iL"
      },
      "source": [
        "### 그룹화\n",
        "* 데이터를 그룹별로 분류\n",
        "* df.groupby(인수)\n",
        "  + 열 또는 열의 리스트\n",
        "  + 행 인덱스\n",
        "* 그룹 연산 메소드\n",
        "  + size, count: 그룹 데이터의 갯수\n",
        "  + mean, median, min, max: 그룹 데이터의 평균, 중앙값, 최소, 최대\n",
        "  + sum, prod, std, var, quantile : 그룹 데이터의 합계, 곱, 표준편차, 분산, 사분위수\n",
        "  + first, last: 그룹 데이터 중 가장 첫번째 데이터와 가장 나중 데이터"
      ]
    },
    {
      "cell_type": "code",
      "metadata": {
        "colab": {
          "base_uri": "https://localhost:8080/"
        },
        "id": "bwb-niNdz9c7",
        "outputId": "91d92a87-6318-4644-bc71-d8031eb07f60"
      },
      "source": [
        "data.groupby('지역')['대학명'].count()"
      ],
      "execution_count": 65,
      "outputs": [
        {
          "output_type": "execute_result",
          "data": {
            "text/plain": [
              "지역\n",
              "강원     4\n",
              "경기    21\n",
              "경남     5\n",
              "경북     8\n",
              "광주     6\n",
              "대구     9\n",
              "대전    11\n",
              "부산    11\n",
              "서울    19\n",
              "세종     1\n",
              "울산     1\n",
              "인천     6\n",
              "전남     5\n",
              "전북     6\n",
              "제주     5\n",
              "충남     7\n",
              "충북    12\n",
              "Name: 대학명, dtype: int64"
            ]
          },
          "metadata": {
            "tags": []
          },
          "execution_count": 65
        }
      ]
    },
    {
      "cell_type": "code",
      "metadata": {
        "id": "lXNHD7jg0Vsc"
      },
      "source": [
        ""
      ],
      "execution_count": null,
      "outputs": []
    },
    {
      "cell_type": "code",
      "metadata": {
        "id": "M1nAH61E0prf",
        "colab": {
          "base_uri": "https://localhost:8080/",
          "height": 580
        },
        "outputId": "d1b6cb37-9e27-468a-debb-bd75ee84638a"
      },
      "source": [
        "datag = data.groupby('지역')[['대학명']].count()\n",
        "datag.sort_values('대학명', ascending=False)"
      ],
      "execution_count": 64,
      "outputs": [
        {
          "output_type": "execute_result",
          "data": {
            "text/html": [
              "<div>\n",
              "<style scoped>\n",
              "    .dataframe tbody tr th:only-of-type {\n",
              "        vertical-align: middle;\n",
              "    }\n",
              "\n",
              "    .dataframe tbody tr th {\n",
              "        vertical-align: top;\n",
              "    }\n",
              "\n",
              "    .dataframe thead th {\n",
              "        text-align: right;\n",
              "    }\n",
              "</style>\n",
              "<table border=\"1\" class=\"dataframe\">\n",
              "  <thead>\n",
              "    <tr style=\"text-align: right;\">\n",
              "      <th></th>\n",
              "      <th>대학명</th>\n",
              "    </tr>\n",
              "    <tr>\n",
              "      <th>지역</th>\n",
              "      <th></th>\n",
              "    </tr>\n",
              "  </thead>\n",
              "  <tbody>\n",
              "    <tr>\n",
              "      <th>경기</th>\n",
              "      <td>21</td>\n",
              "    </tr>\n",
              "    <tr>\n",
              "      <th>서울</th>\n",
              "      <td>19</td>\n",
              "    </tr>\n",
              "    <tr>\n",
              "      <th>충북</th>\n",
              "      <td>12</td>\n",
              "    </tr>\n",
              "    <tr>\n",
              "      <th>대전</th>\n",
              "      <td>11</td>\n",
              "    </tr>\n",
              "    <tr>\n",
              "      <th>부산</th>\n",
              "      <td>11</td>\n",
              "    </tr>\n",
              "    <tr>\n",
              "      <th>대구</th>\n",
              "      <td>9</td>\n",
              "    </tr>\n",
              "    <tr>\n",
              "      <th>경북</th>\n",
              "      <td>8</td>\n",
              "    </tr>\n",
              "    <tr>\n",
              "      <th>충남</th>\n",
              "      <td>7</td>\n",
              "    </tr>\n",
              "    <tr>\n",
              "      <th>광주</th>\n",
              "      <td>6</td>\n",
              "    </tr>\n",
              "    <tr>\n",
              "      <th>인천</th>\n",
              "      <td>6</td>\n",
              "    </tr>\n",
              "    <tr>\n",
              "      <th>전북</th>\n",
              "      <td>6</td>\n",
              "    </tr>\n",
              "    <tr>\n",
              "      <th>경남</th>\n",
              "      <td>5</td>\n",
              "    </tr>\n",
              "    <tr>\n",
              "      <th>전남</th>\n",
              "      <td>5</td>\n",
              "    </tr>\n",
              "    <tr>\n",
              "      <th>제주</th>\n",
              "      <td>5</td>\n",
              "    </tr>\n",
              "    <tr>\n",
              "      <th>강원</th>\n",
              "      <td>4</td>\n",
              "    </tr>\n",
              "    <tr>\n",
              "      <th>세종</th>\n",
              "      <td>1</td>\n",
              "    </tr>\n",
              "    <tr>\n",
              "      <th>울산</th>\n",
              "      <td>1</td>\n",
              "    </tr>\n",
              "  </tbody>\n",
              "</table>\n",
              "</div>"
            ],
            "text/plain": [
              "    대학명\n",
              "지역     \n",
              "경기   21\n",
              "서울   19\n",
              "충북   12\n",
              "대전   11\n",
              "부산   11\n",
              "대구    9\n",
              "경북    8\n",
              "충남    7\n",
              "광주    6\n",
              "인천    6\n",
              "전북    6\n",
              "경남    5\n",
              "전남    5\n",
              "제주    5\n",
              "강원    4\n",
              "세종    1\n",
              "울산    1"
            ]
          },
          "metadata": {
            "tags": []
          },
          "execution_count": 64
        }
      ]
    },
    {
      "cell_type": "code",
      "metadata": {
        "colab": {
          "base_uri": "https://localhost:8080/",
          "height": 1000
        },
        "id": "rdZAjDbj0-5o",
        "outputId": "810855ec-82e8-4b09-9554-5ad1ff669576"
      },
      "source": [
        "pusan = pd.read_csv('/content/drive/MyDrive/파이썬특강/python2021/data/부산대1821.csv', engine='python', encoding='cp949')\n",
        "pusan"
      ],
      "execution_count": 72,
      "outputs": [
        {
          "output_type": "execute_result",
          "data": {
            "text/html": [
              "<div>\n",
              "<style scoped>\n",
              "    .dataframe tbody tr th:only-of-type {\n",
              "        vertical-align: middle;\n",
              "    }\n",
              "\n",
              "    .dataframe tbody tr th {\n",
              "        vertical-align: top;\n",
              "    }\n",
              "\n",
              "    .dataframe thead th {\n",
              "        text-align: right;\n",
              "    }\n",
              "</style>\n",
              "<table border=\"1\" class=\"dataframe\">\n",
              "  <thead>\n",
              "    <tr style=\"text-align: right;\">\n",
              "      <th></th>\n",
              "      <th>학과</th>\n",
              "      <th>경쟁률</th>\n",
              "      <th>교과총점</th>\n",
              "      <th>등급</th>\n",
              "      <th>추합</th>\n",
              "      <th>년도</th>\n",
              "    </tr>\n",
              "  </thead>\n",
              "  <tbody>\n",
              "    <tr>\n",
              "      <th>0</th>\n",
              "      <td>국어국문학과</td>\n",
              "      <td>5.888889</td>\n",
              "      <td>97.932600</td>\n",
              "      <td>2.800311</td>\n",
              "      <td>9</td>\n",
              "      <td>2018</td>\n",
              "    </tr>\n",
              "    <tr>\n",
              "      <th>1</th>\n",
              "      <td>중어중문학과</td>\n",
              "      <td>5.333333</td>\n",
              "      <td>98.089866</td>\n",
              "      <td>2.901277</td>\n",
              "      <td>5</td>\n",
              "      <td>2018</td>\n",
              "    </tr>\n",
              "    <tr>\n",
              "      <th>2</th>\n",
              "      <td>일어일문학과</td>\n",
              "      <td>7.000000</td>\n",
              "      <td>98.480690</td>\n",
              "      <td>2.519110</td>\n",
              "      <td>4</td>\n",
              "      <td>2018</td>\n",
              "    </tr>\n",
              "    <tr>\n",
              "      <th>3</th>\n",
              "      <td>영어영문학과</td>\n",
              "      <td>6.800000</td>\n",
              "      <td>98.702021</td>\n",
              "      <td>2.297742</td>\n",
              "      <td>16</td>\n",
              "      <td>2018</td>\n",
              "    </tr>\n",
              "    <tr>\n",
              "      <th>4</th>\n",
              "      <td>불어불문학과</td>\n",
              "      <td>6.818182</td>\n",
              "      <td>95.883833</td>\n",
              "      <td>3.930366</td>\n",
              "      <td>4</td>\n",
              "      <td>2018</td>\n",
              "    </tr>\n",
              "    <tr>\n",
              "      <th>5</th>\n",
              "      <td>독어독문학과</td>\n",
              "      <td>7.083333</td>\n",
              "      <td>97.750645</td>\n",
              "      <td>3.233800</td>\n",
              "      <td>6</td>\n",
              "      <td>2018</td>\n",
              "    </tr>\n",
              "    <tr>\n",
              "      <th>6</th>\n",
              "      <td>노어노문학과</td>\n",
              "      <td>7.625000</td>\n",
              "      <td>97.590116</td>\n",
              "      <td>2.866200</td>\n",
              "      <td>5</td>\n",
              "      <td>2018</td>\n",
              "    </tr>\n",
              "    <tr>\n",
              "      <th>7</th>\n",
              "      <td>한문학과</td>\n",
              "      <td>10.428571</td>\n",
              "      <td>97.420700</td>\n",
              "      <td>3.464450</td>\n",
              "      <td>2</td>\n",
              "      <td>2018</td>\n",
              "    </tr>\n",
              "    <tr>\n",
              "      <th>8</th>\n",
              "      <td>언어정보학과</td>\n",
              "      <td>7.125000</td>\n",
              "      <td>98.511175</td>\n",
              "      <td>2.488587</td>\n",
              "      <td>5</td>\n",
              "      <td>2018</td>\n",
              "    </tr>\n",
              "    <tr>\n",
              "      <th>9</th>\n",
              "      <td>사학과</td>\n",
              "      <td>6.714286</td>\n",
              "      <td>98.640671</td>\n",
              "      <td>2.359071</td>\n",
              "      <td>5</td>\n",
              "      <td>2018</td>\n",
              "    </tr>\n",
              "    <tr>\n",
              "      <th>10</th>\n",
              "      <td>철학과</td>\n",
              "      <td>6.625000</td>\n",
              "      <td>95.400840</td>\n",
              "      <td>3.878200</td>\n",
              "      <td>0</td>\n",
              "      <td>2018</td>\n",
              "    </tr>\n",
              "    <tr>\n",
              "      <th>11</th>\n",
              "      <td>고고학과</td>\n",
              "      <td>6.571429</td>\n",
              "      <td>97.911414</td>\n",
              "      <td>3.088300</td>\n",
              "      <td>3</td>\n",
              "      <td>2018</td>\n",
              "    </tr>\n",
              "    <tr>\n",
              "      <th>12</th>\n",
              "      <td>국어국문학과</td>\n",
              "      <td>12.000000</td>\n",
              "      <td>98.636170</td>\n",
              "      <td>2.800311</td>\n",
              "      <td>7</td>\n",
              "      <td>2019</td>\n",
              "    </tr>\n",
              "    <tr>\n",
              "      <th>13</th>\n",
              "      <td>중어중문학과</td>\n",
              "      <td>13.500000</td>\n",
              "      <td>98.730520</td>\n",
              "      <td>2.901277</td>\n",
              "      <td>4</td>\n",
              "      <td>2019</td>\n",
              "    </tr>\n",
              "    <tr>\n",
              "      <th>14</th>\n",
              "      <td>일어일문학과</td>\n",
              "      <td>10.214286</td>\n",
              "      <td>98.332385</td>\n",
              "      <td>2.519110</td>\n",
              "      <td>8</td>\n",
              "      <td>2019</td>\n",
              "    </tr>\n",
              "    <tr>\n",
              "      <th>15</th>\n",
              "      <td>영어영문학과</td>\n",
              "      <td>11.800000</td>\n",
              "      <td>98.795900</td>\n",
              "      <td>2.297742</td>\n",
              "      <td>30</td>\n",
              "      <td>2019</td>\n",
              "    </tr>\n",
              "    <tr>\n",
              "      <th>16</th>\n",
              "      <td>불어불문학과</td>\n",
              "      <td>24.500000</td>\n",
              "      <td>98.102091</td>\n",
              "      <td>3.930366</td>\n",
              "      <td>5</td>\n",
              "      <td>2019</td>\n",
              "    </tr>\n",
              "    <tr>\n",
              "      <th>17</th>\n",
              "      <td>독어독문학과</td>\n",
              "      <td>19.333333</td>\n",
              "      <td>98.223577</td>\n",
              "      <td>3.233800</td>\n",
              "      <td>4</td>\n",
              "      <td>2019</td>\n",
              "    </tr>\n",
              "    <tr>\n",
              "      <th>18</th>\n",
              "      <td>노어노문학과</td>\n",
              "      <td>14.600000</td>\n",
              "      <td>98.471890</td>\n",
              "      <td>2.866200</td>\n",
              "      <td>5</td>\n",
              "      <td>2019</td>\n",
              "    </tr>\n",
              "    <tr>\n",
              "      <th>19</th>\n",
              "      <td>한문학과</td>\n",
              "      <td>14.000000</td>\n",
              "      <td>98.038633</td>\n",
              "      <td>3.464450</td>\n",
              "      <td>6</td>\n",
              "      <td>2019</td>\n",
              "    </tr>\n",
              "    <tr>\n",
              "      <th>20</th>\n",
              "      <td>언어정보학과</td>\n",
              "      <td>9.375000</td>\n",
              "      <td>97.984816</td>\n",
              "      <td>2.488587</td>\n",
              "      <td>3</td>\n",
              "      <td>2019</td>\n",
              "    </tr>\n",
              "    <tr>\n",
              "      <th>21</th>\n",
              "      <td>사학과</td>\n",
              "      <td>7.500000</td>\n",
              "      <td>98.648875</td>\n",
              "      <td>2.359071</td>\n",
              "      <td>7</td>\n",
              "      <td>2019</td>\n",
              "    </tr>\n",
              "    <tr>\n",
              "      <th>22</th>\n",
              "      <td>철학과</td>\n",
              "      <td>21.600000</td>\n",
              "      <td>98.278000</td>\n",
              "      <td>3.878200</td>\n",
              "      <td>5</td>\n",
              "      <td>2019</td>\n",
              "    </tr>\n",
              "    <tr>\n",
              "      <th>23</th>\n",
              "      <td>고고학과</td>\n",
              "      <td>11.857143</td>\n",
              "      <td>98.303700</td>\n",
              "      <td>3.088300</td>\n",
              "      <td>9</td>\n",
              "      <td>2019</td>\n",
              "    </tr>\n",
              "    <tr>\n",
              "      <th>24</th>\n",
              "      <td>국어국문학과</td>\n",
              "      <td>6.910000</td>\n",
              "      <td>98.510000</td>\n",
              "      <td>2.480000</td>\n",
              "      <td>12</td>\n",
              "      <td>2020</td>\n",
              "    </tr>\n",
              "    <tr>\n",
              "      <th>25</th>\n",
              "      <td>중어중문학과</td>\n",
              "      <td>12.500000</td>\n",
              "      <td>97.470000</td>\n",
              "      <td>3.100000</td>\n",
              "      <td>4</td>\n",
              "      <td>2020</td>\n",
              "    </tr>\n",
              "    <tr>\n",
              "      <th>26</th>\n",
              "      <td>일어일문학과</td>\n",
              "      <td>7.600000</td>\n",
              "      <td>98.030000</td>\n",
              "      <td>2.970000</td>\n",
              "      <td>6</td>\n",
              "      <td>2020</td>\n",
              "    </tr>\n",
              "    <tr>\n",
              "      <th>27</th>\n",
              "      <td>영어영문학과</td>\n",
              "      <td>6.200000</td>\n",
              "      <td>97.000000</td>\n",
              "      <td>3.570000</td>\n",
              "      <td>6</td>\n",
              "      <td>2020</td>\n",
              "    </tr>\n",
              "    <tr>\n",
              "      <th>28</th>\n",
              "      <td>불어불문학과</td>\n",
              "      <td>8.220000</td>\n",
              "      <td>98.210000</td>\n",
              "      <td>2.790000</td>\n",
              "      <td>4</td>\n",
              "      <td>2020</td>\n",
              "    </tr>\n",
              "    <tr>\n",
              "      <th>29</th>\n",
              "      <td>독어독문학과</td>\n",
              "      <td>8.170000</td>\n",
              "      <td>97.390000</td>\n",
              "      <td>3.020000</td>\n",
              "      <td>4</td>\n",
              "      <td>2020</td>\n",
              "    </tr>\n",
              "    <tr>\n",
              "      <th>30</th>\n",
              "      <td>노어노문학과</td>\n",
              "      <td>7.800000</td>\n",
              "      <td>97.890000</td>\n",
              "      <td>3.100000</td>\n",
              "      <td>4</td>\n",
              "      <td>2020</td>\n",
              "    </tr>\n",
              "    <tr>\n",
              "      <th>31</th>\n",
              "      <td>한문학과</td>\n",
              "      <td>9.110000</td>\n",
              "      <td>93.890000</td>\n",
              "      <td>3.920000</td>\n",
              "      <td>1</td>\n",
              "      <td>2020</td>\n",
              "    </tr>\n",
              "    <tr>\n",
              "      <th>32</th>\n",
              "      <td>언어정보학과</td>\n",
              "      <td>8.700000</td>\n",
              "      <td>98.390000</td>\n",
              "      <td>2.610000</td>\n",
              "      <td>8</td>\n",
              "      <td>2020</td>\n",
              "    </tr>\n",
              "    <tr>\n",
              "      <th>33</th>\n",
              "      <td>사학과</td>\n",
              "      <td>11.630000</td>\n",
              "      <td>98.260000</td>\n",
              "      <td>2.740000</td>\n",
              "      <td>6</td>\n",
              "      <td>2020</td>\n",
              "    </tr>\n",
              "    <tr>\n",
              "      <th>34</th>\n",
              "      <td>철학과</td>\n",
              "      <td>9.130000</td>\n",
              "      <td>96.860000</td>\n",
              "      <td>3.140000</td>\n",
              "      <td>0</td>\n",
              "      <td>2020</td>\n",
              "    </tr>\n",
              "    <tr>\n",
              "      <th>35</th>\n",
              "      <td>고고학과</td>\n",
              "      <td>9.570000</td>\n",
              "      <td>96.150000</td>\n",
              "      <td>4.220000</td>\n",
              "      <td>2</td>\n",
              "      <td>2020</td>\n",
              "    </tr>\n",
              "    <tr>\n",
              "      <th>36</th>\n",
              "      <td>국어국문학과</td>\n",
              "      <td>8.820000</td>\n",
              "      <td>98.620000</td>\n",
              "      <td>2.370000</td>\n",
              "      <td>11</td>\n",
              "      <td>2021</td>\n",
              "    </tr>\n",
              "    <tr>\n",
              "      <th>37</th>\n",
              "      <td>중어중문학과</td>\n",
              "      <td>7.920000</td>\n",
              "      <td>97.930000</td>\n",
              "      <td>3.050000</td>\n",
              "      <td>9</td>\n",
              "      <td>2021</td>\n",
              "    </tr>\n",
              "    <tr>\n",
              "      <th>38</th>\n",
              "      <td>일어일문학과</td>\n",
              "      <td>7.570000</td>\n",
              "      <td>98.160000</td>\n",
              "      <td>2.840000</td>\n",
              "      <td>11</td>\n",
              "      <td>2021</td>\n",
              "    </tr>\n",
              "    <tr>\n",
              "      <th>39</th>\n",
              "      <td>영어영문학과</td>\n",
              "      <td>11.130000</td>\n",
              "      <td>99.030000</td>\n",
              "      <td>1.970000</td>\n",
              "      <td>15</td>\n",
              "      <td>2021</td>\n",
              "    </tr>\n",
              "    <tr>\n",
              "      <th>40</th>\n",
              "      <td>불어불문학과</td>\n",
              "      <td>15.920000</td>\n",
              "      <td>98.430000</td>\n",
              "      <td>2.570000</td>\n",
              "      <td>11</td>\n",
              "      <td>2021</td>\n",
              "    </tr>\n",
              "    <tr>\n",
              "      <th>41</th>\n",
              "      <td>독어독문학과</td>\n",
              "      <td>11.920000</td>\n",
              "      <td>98.240000</td>\n",
              "      <td>2.760000</td>\n",
              "      <td>15</td>\n",
              "      <td>2021</td>\n",
              "    </tr>\n",
              "    <tr>\n",
              "      <th>42</th>\n",
              "      <td>노어노문학과</td>\n",
              "      <td>9.900000</td>\n",
              "      <td>98.420000</td>\n",
              "      <td>2.580000</td>\n",
              "      <td>6</td>\n",
              "      <td>2021</td>\n",
              "    </tr>\n",
              "    <tr>\n",
              "      <th>43</th>\n",
              "      <td>한문학과</td>\n",
              "      <td>9.440000</td>\n",
              "      <td>97.430000</td>\n",
              "      <td>3.370000</td>\n",
              "      <td>4</td>\n",
              "      <td>2021</td>\n",
              "    </tr>\n",
              "    <tr>\n",
              "      <th>44</th>\n",
              "      <td>언어정보학과</td>\n",
              "      <td>11.440000</td>\n",
              "      <td>98.350000</td>\n",
              "      <td>2.650000</td>\n",
              "      <td>4</td>\n",
              "      <td>2021</td>\n",
              "    </tr>\n",
              "    <tr>\n",
              "      <th>45</th>\n",
              "      <td>사학과</td>\n",
              "      <td>8.380000</td>\n",
              "      <td>98.290000</td>\n",
              "      <td>2.690000</td>\n",
              "      <td>0</td>\n",
              "      <td>2021</td>\n",
              "    </tr>\n",
              "    <tr>\n",
              "      <th>46</th>\n",
              "      <td>철학과</td>\n",
              "      <td>11.670000</td>\n",
              "      <td>98.090000</td>\n",
              "      <td>2.850000</td>\n",
              "      <td>8</td>\n",
              "      <td>2021</td>\n",
              "    </tr>\n",
              "    <tr>\n",
              "      <th>47</th>\n",
              "      <td>고고학과</td>\n",
              "      <td>8.560000</td>\n",
              "      <td>98.310000</td>\n",
              "      <td>2.690000</td>\n",
              "      <td>2</td>\n",
              "      <td>2021</td>\n",
              "    </tr>\n",
              "  </tbody>\n",
              "</table>\n",
              "</div>"
            ],
            "text/plain": [
              "        학과        경쟁률       교과총점        등급  추합    년도\n",
              "0   국어국문학과   5.888889  97.932600  2.800311   9  2018\n",
              "1   중어중문학과   5.333333  98.089866  2.901277   5  2018\n",
              "2   일어일문학과   7.000000  98.480690  2.519110   4  2018\n",
              "3   영어영문학과   6.800000  98.702021  2.297742  16  2018\n",
              "4   불어불문학과   6.818182  95.883833  3.930366   4  2018\n",
              "5   독어독문학과   7.083333  97.750645  3.233800   6  2018\n",
              "6   노어노문학과   7.625000  97.590116  2.866200   5  2018\n",
              "7     한문학과  10.428571  97.420700  3.464450   2  2018\n",
              "8   언어정보학과   7.125000  98.511175  2.488587   5  2018\n",
              "9      사학과   6.714286  98.640671  2.359071   5  2018\n",
              "10     철학과   6.625000  95.400840  3.878200   0  2018\n",
              "11    고고학과   6.571429  97.911414  3.088300   3  2018\n",
              "12  국어국문학과  12.000000  98.636170  2.800311   7  2019\n",
              "13  중어중문학과  13.500000  98.730520  2.901277   4  2019\n",
              "14  일어일문학과  10.214286  98.332385  2.519110   8  2019\n",
              "15  영어영문학과  11.800000  98.795900  2.297742  30  2019\n",
              "16  불어불문학과  24.500000  98.102091  3.930366   5  2019\n",
              "17  독어독문학과  19.333333  98.223577  3.233800   4  2019\n",
              "18  노어노문학과  14.600000  98.471890  2.866200   5  2019\n",
              "19    한문학과  14.000000  98.038633  3.464450   6  2019\n",
              "20  언어정보학과   9.375000  97.984816  2.488587   3  2019\n",
              "21     사학과   7.500000  98.648875  2.359071   7  2019\n",
              "22     철학과  21.600000  98.278000  3.878200   5  2019\n",
              "23    고고학과  11.857143  98.303700  3.088300   9  2019\n",
              "24  국어국문학과   6.910000  98.510000  2.480000  12  2020\n",
              "25  중어중문학과  12.500000  97.470000  3.100000   4  2020\n",
              "26  일어일문학과   7.600000  98.030000  2.970000   6  2020\n",
              "27  영어영문학과   6.200000  97.000000  3.570000   6  2020\n",
              "28  불어불문학과   8.220000  98.210000  2.790000   4  2020\n",
              "29  독어독문학과   8.170000  97.390000  3.020000   4  2020\n",
              "30  노어노문학과   7.800000  97.890000  3.100000   4  2020\n",
              "31    한문학과   9.110000  93.890000  3.920000   1  2020\n",
              "32  언어정보학과   8.700000  98.390000  2.610000   8  2020\n",
              "33     사학과  11.630000  98.260000  2.740000   6  2020\n",
              "34     철학과   9.130000  96.860000  3.140000   0  2020\n",
              "35    고고학과   9.570000  96.150000  4.220000   2  2020\n",
              "36  국어국문학과   8.820000  98.620000  2.370000  11  2021\n",
              "37  중어중문학과   7.920000  97.930000  3.050000   9  2021\n",
              "38  일어일문학과   7.570000  98.160000  2.840000  11  2021\n",
              "39  영어영문학과  11.130000  99.030000  1.970000  15  2021\n",
              "40  불어불문학과  15.920000  98.430000  2.570000  11  2021\n",
              "41  독어독문학과  11.920000  98.240000  2.760000  15  2021\n",
              "42  노어노문학과   9.900000  98.420000  2.580000   6  2021\n",
              "43    한문학과   9.440000  97.430000  3.370000   4  2021\n",
              "44  언어정보학과  11.440000  98.350000  2.650000   4  2021\n",
              "45     사학과   8.380000  98.290000  2.690000   0  2021\n",
              "46     철학과  11.670000  98.090000  2.850000   8  2021\n",
              "47    고고학과   8.560000  98.310000  2.690000   2  2021"
            ]
          },
          "metadata": {
            "tags": []
          },
          "execution_count": 72
        }
      ]
    },
    {
      "cell_type": "code",
      "metadata": {
        "colab": {
          "base_uri": "https://localhost:8080/",
          "height": 432
        },
        "id": "Pd8fRVg71v3u",
        "outputId": "08b94a34-bda8-4de8-d8fa-5ea7c0a4a9c2"
      },
      "source": [
        "pusan.groupby('학과').mean().loc[:, :'추합']"
      ],
      "execution_count": 76,
      "outputs": [
        {
          "output_type": "execute_result",
          "data": {
            "text/html": [
              "<div>\n",
              "<style scoped>\n",
              "    .dataframe tbody tr th:only-of-type {\n",
              "        vertical-align: middle;\n",
              "    }\n",
              "\n",
              "    .dataframe tbody tr th {\n",
              "        vertical-align: top;\n",
              "    }\n",
              "\n",
              "    .dataframe thead th {\n",
              "        text-align: right;\n",
              "    }\n",
              "</style>\n",
              "<table border=\"1\" class=\"dataframe\">\n",
              "  <thead>\n",
              "    <tr style=\"text-align: right;\">\n",
              "      <th></th>\n",
              "      <th>경쟁률</th>\n",
              "      <th>교과총점</th>\n",
              "      <th>등급</th>\n",
              "      <th>추합</th>\n",
              "    </tr>\n",
              "    <tr>\n",
              "      <th>학과</th>\n",
              "      <th></th>\n",
              "      <th></th>\n",
              "      <th></th>\n",
              "      <th></th>\n",
              "    </tr>\n",
              "  </thead>\n",
              "  <tbody>\n",
              "    <tr>\n",
              "      <th>고고학과</th>\n",
              "      <td>9.139643</td>\n",
              "      <td>97.668779</td>\n",
              "      <td>3.271650</td>\n",
              "      <td>4.00</td>\n",
              "    </tr>\n",
              "    <tr>\n",
              "      <th>국어국문학과</th>\n",
              "      <td>8.404722</td>\n",
              "      <td>98.424692</td>\n",
              "      <td>2.612655</td>\n",
              "      <td>9.75</td>\n",
              "    </tr>\n",
              "    <tr>\n",
              "      <th>노어노문학과</th>\n",
              "      <td>9.981250</td>\n",
              "      <td>98.093001</td>\n",
              "      <td>2.853100</td>\n",
              "      <td>5.00</td>\n",
              "    </tr>\n",
              "    <tr>\n",
              "      <th>독어독문학과</th>\n",
              "      <td>11.626667</td>\n",
              "      <td>97.901055</td>\n",
              "      <td>3.061900</td>\n",
              "      <td>7.25</td>\n",
              "    </tr>\n",
              "    <tr>\n",
              "      <th>불어불문학과</th>\n",
              "      <td>13.864545</td>\n",
              "      <td>97.656481</td>\n",
              "      <td>3.305183</td>\n",
              "      <td>6.00</td>\n",
              "    </tr>\n",
              "    <tr>\n",
              "      <th>사학과</th>\n",
              "      <td>8.556071</td>\n",
              "      <td>98.459887</td>\n",
              "      <td>2.537035</td>\n",
              "      <td>4.50</td>\n",
              "    </tr>\n",
              "    <tr>\n",
              "      <th>언어정보학과</th>\n",
              "      <td>9.160000</td>\n",
              "      <td>98.308998</td>\n",
              "      <td>2.559293</td>\n",
              "      <td>5.00</td>\n",
              "    </tr>\n",
              "    <tr>\n",
              "      <th>영어영문학과</th>\n",
              "      <td>8.982500</td>\n",
              "      <td>98.381980</td>\n",
              "      <td>2.533871</td>\n",
              "      <td>16.75</td>\n",
              "    </tr>\n",
              "    <tr>\n",
              "      <th>일어일문학과</th>\n",
              "      <td>8.096071</td>\n",
              "      <td>98.250769</td>\n",
              "      <td>2.712055</td>\n",
              "      <td>7.25</td>\n",
              "    </tr>\n",
              "    <tr>\n",
              "      <th>중어중문학과</th>\n",
              "      <td>9.813333</td>\n",
              "      <td>98.055097</td>\n",
              "      <td>2.988138</td>\n",
              "      <td>5.50</td>\n",
              "    </tr>\n",
              "    <tr>\n",
              "      <th>철학과</th>\n",
              "      <td>12.256250</td>\n",
              "      <td>97.157210</td>\n",
              "      <td>3.436600</td>\n",
              "      <td>3.25</td>\n",
              "    </tr>\n",
              "    <tr>\n",
              "      <th>한문학과</th>\n",
              "      <td>10.744643</td>\n",
              "      <td>96.694833</td>\n",
              "      <td>3.554725</td>\n",
              "      <td>3.25</td>\n",
              "    </tr>\n",
              "  </tbody>\n",
              "</table>\n",
              "</div>"
            ],
            "text/plain": [
              "              경쟁률       교과총점        등급     추합\n",
              "학과                                           \n",
              "고고학과     9.139643  97.668779  3.271650   4.00\n",
              "국어국문학과   8.404722  98.424692  2.612655   9.75\n",
              "노어노문학과   9.981250  98.093001  2.853100   5.00\n",
              "독어독문학과  11.626667  97.901055  3.061900   7.25\n",
              "불어불문학과  13.864545  97.656481  3.305183   6.00\n",
              "사학과      8.556071  98.459887  2.537035   4.50\n",
              "언어정보학과   9.160000  98.308998  2.559293   5.00\n",
              "영어영문학과   8.982500  98.381980  2.533871  16.75\n",
              "일어일문학과   8.096071  98.250769  2.712055   7.25\n",
              "중어중문학과   9.813333  98.055097  2.988138   5.50\n",
              "철학과     12.256250  97.157210  3.436600   3.25\n",
              "한문학과    10.744643  96.694833  3.554725   3.25"
            ]
          },
          "metadata": {
            "tags": []
          },
          "execution_count": 76
        }
      ]
    },
    {
      "cell_type": "markdown",
      "metadata": {
        "id": "gVNIijD51i_v"
      },
      "source": [
        ""
      ]
    },
    {
      "cell_type": "markdown",
      "metadata": {
        "id": "wHgv7iyx4t1D"
      },
      "source": [
        "### 시계열 자료\n",
        "* **pd.to_datetime()** : 날짜/시간을 나타내는 문자열을 자동으로 datetime 자료형으로 변환\n",
        "* **dt 접근자** : datetime 자료형 시리즈에는 dt 접근자가 있어 datetime 자료형이 가진 몇가지 유용한 속성과 메서드를 사용\n",
        "  +  year, month, day, weekday 등의 속성을 이용하면 년, 월, 일, 요일 정보 추출\n",
        "\n",
        "dt 접근자 | 내용 \n",
        "-------------------|------------------\n",
        ".dt.date         | YYYY-MM-DD(문자)\n",
        ".dt.year         | 연(4자리숫자)\n",
        ".dt.month        | 월(숫자)\n",
        ".dt.month_name() | 월(문자)\n",
        ".dt.day          | 일(숫자)\n",
        ".dt.time         | HH:MM:SS(문자)\n",
        ".dt.hour         | 시(숫자)\n",
        ".dt.minute       | 분(숫자)\n",
        ".dt.second       | 초(숫자)\n",
        ".dt.quarter       | 분기(숫자)\n",
        ".dt.day_name()  | 요일이름(문자)  \n",
        ".dt.weekday       | 요일숫자(0-월, 1-화) (=dayofweek)\n",
        ".dt.weekofyear    | 연 기준 몇주째(숫자) (=week)\n",
        ".dt.dayofyear     | 연 기준 몇일째(숫자)\n",
        ".dt.days_in_month | 월 일수(숫자) (=daysinmonth)"
      ]
    },
    {
      "cell_type": "code",
      "metadata": {
        "id": "7sfY4A4g5fWi",
        "colab": {
          "base_uri": "https://localhost:8080/"
        },
        "outputId": "64bf3f74-0151-441f-b069-f3cfc3794edf"
      },
      "source": [
        "data = pd.read_csv('/content/drive/MyDrive/파이썬특강/python2021/data/air.csv', encoding='cp949')\n",
        "data.info()"
      ],
      "execution_count": 77,
      "outputs": [
        {
          "output_type": "stream",
          "text": [
            "<class 'pandas.core.frame.DataFrame'>\n",
            "RangeIndex: 591 entries, 0 to 590\n",
            "Data columns (total 13 columns):\n",
            " #   Column  Non-Null Count  Dtype  \n",
            "---  ------  --------------  -----  \n",
            " 0   날짜      591 non-null    object \n",
            " 1   PM10_1  589 non-null    object \n",
            " 2   PM10_2  589 non-null    float64\n",
            " 3   PM25_1  589 non-null    object \n",
            " 4   PM25_2  589 non-null    float64\n",
            " 5   O3_1    589 non-null    object \n",
            " 6   O3_2    589 non-null    float64\n",
            " 7   NO2_1   589 non-null    object \n",
            " 8   NO2_2   589 non-null    float64\n",
            " 9   CO_1    589 non-null    object \n",
            " 10  Co_2    589 non-null    float64\n",
            " 11  SO2_1   589 non-null    object \n",
            " 12  SO2_2   589 non-null    float64\n",
            "dtypes: float64(6), object(7)\n",
            "memory usage: 60.1+ KB\n"
          ],
          "name": "stdout"
        }
      ]
    },
    {
      "cell_type": "code",
      "metadata": {
        "id": "XXq4ucab5wmr",
        "colab": {
          "base_uri": "https://localhost:8080/",
          "height": 383
        },
        "outputId": "9840aa4b-371e-4b7e-c6b4-9ddbc59eecf3"
      },
      "source": [
        "data.head()"
      ],
      "execution_count": 78,
      "outputs": [
        {
          "output_type": "execute_result",
          "data": {
            "text/html": [
              "<div>\n",
              "<style scoped>\n",
              "    .dataframe tbody tr th:only-of-type {\n",
              "        vertical-align: middle;\n",
              "    }\n",
              "\n",
              "    .dataframe tbody tr th {\n",
              "        vertical-align: top;\n",
              "    }\n",
              "\n",
              "    .dataframe thead th {\n",
              "        text-align: right;\n",
              "    }\n",
              "</style>\n",
              "<table border=\"1\" class=\"dataframe\">\n",
              "  <thead>\n",
              "    <tr style=\"text-align: right;\">\n",
              "      <th></th>\n",
              "      <th>날짜</th>\n",
              "      <th>PM10_1</th>\n",
              "      <th>PM10_2</th>\n",
              "      <th>PM25_1</th>\n",
              "      <th>PM25_2</th>\n",
              "      <th>O3_1</th>\n",
              "      <th>O3_2</th>\n",
              "      <th>NO2_1</th>\n",
              "      <th>NO2_2</th>\n",
              "      <th>CO_1</th>\n",
              "      <th>Co_2</th>\n",
              "      <th>SO2_1</th>\n",
              "      <th>SO2_2</th>\n",
              "    </tr>\n",
              "  </thead>\n",
              "  <tbody>\n",
              "    <tr>\n",
              "      <th>0</th>\n",
              "      <td>2021-04-25:15</td>\n",
              "      <td>좋음</td>\n",
              "      <td>23.0</td>\n",
              "      <td>좋음</td>\n",
              "      <td>10.0</td>\n",
              "      <td>보통</td>\n",
              "      <td>0.050</td>\n",
              "      <td>좋음</td>\n",
              "      <td>0.008</td>\n",
              "      <td>좋음</td>\n",
              "      <td>0.3</td>\n",
              "      <td>좋음</td>\n",
              "      <td>0.002</td>\n",
              "    </tr>\n",
              "    <tr>\n",
              "      <th>1</th>\n",
              "      <td>2021-04-25:14</td>\n",
              "      <td>좋음</td>\n",
              "      <td>24.0</td>\n",
              "      <td>좋음</td>\n",
              "      <td>10.0</td>\n",
              "      <td>보통</td>\n",
              "      <td>0.049</td>\n",
              "      <td>좋음</td>\n",
              "      <td>0.007</td>\n",
              "      <td>좋음</td>\n",
              "      <td>0.3</td>\n",
              "      <td>좋음</td>\n",
              "      <td>0.002</td>\n",
              "    </tr>\n",
              "    <tr>\n",
              "      <th>2</th>\n",
              "      <td>2021-04-25:13</td>\n",
              "      <td>좋음</td>\n",
              "      <td>27.0</td>\n",
              "      <td>좋음</td>\n",
              "      <td>8.0</td>\n",
              "      <td>보통</td>\n",
              "      <td>0.046</td>\n",
              "      <td>좋음</td>\n",
              "      <td>0.009</td>\n",
              "      <td>좋음</td>\n",
              "      <td>0.3</td>\n",
              "      <td>좋음</td>\n",
              "      <td>0.002</td>\n",
              "    </tr>\n",
              "    <tr>\n",
              "      <th>3</th>\n",
              "      <td>2021-04-25:12</td>\n",
              "      <td>좋음</td>\n",
              "      <td>23.0</td>\n",
              "      <td>좋음</td>\n",
              "      <td>9.0</td>\n",
              "      <td>보통</td>\n",
              "      <td>0.043</td>\n",
              "      <td>좋음</td>\n",
              "      <td>0.009</td>\n",
              "      <td>좋음</td>\n",
              "      <td>0.3</td>\n",
              "      <td>좋음</td>\n",
              "      <td>0.002</td>\n",
              "    </tr>\n",
              "    <tr>\n",
              "      <th>4</th>\n",
              "      <td>2021-04-25:11</td>\n",
              "      <td>좋음</td>\n",
              "      <td>27.0</td>\n",
              "      <td>좋음</td>\n",
              "      <td>12.0</td>\n",
              "      <td>보통</td>\n",
              "      <td>0.044</td>\n",
              "      <td>좋음</td>\n",
              "      <td>0.007</td>\n",
              "      <td>좋음</td>\n",
              "      <td>0.3</td>\n",
              "      <td>좋음</td>\n",
              "      <td>0.002</td>\n",
              "    </tr>\n",
              "  </tbody>\n",
              "</table>\n",
              "</div>"
            ],
            "text/plain": [
              "              날짜 PM10_1  PM10_2 PM25_1  PM25_2  ...  NO2_2  CO_1 Co_2  SO2_1  SO2_2\n",
              "0  2021-04-25:15     좋음    23.0     좋음    10.0  ...  0.008    좋음  0.3     좋음  0.002\n",
              "1  2021-04-25:14     좋음    24.0     좋음    10.0  ...  0.007    좋음  0.3     좋음  0.002\n",
              "2  2021-04-25:13     좋음    27.0     좋음     8.0  ...  0.009    좋음  0.3     좋음  0.002\n",
              "3  2021-04-25:12     좋음    23.0     좋음     9.0  ...  0.009    좋음  0.3     좋음  0.002\n",
              "4  2021-04-25:11     좋음    27.0     좋음    12.0  ...  0.007    좋음  0.3     좋음  0.002\n",
              "\n",
              "[5 rows x 13 columns]"
            ]
          },
          "metadata": {
            "tags": []
          },
          "execution_count": 78
        }
      ]
    },
    {
      "cell_type": "code",
      "metadata": {
        "id": "YUnNXqXB6YMf"
      },
      "source": [
        ""
      ],
      "execution_count": null,
      "outputs": []
    },
    {
      "cell_type": "code",
      "metadata": {
        "id": "S9Cx0RbM502p",
        "colab": {
          "base_uri": "https://localhost:8080/"
        },
        "outputId": "cad0363a-6869-4a7c-b431-974fc0ad449d"
      },
      "source": [
        "data['day'] = data['날짜'].str[:-3]\n",
        "data['day'] = pd.to_datetime(data['day'])\n",
        "data.info()"
      ],
      "execution_count": 79,
      "outputs": [
        {
          "output_type": "stream",
          "text": [
            "<class 'pandas.core.frame.DataFrame'>\n",
            "RangeIndex: 591 entries, 0 to 590\n",
            "Data columns (total 14 columns):\n",
            " #   Column  Non-Null Count  Dtype         \n",
            "---  ------  --------------  -----         \n",
            " 0   날짜      591 non-null    object        \n",
            " 1   PM10_1  589 non-null    object        \n",
            " 2   PM10_2  589 non-null    float64       \n",
            " 3   PM25_1  589 non-null    object        \n",
            " 4   PM25_2  589 non-null    float64       \n",
            " 5   O3_1    589 non-null    object        \n",
            " 6   O3_2    589 non-null    float64       \n",
            " 7   NO2_1   589 non-null    object        \n",
            " 8   NO2_2   589 non-null    float64       \n",
            " 9   CO_1    589 non-null    object        \n",
            " 10  Co_2    589 non-null    float64       \n",
            " 11  SO2_1   589 non-null    object        \n",
            " 12  SO2_2   589 non-null    float64       \n",
            " 13  day     591 non-null    datetime64[ns]\n",
            "dtypes: datetime64[ns](1), float64(6), object(7)\n",
            "memory usage: 64.8+ KB\n"
          ],
          "name": "stdout"
        }
      ]
    },
    {
      "cell_type": "code",
      "metadata": {
        "id": "g_FOqiZJ6S1l",
        "colab": {
          "base_uri": "https://localhost:8080/",
          "height": 383
        },
        "outputId": "2d70dee3-4e9f-4ac7-cc40-671bf27ecbdc"
      },
      "source": [
        "data['요일'] = data['day'].dt.day_name()\n",
        "data.head()"
      ],
      "execution_count": 80,
      "outputs": [
        {
          "output_type": "execute_result",
          "data": {
            "text/html": [
              "<div>\n",
              "<style scoped>\n",
              "    .dataframe tbody tr th:only-of-type {\n",
              "        vertical-align: middle;\n",
              "    }\n",
              "\n",
              "    .dataframe tbody tr th {\n",
              "        vertical-align: top;\n",
              "    }\n",
              "\n",
              "    .dataframe thead th {\n",
              "        text-align: right;\n",
              "    }\n",
              "</style>\n",
              "<table border=\"1\" class=\"dataframe\">\n",
              "  <thead>\n",
              "    <tr style=\"text-align: right;\">\n",
              "      <th></th>\n",
              "      <th>날짜</th>\n",
              "      <th>PM10_1</th>\n",
              "      <th>PM10_2</th>\n",
              "      <th>PM25_1</th>\n",
              "      <th>PM25_2</th>\n",
              "      <th>O3_1</th>\n",
              "      <th>O3_2</th>\n",
              "      <th>NO2_1</th>\n",
              "      <th>NO2_2</th>\n",
              "      <th>CO_1</th>\n",
              "      <th>Co_2</th>\n",
              "      <th>SO2_1</th>\n",
              "      <th>SO2_2</th>\n",
              "      <th>day</th>\n",
              "      <th>요일</th>\n",
              "    </tr>\n",
              "  </thead>\n",
              "  <tbody>\n",
              "    <tr>\n",
              "      <th>0</th>\n",
              "      <td>2021-04-25:15</td>\n",
              "      <td>좋음</td>\n",
              "      <td>23.0</td>\n",
              "      <td>좋음</td>\n",
              "      <td>10.0</td>\n",
              "      <td>보통</td>\n",
              "      <td>0.050</td>\n",
              "      <td>좋음</td>\n",
              "      <td>0.008</td>\n",
              "      <td>좋음</td>\n",
              "      <td>0.3</td>\n",
              "      <td>좋음</td>\n",
              "      <td>0.002</td>\n",
              "      <td>2021-04-25</td>\n",
              "      <td>Sunday</td>\n",
              "    </tr>\n",
              "    <tr>\n",
              "      <th>1</th>\n",
              "      <td>2021-04-25:14</td>\n",
              "      <td>좋음</td>\n",
              "      <td>24.0</td>\n",
              "      <td>좋음</td>\n",
              "      <td>10.0</td>\n",
              "      <td>보통</td>\n",
              "      <td>0.049</td>\n",
              "      <td>좋음</td>\n",
              "      <td>0.007</td>\n",
              "      <td>좋음</td>\n",
              "      <td>0.3</td>\n",
              "      <td>좋음</td>\n",
              "      <td>0.002</td>\n",
              "      <td>2021-04-25</td>\n",
              "      <td>Sunday</td>\n",
              "    </tr>\n",
              "    <tr>\n",
              "      <th>2</th>\n",
              "      <td>2021-04-25:13</td>\n",
              "      <td>좋음</td>\n",
              "      <td>27.0</td>\n",
              "      <td>좋음</td>\n",
              "      <td>8.0</td>\n",
              "      <td>보통</td>\n",
              "      <td>0.046</td>\n",
              "      <td>좋음</td>\n",
              "      <td>0.009</td>\n",
              "      <td>좋음</td>\n",
              "      <td>0.3</td>\n",
              "      <td>좋음</td>\n",
              "      <td>0.002</td>\n",
              "      <td>2021-04-25</td>\n",
              "      <td>Sunday</td>\n",
              "    </tr>\n",
              "    <tr>\n",
              "      <th>3</th>\n",
              "      <td>2021-04-25:12</td>\n",
              "      <td>좋음</td>\n",
              "      <td>23.0</td>\n",
              "      <td>좋음</td>\n",
              "      <td>9.0</td>\n",
              "      <td>보통</td>\n",
              "      <td>0.043</td>\n",
              "      <td>좋음</td>\n",
              "      <td>0.009</td>\n",
              "      <td>좋음</td>\n",
              "      <td>0.3</td>\n",
              "      <td>좋음</td>\n",
              "      <td>0.002</td>\n",
              "      <td>2021-04-25</td>\n",
              "      <td>Sunday</td>\n",
              "    </tr>\n",
              "    <tr>\n",
              "      <th>4</th>\n",
              "      <td>2021-04-25:11</td>\n",
              "      <td>좋음</td>\n",
              "      <td>27.0</td>\n",
              "      <td>좋음</td>\n",
              "      <td>12.0</td>\n",
              "      <td>보통</td>\n",
              "      <td>0.044</td>\n",
              "      <td>좋음</td>\n",
              "      <td>0.007</td>\n",
              "      <td>좋음</td>\n",
              "      <td>0.3</td>\n",
              "      <td>좋음</td>\n",
              "      <td>0.002</td>\n",
              "      <td>2021-04-25</td>\n",
              "      <td>Sunday</td>\n",
              "    </tr>\n",
              "  </tbody>\n",
              "</table>\n",
              "</div>"
            ],
            "text/plain": [
              "              날짜 PM10_1  PM10_2 PM25_1  ...  SO2_1  SO2_2        day      요일\n",
              "0  2021-04-25:15     좋음    23.0     좋음  ...     좋음  0.002 2021-04-25  Sunday\n",
              "1  2021-04-25:14     좋음    24.0     좋음  ...     좋음  0.002 2021-04-25  Sunday\n",
              "2  2021-04-25:13     좋음    27.0     좋음  ...     좋음  0.002 2021-04-25  Sunday\n",
              "3  2021-04-25:12     좋음    23.0     좋음  ...     좋음  0.002 2021-04-25  Sunday\n",
              "4  2021-04-25:11     좋음    27.0     좋음  ...     좋음  0.002 2021-04-25  Sunday\n",
              "\n",
              "[5 rows x 15 columns]"
            ]
          },
          "metadata": {
            "tags": []
          },
          "execution_count": 80
        }
      ]
    },
    {
      "cell_type": "markdown",
      "metadata": {
        "id": "AtwRNNPrsr4P"
      },
      "source": [
        "\n",
        "\n",
        "---\n",
        "## 해결문제 \n",
        "\n",
        "\n",
        "---\n",
        "\n",
        "대학알리미 사이트에서 표준분류 정보 검색을 통해 '컴퓨터'관련 학과를 검색한 정보를 받아서 자료를 분석하시오.\n",
        "\n",
        "1.'대학명','학과명', '지역', '설립유형', '표준분류계열(대)'\n",
        "\n",
        "2.부산지역의 국립 대학 추출\n"
      ]
    },
    {
      "cell_type": "code",
      "metadata": {
        "colab": {
          "base_uri": "https://localhost:8080/",
          "height": 586
        },
        "id": "mfFy8xHd7HY4",
        "outputId": "25e7afd2-3d67-4a8f-c0cb-cf5b33530581"
      },
      "source": [
        "data = pd.read_excel('/content/drive/MyDrive/파이썬특강/python2021/data/표준분류정보.xlsx')\n",
        "data=data[['학과명', '대학명', '지역', '설립유형', '학교종류']] \n",
        "data"
      ],
      "execution_count": 120,
      "outputs": [
        {
          "output_type": "execute_result",
          "data": {
            "text/html": [
              "<div>\n",
              "<style scoped>\n",
              "    .dataframe tbody tr th:only-of-type {\n",
              "        vertical-align: middle;\n",
              "    }\n",
              "\n",
              "    .dataframe tbody tr th {\n",
              "        vertical-align: top;\n",
              "    }\n",
              "\n",
              "    .dataframe thead th {\n",
              "        text-align: right;\n",
              "    }\n",
              "</style>\n",
              "<table border=\"1\" class=\"dataframe\">\n",
              "  <thead>\n",
              "    <tr style=\"text-align: right;\">\n",
              "      <th></th>\n",
              "      <th>학과명</th>\n",
              "      <th>대학명</th>\n",
              "      <th>지역</th>\n",
              "      <th>설립유형</th>\n",
              "      <th>학교종류</th>\n",
              "    </tr>\n",
              "  </thead>\n",
              "  <tbody>\n",
              "    <tr>\n",
              "      <th>0</th>\n",
              "      <td>정보통신전자공학부</td>\n",
              "      <td>가톨릭대학교</td>\n",
              "      <td>경기</td>\n",
              "      <td>사립</td>\n",
              "      <td>대학교</td>\n",
              "    </tr>\n",
              "    <tr>\n",
              "      <th>1</th>\n",
              "      <td>정보통신공학과</td>\n",
              "      <td>강릉원주대학교</td>\n",
              "      <td>강원</td>\n",
              "      <td>국립</td>\n",
              "      <td>대학교</td>\n",
              "    </tr>\n",
              "    <tr>\n",
              "      <th>2</th>\n",
              "      <td>전자정보통신공학부</td>\n",
              "      <td>강원대학교</td>\n",
              "      <td>강원</td>\n",
              "      <td>국립</td>\n",
              "      <td>대학교</td>\n",
              "    </tr>\n",
              "    <tr>\n",
              "      <th>3</th>\n",
              "      <td>정보통신공학전공</td>\n",
              "      <td>강원대학교</td>\n",
              "      <td>강원</td>\n",
              "      <td>국립</td>\n",
              "      <td>대학교</td>\n",
              "    </tr>\n",
              "    <tr>\n",
              "      <th>4</th>\n",
              "      <td>스마트ICT융합공학과</td>\n",
              "      <td>건국대학교</td>\n",
              "      <td>서울</td>\n",
              "      <td>사립</td>\n",
              "      <td>대학교</td>\n",
              "    </tr>\n",
              "    <tr>\n",
              "      <th>...</th>\n",
              "      <td>...</td>\n",
              "      <td>...</td>\n",
              "      <td>...</td>\n",
              "      <td>...</td>\n",
              "      <td>...</td>\n",
              "    </tr>\n",
              "    <tr>\n",
              "      <th>510</th>\n",
              "      <td>정보통신공학과(학연산협동과정)</td>\n",
              "      <td>호서대학교 대학원</td>\n",
              "      <td>충남</td>\n",
              "      <td>사립</td>\n",
              "      <td>일반대학원</td>\n",
              "    </tr>\n",
              "    <tr>\n",
              "      <th>511</th>\n",
              "      <td>정보디스플레이공학학과간협동과정</td>\n",
              "      <td>홍익대학교 대학원</td>\n",
              "      <td>서울</td>\n",
              "      <td>사립</td>\n",
              "      <td>일반대학원</td>\n",
              "    </tr>\n",
              "    <tr>\n",
              "      <th>512</th>\n",
              "      <td>정보시스템전공</td>\n",
              "      <td>홍익대학교 스마트도시 과학경영대학원</td>\n",
              "      <td>세종</td>\n",
              "      <td>사립</td>\n",
              "      <td>특수대학원</td>\n",
              "    </tr>\n",
              "    <tr>\n",
              "      <th>513</th>\n",
              "      <td>ICT</td>\n",
              "      <td>과학기술연합대학원대학교</td>\n",
              "      <td>대전</td>\n",
              "      <td>기타</td>\n",
              "      <td>전문대학원</td>\n",
              "    </tr>\n",
              "    <tr>\n",
              "      <th>514</th>\n",
              "      <td>ICT</td>\n",
              "      <td>과학기술연합대학원대학교</td>\n",
              "      <td>대전</td>\n",
              "      <td>기타</td>\n",
              "      <td>전문대학원</td>\n",
              "    </tr>\n",
              "  </tbody>\n",
              "</table>\n",
              "<p>515 rows × 5 columns</p>\n",
              "</div>"
            ],
            "text/plain": [
              "                  학과명                  대학명  지역 설립유형   학교종류\n",
              "0           정보통신전자공학부               가톨릭대학교  경기   사립    대학교\n",
              "1             정보통신공학과              강릉원주대학교  강원   국립    대학교\n",
              "2           전자정보통신공학부                강원대학교  강원   국립    대학교\n",
              "3            정보통신공학전공                강원대학교  강원   국립    대학교\n",
              "4         스마트ICT융합공학과                건국대학교  서울   사립    대학교\n",
              "..                ...                  ...  ..  ...    ...\n",
              "510  정보통신공학과(학연산협동과정)            호서대학교 대학원  충남   사립  일반대학원\n",
              "511  정보디스플레이공학학과간협동과정            홍익대학교 대학원  서울   사립  일반대학원\n",
              "512           정보시스템전공  홍익대학교 스마트도시 과학경영대학원  세종   사립  특수대학원\n",
              "513               ICT         과학기술연합대학원대학교  대전   기타  전문대학원\n",
              "514               ICT         과학기술연합대학원대학교  대전   기타  전문대학원\n",
              "\n",
              "[515 rows x 5 columns]"
            ]
          },
          "metadata": {
            "tags": []
          },
          "execution_count": 120
        }
      ]
    },
    {
      "cell_type": "code",
      "metadata": {
        "colab": {
          "base_uri": "https://localhost:8080/",
          "height": 343
        },
        "id": "rVZaMV9x9Zuu",
        "outputId": "17db95c6-5620-463e-c386-6390428af346"
      },
      "source": [
        "data = data[(data['지역'] == '부산') & (data['설립유형'] == '국립')]\n",
        "data"
      ],
      "execution_count": 121,
      "outputs": [
        {
          "output_type": "execute_result",
          "data": {
            "text/html": [
              "<div>\n",
              "<style scoped>\n",
              "    .dataframe tbody tr th:only-of-type {\n",
              "        vertical-align: middle;\n",
              "    }\n",
              "\n",
              "    .dataframe tbody tr th {\n",
              "        vertical-align: top;\n",
              "    }\n",
              "\n",
              "    .dataframe thead th {\n",
              "        text-align: right;\n",
              "    }\n",
              "</style>\n",
              "<table border=\"1\" class=\"dataframe\">\n",
              "  <thead>\n",
              "    <tr style=\"text-align: right;\">\n",
              "      <th></th>\n",
              "      <th>학과명</th>\n",
              "      <th>대학명</th>\n",
              "      <th>지역</th>\n",
              "      <th>설립유형</th>\n",
              "      <th>학교종류</th>\n",
              "    </tr>\n",
              "  </thead>\n",
              "  <tbody>\n",
              "    <tr>\n",
              "      <th>69</th>\n",
              "      <td>정보통신공학과</td>\n",
              "      <td>부경대학교</td>\n",
              "      <td>부산</td>\n",
              "      <td>국립</td>\n",
              "      <td>대학교</td>\n",
              "    </tr>\n",
              "    <tr>\n",
              "      <th>137</th>\n",
              "      <td>제어자동화공학부(IT융합전공)</td>\n",
              "      <td>한국해양대학교</td>\n",
              "      <td>부산</td>\n",
              "      <td>국립</td>\n",
              "      <td>대학교</td>\n",
              "    </tr>\n",
              "    <tr>\n",
              "      <th>138</th>\n",
              "      <td>전자전기정보공학부(전파융합공학전공)</td>\n",
              "      <td>한국해양대학교</td>\n",
              "      <td>부산</td>\n",
              "      <td>국립</td>\n",
              "      <td>대학교</td>\n",
              "    </tr>\n",
              "    <tr>\n",
              "      <th>380</th>\n",
              "      <td>정보통신공학과</td>\n",
              "      <td>부경대학교 대학원</td>\n",
              "      <td>부산</td>\n",
              "      <td>국립</td>\n",
              "      <td>일반대학원</td>\n",
              "    </tr>\n",
              "    <tr>\n",
              "      <th>381</th>\n",
              "      <td>정보시스템학과</td>\n",
              "      <td>부경대학교 대학원</td>\n",
              "      <td>부산</td>\n",
              "      <td>국립</td>\n",
              "      <td>일반대학원</td>\n",
              "    </tr>\n",
              "    <tr>\n",
              "      <th>382</th>\n",
              "      <td>정보보호학과</td>\n",
              "      <td>부경대학교 대학원</td>\n",
              "      <td>부산</td>\n",
              "      <td>국립</td>\n",
              "      <td>일반대학원</td>\n",
              "    </tr>\n",
              "    <tr>\n",
              "      <th>383</th>\n",
              "      <td>전자정보통신공학과</td>\n",
              "      <td>부경대학교 산업대학원</td>\n",
              "      <td>부산</td>\n",
              "      <td>국립</td>\n",
              "      <td>특수대학원</td>\n",
              "    </tr>\n",
              "    <tr>\n",
              "      <th>489</th>\n",
              "      <td>전자통신공학과</td>\n",
              "      <td>한국해양대학교 대학원</td>\n",
              "      <td>부산</td>\n",
              "      <td>국립</td>\n",
              "      <td>일반대학원</td>\n",
              "    </tr>\n",
              "    <tr>\n",
              "      <th>490</th>\n",
              "      <td>전파공학과</td>\n",
              "      <td>한국해양대학교 대학원</td>\n",
              "      <td>부산</td>\n",
              "      <td>국립</td>\n",
              "      <td>일반대학원</td>\n",
              "    </tr>\n",
              "    <tr>\n",
              "      <th>491</th>\n",
              "      <td>해사IT공학과</td>\n",
              "      <td>한국해양대학교 대학원</td>\n",
              "      <td>부산</td>\n",
              "      <td>국립</td>\n",
              "      <td>일반대학원</td>\n",
              "    </tr>\n",
              "  </tbody>\n",
              "</table>\n",
              "</div>"
            ],
            "text/plain": [
              "                     학과명          대학명  지역 설립유형   학교종류\n",
              "69               정보통신공학과        부경대학교  부산   국립    대학교\n",
              "137     제어자동화공학부(IT융합전공)      한국해양대학교  부산   국립    대학교\n",
              "138  전자전기정보공학부(전파융합공학전공)      한국해양대학교  부산   국립    대학교\n",
              "380              정보통신공학과    부경대학교 대학원  부산   국립  일반대학원\n",
              "381              정보시스템학과    부경대학교 대학원  부산   국립  일반대학원\n",
              "382               정보보호학과    부경대학교 대학원  부산   국립  일반대학원\n",
              "383            전자정보통신공학과  부경대학교 산업대학원  부산   국립  특수대학원\n",
              "489              전자통신공학과  한국해양대학교 대학원  부산   국립  일반대학원\n",
              "490                전파공학과  한국해양대학교 대학원  부산   국립  일반대학원\n",
              "491              해사IT공학과  한국해양대학교 대학원  부산   국립  일반대학원"
            ]
          },
          "metadata": {
            "tags": []
          },
          "execution_count": 121
        }
      ]
    }
  ]
}